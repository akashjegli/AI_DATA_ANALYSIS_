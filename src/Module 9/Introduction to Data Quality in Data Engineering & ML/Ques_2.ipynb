{
 "cells": [
  {
   "cell_type": "markdown",
   "metadata": {},
   "source": [
    "### Imputing Missing Data\n",
    "**Description**: Impute missing data using various strategies like mean, median, or mode."
   ]
  },
  {
   "cell_type": "code",
   "execution_count": 1,
   "metadata": {},
   "outputs": [
    {
     "name": "stdout",
     "output_type": "stream",
     "text": [
      "    Age   Salary Department\n",
      "0  25.0  50000.0         HR\n",
      "1  27.0  54000.0    Finance\n",
      "2  28.0  58000.0         HR\n",
      "3  29.0  56000.0         HR\n",
      "4  30.0  62000.0         IT\n"
     ]
    }
   ],
   "source": [
    "# Write your code from here\n",
    "import pandas as pd\n",
    "import numpy as np\n",
    "from sklearn.impute import SimpleImputer\n",
    "\n",
    "# Function to impute missing values in specific columns\n",
    "def impute_missing_values(df):\n",
    "    # Check if required columns exist in the dataframe\n",
    "    if 'Age' not in df.columns or 'Salary' not in df.columns or 'Department' not in df.columns:\n",
    "        raise ValueError(\"DataFrame must contain 'Age', 'Salary', and 'Department' columns.\")\n",
    "    \n",
    "    # Check if 'Age' and 'Salary' columns contain numeric data\n",
    "    if not pd.api.types.is_numeric_dtype(df['Age']):\n",
    "        raise ValueError(\"'Age' column should contain numeric data.\")\n",
    "    if not pd.api.types.is_numeric_dtype(df['Salary']):\n",
    "        raise ValueError(\"'Salary' column should contain numeric data.\")\n",
    "    \n",
    "    # Impute missing values in 'Age' using the median strategy\n",
    "    median_imputer = SimpleImputer(strategy='median')\n",
    "    df['Age'] = median_imputer.fit_transform(df[['Age']])\n",
    "    \n",
    "    # Impute missing values in 'Salary' using the mean strategy\n",
    "    mean_imputer = SimpleImputer(strategy='mean')\n",
    "    df['Salary'] = mean_imputer.fit_transform(df[['Salary']])\n",
    "\n",
    "    # Impute missing values in 'Department' using the mode (most frequent) strategy\n",
    "    mode_imputer = SimpleImputer(strategy='most_frequent')\n",
    "    df['Department'] = mode_imputer.fit_transform(df[['Department']]).ravel()\n",
    "\n",
    "    return df\n",
    "\n",
    "# Sample dataset with missing values\n",
    "data = {\n",
    "    'Age': [25, 27, np.nan, 29, 30],\n",
    "    'Salary': [50000, 54000, 58000, np.nan, 62000],\n",
    "    'Department': ['HR', 'Finance', 'HR', np.nan, 'IT']\n",
    "}\n",
    "\n",
    "# Create the DataFrame\n",
    "df = pd.DataFrame(data)\n",
    "\n",
    "# Call the function to impute missing values\n",
    "df = impute_missing_values(df)\n",
    "\n",
    "# Print the result\n",
    "print(df)"
   ]
  }
 ],
 "metadata": {
  "kernelspec": {
   "display_name": "Python 3",
   "language": "python",
   "name": "python3"
  },
  "language_info": {
   "codemirror_mode": {
    "name": "ipython",
    "version": 3
   },
   "file_extension": ".py",
   "mimetype": "text/x-python",
   "name": "python",
   "nbconvert_exporter": "python",
   "pygments_lexer": "ipython3",
   "version": "3.10.12"
  }
 },
 "nbformat": 4,
 "nbformat_minor": 2
}
