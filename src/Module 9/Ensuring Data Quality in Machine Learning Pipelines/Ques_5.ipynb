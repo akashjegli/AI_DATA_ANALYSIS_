{
 "cells": [
  {
   "cell_type": "markdown",
   "metadata": {},
   "source": [
    "### Ensuring Consistency Across Training & Inference Datasets: Feature Scaling\n",
    "**Question**: Load a dataset (e.g., Boston Housing) and perform feature scaling. Ensure the\n",
    "same scaling is applied during model inference with new data."
   ]
  },
  {
   "cell_type": "code",
   "execution_count": 1,
   "metadata": {},
   "outputs": [
    {
     "name": "stdout",
     "output_type": "stream",
     "text": [
      "Predicted Median House Value: 4.15\n"
     ]
    }
   ],
   "source": [
    "# write your code from here\n",
    "# --- Step 1: Import Required Libraries ---\n",
    "import pandas as pd\n",
    "import numpy as np\n",
    "from sklearn.datasets import fetch_california_housing\n",
    "from sklearn.model_selection import train_test_split\n",
    "from sklearn.preprocessing import StandardScaler\n",
    "from sklearn.linear_model import LinearRegression\n",
    "import joblib\n",
    "\n",
    "# --- Step 2: Load Dataset with Error Handling ---\n",
    "def load_data():\n",
    "    try:\n",
    "        data = fetch_california_housing()\n",
    "        X = pd.DataFrame(data.data, columns=data.feature_names)\n",
    "        y = pd.Series(data.target, name=\"MedHouseValue\")\n",
    "        return X, y\n",
    "    except Exception as e:\n",
    "        print(f\"Error loading dataset: {e}\")\n",
    "        return pd.DataFrame(), pd.Series()\n",
    "\n",
    "X, y = load_data()\n",
    "\n",
    "# --- Step 3: Check for Missing Values ---\n",
    "if X.isnull().sum().sum() > 0 or y.isnull().sum() > 0:\n",
    "    print(\"Missing values found. Handling them...\")\n",
    "    X.fillna(X.mean(), inplace=True)\n",
    "    y.fillna(y.mean(), inplace=True)\n",
    "\n",
    "# --- Step 4: Train-Test Split ---\n",
    "try:\n",
    "    X_train, X_test, y_train, y_test = train_test_split(X, y, test_size=0.2, random_state=42)\n",
    "except ValueError as e:\n",
    "    print(f\"Error in train-test split: {e}\")\n",
    "    X_train = X_test = y_train = y_test = pd.DataFrame()\n",
    "\n",
    "# --- Step 5: Feature Scaling with Error Handling ---\n",
    "scaler = StandardScaler()\n",
    "try:\n",
    "    X_train_scaled = scaler.fit_transform(X_train)\n",
    "    X_test_scaled = scaler.transform(X_test)\n",
    "except Exception as e:\n",
    "    print(f\"Error during scaling: {e}\")\n",
    "    X_train_scaled = X_test_scaled = np.array([])\n",
    "\n",
    "# --- Step 6: Train Model ---\n",
    "model = LinearRegression()\n",
    "try:\n",
    "    model.fit(X_train_scaled, y_train)\n",
    "except Exception as e:\n",
    "    print(f\"Error training model: {e}\")\n",
    "\n",
    "# --- Step 7: Inference on New Data (Simulate One Row) ---\n",
    "def predict_new_data(new_data):\n",
    "    try:\n",
    "        if new_data.isnull().sum().sum() > 0:\n",
    "            print(\"New data has missing values. Filling with mean.\")\n",
    "            new_data.fillna(X.mean(), inplace=True)\n",
    "        new_data_scaled = scaler.transform(new_data)\n",
    "        prediction = model.predict(new_data_scaled)\n",
    "        return prediction[0]\n",
    "    except Exception as e:\n",
    "        print(f\"Prediction error: {e}\")\n",
    "        return None\n",
    "\n",
    "new_data = X.iloc[[0]]  # simulate one new data row\n",
    "predicted_value = predict_new_data(new_data)\n",
    "\n",
    "if predicted_value is not None:\n",
    "    print(f\"Predicted Median House Value: {predicted_value:.2f}\")\n",
    "\n",
    "# --- Step 8: Save Model & Scaler ---\n",
    "try:\n",
    "    joblib.dump(model, 'california_model.pkl')\n",
    "    joblib.dump(scaler, 'california_scaler.pkl')\n",
    "except Exception as e:\n",
    "    print(f\"Error saving model or scaler: {e}\")"
   ]
  }
 ],
 "metadata": {
  "kernelspec": {
   "display_name": "Python 3",
   "language": "python",
   "name": "python3"
  },
  "language_info": {
   "codemirror_mode": {
    "name": "ipython",
    "version": 3
   },
   "file_extension": ".py",
   "mimetype": "text/x-python",
   "name": "python",
   "nbconvert_exporter": "python",
   "pygments_lexer": "ipython3",
   "version": "3.10.12"
  }
 },
 "nbformat": 4,
 "nbformat_minor": 2
}
