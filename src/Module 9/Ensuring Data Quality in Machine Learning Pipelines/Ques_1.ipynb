{
 "cells": [
  {
   "cell_type": "markdown",
   "metadata": {},
   "source": [
    "### Garbage In, Garbage Out (GIGO): Cleaning Missing Data\n",
    "**Description**: Load a dataset (e.g., Titanic dataset) and identify missing values. Use\n",
    "appropriate techniques to handle these missing values."
   ]
  },
  {
   "cell_type": "code",
   "execution_count": 1,
   "metadata": {},
   "outputs": [
    {
     "ename": "ModuleNotFoundError",
     "evalue": "No module named 'missingno'",
     "output_type": "error",
     "traceback": [
      "\u001b[0;31m---------------------------------------------------------------------------\u001b[0m",
      "\u001b[0;31mModuleNotFoundError\u001b[0m                       Traceback (most recent call last)",
      "Cell \u001b[0;32mIn[1], line 9\u001b[0m\n\u001b[1;32m      4\u001b[0m \u001b[38;5;28;01mimport\u001b[39;00m\u001b[38;5;250m \u001b[39m\u001b[38;5;21;01mmatplotlib\u001b[39;00m\u001b[38;5;21;01m.\u001b[39;00m\u001b[38;5;21;01mpyplot\u001b[39;00m\u001b[38;5;250m \u001b[39m\u001b[38;5;28;01mas\u001b[39;00m\u001b[38;5;250m \u001b[39m\u001b[38;5;21;01mplt\u001b[39;00m\n\u001b[1;32m      6\u001b[0m \u001b[38;5;66;03m# Optional: Uncomment below if missingno is not installed\u001b[39;00m\n\u001b[1;32m      7\u001b[0m \u001b[38;5;66;03m# !pip install missingno\u001b[39;00m\n\u001b[0;32m----> 9\u001b[0m \u001b[38;5;28;01mimport\u001b[39;00m\u001b[38;5;250m \u001b[39m\u001b[38;5;21;01mmissingno\u001b[39;00m\u001b[38;5;250m \u001b[39m\u001b[38;5;28;01mas\u001b[39;00m\u001b[38;5;250m \u001b[39m\u001b[38;5;21;01mmsno\u001b[39;00m\n\u001b[1;32m     11\u001b[0m \u001b[38;5;66;03m# --- Step 2: Load the Titanic Dataset ---\u001b[39;00m\n\u001b[1;32m     12\u001b[0m df \u001b[38;5;241m=\u001b[39m sns\u001b[38;5;241m.\u001b[39mload_dataset(\u001b[38;5;124m'\u001b[39m\u001b[38;5;124mtitanic\u001b[39m\u001b[38;5;124m'\u001b[39m)\n",
      "\u001b[0;31mModuleNotFoundError\u001b[0m: No module named 'missingno'"
     ]
    }
   ],
   "source": [
    "# --- Step 1: Import Required Libraries ---\n",
    "import pandas as pd\n",
    "import seaborn as sns\n",
    "import matplotlib.pyplot as plt\n",
    "\n",
    "# Optional: Uncomment below if missingno is not installed\n",
    "# !pip install missingno\n",
    "\n",
    "import missingno as msno\n",
    "\n",
    "# --- Step 2: Load the Titanic Dataset ---\n",
    "df = sns.load_dataset('titanic')\n",
    "print(\"Initial Dataset Shape:\", df.shape)\n",
    "display(df.head())\n",
    "\n",
    "# --- Step 3: Check for Missing Values ---\n",
    "print(\"\\nMissing Values Per Column:\\n\")\n",
    "print(df.isnull().sum())\n",
    "\n",
    "# --- Step 4: Visualize Missing Data ---\n",
    "msno.matrix(df)\n",
    "plt.title(\"Missing Values Visualization\")\n",
    "plt.show()\n",
    "\n",
    "# --- Step 5: Drop Columns with Too Many Missing Values ---\n",
    "threshold = 0.5  # Drop columns with more than 50% missing data\n",
    "cols_to_drop = [col for col in df.columns if df[col].isnull().mean() > threshold]\n",
    "df.drop(columns=cols_to_drop, inplace=True)\n",
    "print(\"\\nDropped Columns:\", cols_to_drop)\n",
    "\n",
    "# --- Step 6: Fill Remaining Missing Values ---\n",
    "\n",
    "# Fill numeric column 'age' with median\n",
    "df['age'].fillna(df['age'].median(), inplace=True)\n",
    "\n",
    "# Fill categorical columns with mode\n",
    "df['embarked'].fillna(df['embarked'].mode()[0], inplace=True)\n",
    "\n",
    "# For 'embark_town', ensure 'Unknown' is added to the categories before filling\n",
    "if df['embark_town'].dtype.name == 'category':\n",
    "    df['embark_town'] = df['embark_town'].cat.add_categories('Unknown')\n",
    "\n",
    "df['embark_town'].fillna('Unknown', inplace=True)\n",
    "\n",
    "# Just in case any are still left (safety net)\n",
    "df.fillna(\"Unknown\", inplace=True)\n",
    "\n",
    "# --- Step 7: Verify Cleanup ---\n",
    "print(\"\\nRemaining Missing Values After Cleaning:\\n\")\n",
    "print(df.isnull().sum())\n",
    "print(\"\\nFinal Dataset Shape:\", df.shape)"
   ]
  }
 ],
 "metadata": {
  "kernelspec": {
   "display_name": "Python 3",
   "language": "python",
   "name": "python3"
  },
  "language_info": {
   "codemirror_mode": {
    "name": "ipython",
    "version": 3
   },
   "file_extension": ".py",
   "mimetype": "text/x-python",
   "name": "python",
   "nbconvert_exporter": "python",
   "pygments_lexer": "ipython3",
   "version": "3.10.12"
  }
 },
 "nbformat": 4,
 "nbformat_minor": 2
}
