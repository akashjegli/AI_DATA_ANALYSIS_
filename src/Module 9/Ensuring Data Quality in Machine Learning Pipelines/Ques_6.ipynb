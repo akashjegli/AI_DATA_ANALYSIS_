{
 "cells": [
  {
   "cell_type": "markdown",
   "metadata": {},
   "source": [
    "### Bias & Fairness in Data: Bias Mitigation Techniques\n",
    "**Question**: Use the Adult Income dataset and apply reweighing technique to balance the\n",
    "class weights based on sensitive attributes (e.g., gender)."
   ]
  },
  {
   "cell_type": "code",
   "execution_count": 1,
   "metadata": {},
   "outputs": [
    {
     "ename": "ModuleNotFoundError",
     "evalue": "No module named 'aif360'",
     "output_type": "error",
     "traceback": [
      "\u001b[0;31m---------------------------------------------------------------------------\u001b[0m",
      "\u001b[0;31mModuleNotFoundError\u001b[0m                       Traceback (most recent call last)",
      "Cell \u001b[0;32mIn[1], line 4\u001b[0m\n\u001b[1;32m      2\u001b[0m \u001b[38;5;28;01mimport\u001b[39;00m\u001b[38;5;250m \u001b[39m\u001b[38;5;21;01mpandas\u001b[39;00m\u001b[38;5;250m \u001b[39m\u001b[38;5;28;01mas\u001b[39;00m\u001b[38;5;250m \u001b[39m\u001b[38;5;21;01mpd\u001b[39;00m\n\u001b[1;32m      3\u001b[0m \u001b[38;5;28;01mimport\u001b[39;00m\u001b[38;5;250m \u001b[39m\u001b[38;5;21;01mnumpy\u001b[39;00m\u001b[38;5;250m \u001b[39m\u001b[38;5;28;01mas\u001b[39;00m\u001b[38;5;250m \u001b[39m\u001b[38;5;21;01mnp\u001b[39;00m\n\u001b[0;32m----> 4\u001b[0m \u001b[38;5;28;01mfrom\u001b[39;00m\u001b[38;5;250m \u001b[39m\u001b[38;5;21;01maif360\u001b[39;00m\u001b[38;5;21;01m.\u001b[39;00m\u001b[38;5;21;01mdatasets\u001b[39;00m\u001b[38;5;250m \u001b[39m\u001b[38;5;28;01mimport\u001b[39;00m StandardDataset\n\u001b[1;32m      5\u001b[0m \u001b[38;5;28;01mfrom\u001b[39;00m\u001b[38;5;250m \u001b[39m\u001b[38;5;21;01maif360\u001b[39;00m\u001b[38;5;21;01m.\u001b[39;00m\u001b[38;5;21;01malgorithms\u001b[39;00m\u001b[38;5;21;01m.\u001b[39;00m\u001b[38;5;21;01mpreprocessing\u001b[39;00m\u001b[38;5;250m \u001b[39m\u001b[38;5;28;01mimport\u001b[39;00m Reweighing\n\u001b[1;32m      6\u001b[0m \u001b[38;5;28;01mfrom\u001b[39;00m\u001b[38;5;250m \u001b[39m\u001b[38;5;21;01msklearn\u001b[39;00m\u001b[38;5;21;01m.\u001b[39;00m\u001b[38;5;21;01mmodel_selection\u001b[39;00m\u001b[38;5;250m \u001b[39m\u001b[38;5;28;01mimport\u001b[39;00m train_test_split\n",
      "\u001b[0;31mModuleNotFoundError\u001b[0m: No module named 'aif360'"
     ]
    }
   ],
   "source": [
    "# write your code from here\n",
    "import pandas as pd\n",
    "import numpy as np\n",
    "from aif360.datasets import StandardDataset\n",
    "from aif360.algorithms.preprocessing import Reweighing\n",
    "from sklearn.model_selection import train_test_split\n",
    "\n",
    "# Load Dataset\n",
    "try:\n",
    "    df = pd.read_csv('adult.csv')  # Change path if needed\n",
    "    print(\"Dataset loaded successfully.\")\n",
    "except FileNotFoundError:\n",
    "    raise FileNotFoundError(\"Dataset file not found. Please check the file path.\")\n",
    "\n",
    "# Handle Missing Values\n",
    "if df.isnull().sum().sum() > 0:\n",
    "    print(\"Missing values found! Applying forward fill...\")\n",
    "    df.fillna(method='ffill', inplace=True)\n",
    "\n",
    "# Encode categorical variables\n",
    "try:\n",
    "    df['income'] = df['income'].apply(lambda x: 1 if '>50K' in x else 0)\n",
    "    df['sex'] = df['sex'].apply(lambda x: 1 if x.strip().lower() == 'male' else 0)\n",
    "except Exception as e:\n",
    "    raise ValueError(f\"Encoding error: {e}\")\n",
    "\n",
    "# Assertion Checks\n",
    "assert 'sex' in df.columns, \"Sensitive attribute 'sex' not found.\"\n",
    "assert set(df['income'].unique()) == {0, 1}, \"Target variable 'income' not binary encoded correctly.\"\n",
    "\n",
    "# Split data\n",
    "train_df, test_df = train_test_split(df, test_size=0.3, random_state=42)\n",
    "\n",
    "assert len(train_df) > 0 and len(test_df) > 0, \"Train/Test split failed — empty dataset encountered.\"\n",
    "\n",
    "# Convert to AIF360 StandardDataset\n",
    "privileged_groups = [{'sex': 1}]\n",
    "unprivileged_groups = [{'sex': 0}]\n",
    "\n",
    "train_data = StandardDataset(train_df,\n",
    "                             label_name='income',\n",
    "                             favorable_classes=[1],\n",
    "                             protected_attribute_names=['sex'],\n",
    "                             privileged_classes=[[1]])\n",
    "\n",
    "# Apply Reweighing\n",
    "RW = Reweighing(unprivileged_groups=unprivileged_groups,\n",
    "                privileged_groups=privileged_groups)\n",
    "\n",
    "RW.fit(train_data)\n",
    "train_transf = RW.transform(train_data)\n",
    "\n",
    "# Unit Test for instance weights\n",
    "def test_reweighing_weights(dataset):\n",
    "    weights = dataset.instance_weights\n",
    "    assert weights is not None, \"Instance weights are None after reweighing.\"\n",
    "    assert np.all(weights >= 0), \"Negative weights detected in reweighed dataset.\"\n",
    "    print(\"✅ Reweighing unit test passed.\")\n",
    "\n",
    "test_reweighing_weights(train_transf)"
   ]
  }
 ],
 "metadata": {
  "kernelspec": {
   "display_name": "Python 3",
   "language": "python",
   "name": "python3"
  },
  "language_info": {
   "codemirror_mode": {
    "name": "ipython",
    "version": 3
   },
   "file_extension": ".py",
   "mimetype": "text/x-python",
   "name": "python",
   "nbconvert_exporter": "python",
   "pygments_lexer": "ipython3",
   "version": "3.10.12"
  }
 },
 "nbformat": 4,
 "nbformat_minor": 2
}
