{
 "cells": [
  {
   "cell_type": "markdown",
   "metadata": {},
   "source": [
    "### Implementing Data Validation using Protobuf in a Distributed System\n",
    "**Description**: Use gRPC to implement a distributed system that validates messages using\n",
    "Protobuf.\n",
    "\n",
    "**Steps**:\n",
    "1. Create a .proto file for gRPC service.\n",
    "2. Implement server-side validation\n",
    "    - Create a gRPC server\n",
    "    - Bind the server to an address\n",
    "    - Start server"
   ]
  },
  {
   "cell_type": "code",
   "execution_count": 1,
   "metadata": {},
   "outputs": [
    {
     "ename": "ModuleNotFoundError",
     "evalue": "No module named 'google'",
     "output_type": "error",
     "traceback": [
      "\u001b[0;31m---------------------------------------------------------------------------\u001b[0m",
      "\u001b[0;31mModuleNotFoundError\u001b[0m                       Traceback (most recent call last)",
      "Cell \u001b[0;32mIn[1], line 4\u001b[0m\n\u001b[1;32m      1\u001b[0m \u001b[38;5;66;03m# Write your code from here\u001b[39;00m\n\u001b[1;32m      2\u001b[0m \u001b[38;5;66;03m# Ques_5.ipynb – Pure‐Python Protobuf Validation (no grpc_tools needed)\u001b[39;00m\n\u001b[0;32m----> 4\u001b[0m \u001b[38;5;28;01mfrom\u001b[39;00m\u001b[38;5;250m \u001b[39m\u001b[38;5;21;01mgoogle\u001b[39;00m\u001b[38;5;21;01m.\u001b[39;00m\u001b[38;5;21;01mprotobuf\u001b[39;00m\u001b[38;5;250m \u001b[39m\u001b[38;5;28;01mimport\u001b[39;00m descriptor_pb2, descriptor_pool, message_factory\n\u001b[1;32m      5\u001b[0m \u001b[38;5;28;01mimport\u001b[39;00m\u001b[38;5;250m \u001b[39m\u001b[38;5;21;01mpandas\u001b[39;00m\u001b[38;5;250m \u001b[39m\u001b[38;5;28;01mas\u001b[39;00m\u001b[38;5;250m \u001b[39m\u001b[38;5;21;01mpd\u001b[39;00m\n\u001b[1;32m      7\u001b[0m \u001b[38;5;66;03m# --- 1. Dynamically Define a Protobuf Schema via DescriptorProto ---\u001b[39;00m\n",
      "\u001b[0;31mModuleNotFoundError\u001b[0m: No module named 'google'"
     ]
    }
   ],
   "source": [
    "# Write your code from here\n",
    "# Ques_5.ipynb – Pure‐Python Protobuf Validation (no grpc_tools needed)\n",
    "\n",
    "from google.protobuf import descriptor_pb2, descriptor_pool, message_factory\n",
    "import pandas as pd\n",
    "\n",
    "# --- 1. Dynamically Define a Protobuf Schema via DescriptorProto ---\n",
    "\n",
    "file_desc = descriptor_pb2.FileDescriptorProto()\n",
    "file_desc.name = 'customer.proto'\n",
    "file_desc.package = 'customer_package'\n",
    "msg_type = file_desc.message_type.add()\n",
    "msg_type.name = 'Customer'\n",
    "\n",
    "# Define fields: (name, number, type)\n",
    "fields = [\n",
    "    ('customer_id', 1, descriptor_pb2.FieldDescriptorProto.TYPE_INT32),\n",
    "    ('name',        2, descriptor_pb2.FieldDescriptorProto.TYPE_STRING),\n",
    "    ('email',       3, descriptor_pb2.FieldDescriptorProto.TYPE_STRING),\n",
    "    ('balance',     4, descriptor_pb2.FieldDescriptorProto.TYPE_FLOAT),\n",
    "    ('is_active',   5, descriptor_pb2.FieldDescriptorProto.TYPE_BOOL),\n",
    "]\n",
    "\n",
    "for name, num, ftype in fields:\n",
    "    fld = msg_type.field.add()\n",
    "    fld.name   = name\n",
    "    fld.number = num\n",
    "    fld.label  = descriptor_pb2.FieldDescriptorProto.LABEL_OPTIONAL\n",
    "    fld.type   = ftype\n",
    "\n",
    "# Register in a Pool and get a Python class\n",
    "pool = descriptor_pool.DescriptorPool()\n",
    "file_md = pool.Add(file_desc)\n",
    "cust_desc = pool.FindMessageTypeByName('customer_package.Customer')\n",
    "\n",
    "# Correctly create the prototype (message class)\n",
    "CustomerMessage = message_factory.MessageFactory(pool).CreatePrototype(cust_desc)\n",
    "\n",
    "# --- 2. Sample Records to Validate ---\n",
    "\n",
    "records = [\n",
    "    {\"customer_id\": 1, \"name\": \"Alice\",   \"email\": \"alice@example.com\", \"balance\": 120.0, \"is_active\": True},\n",
    "    {\"customer_id\": 2, \"name\": \"Bob\",     \"email\": \"bob@example.com\",   \"balance\":  75.5, \"is_active\": False},\n",
    "    {\"customer_id\": 3, \"name\": \"\",        \"email\": \"charlie@\",         \"balance\": -10.0, \"is_active\": True},  # invalid\n",
    "    {\"customer_id\": 4, \"name\": \"Dana\",    \"email\": \"dana@example.com\",  \"balance\": \"n/a\", \"is_active\": True},  # invalid\n",
    "]\n",
    "\n",
    "# --- 3. Validation & Encoding Loop ---\n",
    "\n",
    "valid = []\n",
    "invalid = []\n",
    "\n",
    "for rec in records:\n",
    "    try:\n",
    "        # Attempt to construct + serialize the message\n",
    "        msg = CustomerMessage(**rec)\n",
    "        # double‐check types by serializing to bytes\n",
    "        _ = msg.SerializeToString()\n",
    "        valid.append(rec)\n",
    "    except Exception as e:\n",
    "        invalid.append((rec, str(e)))\n",
    "\n",
    "# --- 4. Display Results ---\n",
    "\n",
    "print(\"✅ Valid Records:\")\n",
    "for v in valid:\n",
    "    print(\" \", v)\n",
    "\n",
    "print(\"\\n❌ Invalid Records:\")\n",
    "for v, err in invalid:\n",
    "    print(\" \", v, \"\\n    →\", err)\n",
    "\n",
    "# --- 5. Build a DataFrame of Only the Valid Records ---\n",
    "\n",
    "df_valid = pd.DataFrame(valid)\n",
    "print(\"\\n📘 Valid Records DataFrame:\")\n",
    "print(df_valid)"
   ]
  }
 ],
 "metadata": {
  "kernelspec": {
   "display_name": "Python 3",
   "language": "python",
   "name": "python3"
  },
  "language_info": {
   "codemirror_mode": {
    "name": "ipython",
    "version": 3
   },
   "file_extension": ".py",
   "mimetype": "text/x-python",
   "name": "python",
   "nbconvert_exporter": "python",
   "pygments_lexer": "ipython3",
   "version": "3.10.12"
  }
 },
 "nbformat": 4,
 "nbformat_minor": 2
}
