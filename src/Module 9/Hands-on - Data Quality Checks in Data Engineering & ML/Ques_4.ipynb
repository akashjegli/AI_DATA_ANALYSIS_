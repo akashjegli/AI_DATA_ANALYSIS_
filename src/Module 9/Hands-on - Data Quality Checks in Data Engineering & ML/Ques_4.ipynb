{
 "cells": [
  {
   "cell_type": "markdown",
   "metadata": {},
   "source": [
    "## Detect Schema Mismatches in Data Pipelines\n",
    "**Objective**: Identify and resolve schema mismatches that commonly occur in data pipelines.\n",
    "\n",
    "**Task**: Column Name Mismatch\n",
    "\n",
    "**Steps**:\n",
    "1. Load the source DataFrame with the below schema:\n",
    "    - id : Integer\n",
    "    - name : String\n",
    "    - age : Integer\n",
    "2. Load the target DataFrame with the below schema:\n",
    "    - id : Integer\n",
    "    - fullname : String\n",
    "    - age : Integer\n",
    "3. Use a schema comparison tool or write a simple function to detect mismatches in column names.\n",
    "4. Resolve the mismatch by renaming the `fullname` column in the target DataFrame to `name` ."
   ]
  },
  {
   "cell_type": "code",
   "execution_count": null,
   "metadata": {},
   "outputs": [
    {
     "name": "stdout",
     "output_type": "stream",
     "text": [
      "Columns only in source: {'name'}\n",
      "Columns only in target: {'fullname'}\n",
      "\n",
      "After resolving:\n",
      "Columns only in source: set()\n",
      "Columns only in target: set()\n",
      "\n",
      "Combined DataFrame:\n",
      "   id     name  age\n",
      "0   1    Alice   25\n",
      "1   2      Bob   30\n",
      "2   3  Charlie   35\n",
      "3   4    David   28\n",
      "4   5      Eve   32\n",
      "5   6    Frank   38\n"
     ]
    }
   ],
   "source": [
    "# write your code from here\n",
    "import pandas as pd\n",
    "\n",
    "# Step 1: Load the source DataFrame\n",
    "source_df = pd.DataFrame({\n",
    "    'id': [1, 2, 3],\n",
    "    'name': ['Alice', 'Bob', 'Charlie'],\n",
    "    'age': [25, 30, 35]\n",
    "})\n",
    "\n",
    "# Step 2: Load the target DataFrame with a mismatched column name\n",
    "target_df = pd.DataFrame({\n",
    "    'id': [4, 5, 6],\n",
    "    'fullname': ['David', 'Eve', 'Frank'],\n",
    "    'age': [28, 32, 38]\n",
    "})\n",
    "\n",
    "# Step 3: Detect column name mismatches\n",
    "def detect_column_mismatches(df1, df2):\n",
    "    cols_df1 = set(df1.columns)\n",
    "    cols_df2 = set(df2.columns)\n",
    "    only_in_df1 = cols_df1 - cols_df2\n",
    "    only_in_df2 = cols_df2 - cols_df1\n",
    "    return only_in_df1, only_in_df2\n",
    "\n",
    "source_only, target_only = detect_column_mismatches(source_df, target_df)\n",
    "\n",
    "print(\"Columns only in source:\", source_only)\n",
    "print(\"Columns only in target:\", target_only)\n",
    "\n",
    "# Step 4: Resolve the mismatch\n",
    "# Assuming 'fullname' should be renamed to 'name'\n",
    "if 'fullname' in target_df.columns:\n",
    "    target_df.rename(columns={'fullname': 'name'}, inplace=True)\n",
    "\n",
    "# Step 5: Verify schema alignment\n",
    "updated_source_only, updated_target_only = detect_column_mismatches(source_df, target_df)\n",
    "\n",
    "print(\"\\nAfter resolving:\")\n",
    "print(\"Columns only in source:\", updated_source_only)\n",
    "print(\"Columns only in target:\", updated_target_only)\n",
    "\n",
    "# Step 6: Combine or align the DataFrames (optional)\n",
    "combined_df = pd.concat([source_df, target_df], ignore_index=True)\n",
    "print(\"\\nCombined DataFrame:\")\n",
    "print(combined_df)\n"
   ]
  }
 ],
 "metadata": {
  "kernelspec": {
   "display_name": "Python 3",
   "language": "python",
   "name": "python3"
  },
  "language_info": {
   "codemirror_mode": {
    "name": "ipython",
    "version": 3
   },
   "file_extension": ".py",
   "mimetype": "text/x-python",
   "name": "python",
   "nbconvert_exporter": "python",
   "pygments_lexer": "ipython3",
   "version": "3.10.12"
  }
 },
 "nbformat": 4,
 "nbformat_minor": 2
}
