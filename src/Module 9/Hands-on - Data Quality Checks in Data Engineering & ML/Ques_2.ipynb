{
 "cells": [
  {
   "cell_type": "markdown",
   "metadata": {},
   "source": [
    "### Implementing Adversarial Validation for Data Drift\n",
    "Description: Create and train a classifier that distinguishes between train and test datasets, using the classifier’s performance to infer data drift."
   ]
  },
  {
   "cell_type": "code",
   "execution_count": 3,
   "metadata": {},
   "outputs": [
    {
     "name": "stdout",
     "output_type": "stream",
     "text": [
      "Adversarial Validation AUC scores: [0.62235, 0.6172625, 0.621225, 0.630175, 0.6422749999999999]\n",
      "Mean AUC: 0.6266575\n",
      "⚠️ Moderate data drift detected.\n"
     ]
    }
   ],
   "source": [
    "import pandas as pd\n",
    "import numpy as np\n",
    "from sklearn.ensemble import RandomForestClassifier\n",
    "from sklearn.model_selection import StratifiedKFold\n",
    "from sklearn.metrics import roc_auc_score\n",
    "from sklearn.utils import shuffle\n",
    "\n",
    "# Step 1: Create dummy train and test datasets\n",
    "np.random.seed(42)\n",
    "\n",
    "# Simulate train data\n",
    "train_df = pd.DataFrame({\n",
    "    'feature1': np.random.normal(loc=0.0, scale=1.0, size=1000),\n",
    "    'feature2': np.random.normal(loc=5.0, scale=1.5, size=1000),\n",
    "    'feature3': np.random.randint(0, 2, size=1000)\n",
    "})\n",
    "\n",
    "# Simulate test data with a slight shift to introduce drift\n",
    "test_df = pd.DataFrame({\n",
    "    'feature1': np.random.normal(loc=0.5, scale=1.0, size=1000),\n",
    "    'feature2': np.random.normal(loc=6.0, scale=1.5, size=1000),\n",
    "    'feature3': np.random.randint(0, 2, size=1000)\n",
    "})\n",
    "\n",
    "# Step 2: Add label for adversarial validation\n",
    "train_df['is_test'] = 0\n",
    "test_df['is_test'] = 1\n",
    "\n",
    "# Step 3: Combine datasets\n",
    "combined_df = pd.concat([train_df, test_df], axis=0)\n",
    "combined_df = shuffle(combined_df, random_state=42).reset_index(drop=True)\n",
    "\n",
    "# Step 4: Separate features and label\n",
    "X = combined_df.drop('is_test', axis=1)\n",
    "y = combined_df['is_test']\n",
    "\n",
    "# Step 5: Train a classifier to distinguish train vs test\n",
    "clf = RandomForestClassifier(n_estimators=100, random_state=42)\n",
    "cv = StratifiedKFold(n_splits=5, shuffle=True, random_state=42)\n",
    "\n",
    "auc_scores = []\n",
    "\n",
    "for train_idx, val_idx in cv.split(X, y):\n",
    "    X_train, X_val = X.iloc[train_idx], X.iloc[val_idx]\n",
    "    y_train, y_val = y.iloc[train_idx], y.iloc[val_idx]\n",
    "    \n",
    "    clf.fit(X_train, y_train)\n",
    "    preds = clf.predict_proba(X_val)[:, 1]\n",
    "    auc = roc_auc_score(y_val, preds)\n",
    "    auc_scores.append(auc)\n",
    "\n",
    "# Step 6: Output results\n",
    "print(\"Adversarial Validation AUC scores:\", auc_scores)\n",
    "print(\"Mean AUC:\", np.mean(auc_scores))\n",
    "\n",
    "# Interpretation\n",
    "if np.mean(auc_scores) > 0.75:\n",
    "    print(\"⚠️ Significant data drift detected.\")\n",
    "elif np.mean(auc_scores) > 0.6:\n",
    "    print(\"⚠️ Moderate data drift detected.\")\n",
    "else:\n",
    "    print(\"✅ No significant data drift detected.\")\n"
   ]
  }
 ],
 "metadata": {
  "kernelspec": {
   "display_name": "Python 3",
   "language": "python",
   "name": "python3"
  },
  "language_info": {
   "codemirror_mode": {
    "name": "ipython",
    "version": 3
   },
   "file_extension": ".py",
   "mimetype": "text/x-python",
   "name": "python",
   "nbconvert_exporter": "python",
   "pygments_lexer": "ipython3",
   "version": "3.10.12"
  }
 },
 "nbformat": 4,
 "nbformat_minor": 2
}
