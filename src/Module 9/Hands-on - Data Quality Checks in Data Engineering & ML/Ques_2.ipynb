{
 "cells": [
  {
   "cell_type": "markdown",
   "metadata": {},
   "source": [
    "### Implementing Adversarial Validation for Data Drift\n",
    "Description: Create and train a classifier that distinguishes between train and test datasets, using the classifier’s performance to infer data drift."
   ]
  },
  {
   "cell_type": "code",
   "execution_count": 4,
   "metadata": {},
   "outputs": [],
   "source": [
    "import pandas as pd\n",
    "import numpy as np\n",
    "from sklearn.ensemble import RandomForestClassifier\n",
    "from sklearn.model_selection import StratifiedKFold\n",
    "from sklearn.metrics import roc_auc_score\n",
    "from sklearn.utils import shuffle\n",
    "\n",
    "def generate_sample_data():\n",
    "    np.random.seed(42)\n",
    "    train_df = pd.DataFrame({\n",
    "        'feature1': np.random.normal(loc=0.0, scale=1.0, size=1000),\n",
    "        'feature2': np.random.normal(loc=5.0, scale=1.5, size=1000),\n",
    "        'feature3': np.random.randint(0, 2, size=1000)\n",
    "    })\n",
    "    test_df = pd.DataFrame({\n",
    "        'feature1': np.random.normal(loc=0.5, scale=1.0, size=1000),\n",
    "        'feature2': np.random.normal(loc=6.0, scale=1.5, size=1000),\n",
    "        'feature3': np.random.randint(0, 2, size=1000)\n",
    "    })\n",
    "    return train_df, test_df\n",
    "\n",
    "def check_input_validity(train_df, test_df):\n",
    "    if train_df.empty or test_df.empty:\n",
    "        raise ValueError(\"Input DataFrames must not be empty.\")\n",
    "\n",
    "    if not all(col in test_df.columns for col in train_df.columns):\n",
    "        raise ValueError(\"Train and test datasets must have the same columns.\")\n",
    "\n",
    "def adversarial_validation(train_df, test_df):\n",
    "    check_input_validity(train_df, test_df)\n",
    "    \n",
    "    train_df['is_test'] = 0\n",
    "    test_df['is_test'] = 1\n",
    "\n",
    "    combined_df = pd.concat([train_df, test_df], axis=0)\n",
    "    combined_df = shuffle(combined_df, random_state=42).reset_index(drop=True)\n",
    "\n",
    "    X = combined_df.drop('is_test', axis=1)\n",
    "    y = combined_df['is_test']\n",
    "\n",
    "    X = pd.get_dummies(X)\n",
    "\n",
    "    clf = RandomForestClassifier(n_estimators=100, random_state=42)\n",
    "    cv = StratifiedKFold(n_splits=5, shuffle=True, random_state=42)\n",
    "\n",
    "    auc_scores = []\n",
    "    for train_idx, val_idx in cv.split(X, y):\n",
    "        X_train, X_val = X.iloc[train_idx], X.iloc[val_idx]\n",
    "        y_train, y_val = y.iloc[train_idx], y.iloc[val_idx]\n",
    "        clf.fit(X_train, y_train)\n",
    "        preds = clf.predict_proba(X_val)[:, 1]\n",
    "        auc_scores.append(roc_auc_score(y_val, preds))\n",
    "\n",
    "    return auc_scores\n"
   ]
  },
  {
   "cell_type": "code",
   "execution_count": 5,
   "metadata": {},
   "outputs": [
    {
     "name": "stderr",
     "output_type": "stream",
     "text": [
      "...\n",
      "----------------------------------------------------------------------\n",
      "Ran 3 tests in 1.246s\n",
      "\n",
      "OK\n"
     ]
    }
   ],
   "source": [
    "import unittest\n",
    "\n",
    "class TestAdversarialValidation(unittest.TestCase):\n",
    "    def test_valid_data(self):\n",
    "        train_df, test_df = generate_sample_data()\n",
    "        auc_scores = adversarial_validation(train_df.copy(), test_df.copy())\n",
    "        self.assertTrue(all(0.5 <= auc <= 1.0 for auc in auc_scores), \"AUCs should be between 0.5 and 1\")\n",
    "\n",
    "    def test_empty_data(self):\n",
    "        with self.assertRaises(ValueError):\n",
    "            adversarial_validation(pd.DataFrame(), pd.DataFrame())\n",
    "\n",
    "    def test_mismatched_columns(self):\n",
    "        train_df, test_df = generate_sample_data()\n",
    "        test_df.drop(columns=[\"feature3\"], inplace=True)\n",
    "        with self.assertRaises(ValueError):\n",
    "            adversarial_validation(train_df, test_df)\n",
    "\n",
    "# Run the tests\n",
    "if __name__ == '__main__':\n",
    "    unittest.main(argv=[''], exit=False)\n"
   ]
  }
 ],
 "metadata": {
  "kernelspec": {
   "display_name": "Python 3",
   "language": "python",
   "name": "python3"
  },
  "language_info": {
   "codemirror_mode": {
    "name": "ipython",
    "version": 3
   },
   "file_extension": ".py",
   "mimetype": "text/x-python",
   "name": "python",
   "nbconvert_exporter": "python",
   "pygments_lexer": "ipython3",
   "version": "3.10.12"
  }
 },
 "nbformat": 4,
 "nbformat_minor": 2
}
