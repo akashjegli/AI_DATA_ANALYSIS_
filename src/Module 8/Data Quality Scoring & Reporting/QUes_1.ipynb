{
 "cells": [
  {
   "cell_type": "markdown",
   "metadata": {},
   "source": [
    "## Read Data from CSV and Calculate DQI\n",
    "\n",
    "**Description**: Read data from a CSV file, identify errors as missing values, and calculate the DQI."
   ]
  },
  {
   "cell_type": "code",
   "execution_count": 13,
   "metadata": {},
   "outputs": [],
   "source": [
    "# Write your code from here\n",
    "try:\n",
    "    df = pd.read_csv('sample_data.csv', encoding='utf-8') \n",
    "except pd.errors.ParserError:\n",
    "    print(\"Error: The CSV file is malformed.\")\n",
    "    exit()\n",
    "except UnicodeDecodeError:\n",
    "    print(\"Error: Unsupported character encoding in the CSV file.\")\n",
    "    exit()"
   ]
  },
  {
   "cell_type": "markdown",
   "metadata": {},
   "source": [
    "### Visualize Basic DQI with Bar Plot\n",
    "\n",
    "**Description**: Create a bar plot for DQI and errors in a dataset."
   ]
  },
  {
   "cell_type": "code",
   "execution_count": 11,
   "metadata": {},
   "outputs": [],
   "source": [
    "# Write your code from here\n",
    "def test_empty_dataframe(self):\n",
    "    empty_df = pd.DataFrame()\n",
    "    self.assertEqual(empty_df.size, 0)\n",
    "\n",
    "def test_all_missing(self):\n",
    "    df = pd.DataFrame({\n",
    "        'a': [None, None],\n",
    "        'b': [None, None]\n",
    "    })\n",
    "    total_cells = df.size\n",
    "    total_missing = df.isnull().sum().sum()\n",
    "    dqi = round((1 - (total_missing / total_cells)) * 100, 2)\n",
    "    self.assertEqual(dqi, 0.0)"
   ]
  }
 ],
 "metadata": {
  "kernelspec": {
   "display_name": "Python 3",
   "language": "python",
   "name": "python3"
  },
  "language_info": {
   "codemirror_mode": {
    "name": "ipython",
    "version": 3
   },
   "file_extension": ".py",
   "mimetype": "text/x-python",
   "name": "python",
   "nbconvert_exporter": "python",
   "pygments_lexer": "ipython3",
   "version": "3.10.12"
  }
 },
 "nbformat": 4,
 "nbformat_minor": 2
}
