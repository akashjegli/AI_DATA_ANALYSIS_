{
 "cells": [
  {
   "cell_type": "markdown",
   "metadata": {},
   "source": [
    "## Using AI for Anomalies Detection in Data Quality\n",
    "**Description**: Implement an AI-based approach to detect anomalies in data quality.\n",
    "\n",
    "**Steps**:\n",
    "1. Use an Anomaly Detection Algorithm:\n",
    "    - Use sklearn's Isolation Forest for anomaly detection.\n",
    "\n",
    "**Example data:**\n",
    "\n",
    "data = np.array([[25, 50000], [30, 60000], [35, 75000], [40, None], [45, 100000]])\n",
    "\n",
    "2. Integrate with Great Expectations:\n",
    "    - Generate alerts if anomalies are detected:"
   ]
  },
  {
   "cell_type": "code",
   "execution_count": 1,
   "metadata": {},
   "outputs": [
    {
     "ename": "ModuleNotFoundError",
     "evalue": "No module named 'great_expectations.dataset'",
     "output_type": "error",
     "traceback": [
      "\u001b[0;31m---------------------------------------------------------------------------\u001b[0m",
      "\u001b[0;31mModuleNotFoundError\u001b[0m                       Traceback (most recent call last)",
      "Cell \u001b[0;32mIn[1], line 7\u001b[0m\n\u001b[1;32m      5\u001b[0m \u001b[38;5;28;01mfrom\u001b[39;00m\u001b[38;5;250m \u001b[39m\u001b[38;5;21;01msklearn\u001b[39;00m\u001b[38;5;21;01m.\u001b[39;00m\u001b[38;5;21;01mimpute\u001b[39;00m\u001b[38;5;250m \u001b[39m\u001b[38;5;28;01mimport\u001b[39;00m KNNImputer\n\u001b[1;32m      6\u001b[0m \u001b[38;5;28;01mimport\u001b[39;00m\u001b[38;5;250m \u001b[39m\u001b[38;5;21;01mgreat_expectations\u001b[39;00m\u001b[38;5;250m \u001b[39m\u001b[38;5;28;01mas\u001b[39;00m\u001b[38;5;250m \u001b[39m\u001b[38;5;21;01mge\u001b[39;00m\n\u001b[0;32m----> 7\u001b[0m \u001b[38;5;28;01mfrom\u001b[39;00m\u001b[38;5;250m \u001b[39m\u001b[38;5;21;01mgreat_expectations\u001b[39;00m\u001b[38;5;21;01m.\u001b[39;00m\u001b[38;5;21;01mdataset\u001b[39;00m\u001b[38;5;250m \u001b[39m\u001b[38;5;28;01mimport\u001b[39;00m PandasDataset\n\u001b[1;32m      9\u001b[0m \u001b[38;5;66;03m# Function to validate the data\u001b[39;00m\n\u001b[1;32m     10\u001b[0m \u001b[38;5;28;01mdef\u001b[39;00m\u001b[38;5;250m \u001b[39m\u001b[38;5;21mvalidate_data\u001b[39m(df):\n\u001b[1;32m     11\u001b[0m     \u001b[38;5;66;03m# Check if required columns exist\u001b[39;00m\n",
      "\u001b[0;31mModuleNotFoundError\u001b[0m: No module named 'great_expectations.dataset'"
     ]
    }
   ],
   "source": [
    "# Write your code from here\n",
    "import numpy as np\n",
    "import pandas as pd\n",
    "from sklearn.ensemble import IsolationForest\n",
    "from sklearn.impute import KNNImputer\n",
    "import great_expectations as ge\n",
    "from great_expectations.dataset import PandasDataset\n",
    "\n",
    "# Function to validate the data\n",
    "def validate_data(df):\n",
    "    # Check if required columns exist\n",
    "    required_columns = ['Age', 'Salary']\n",
    "    if not all(col in df.columns for col in required_columns):\n",
    "        raise ValueError(f\"Missing required columns: {set(required_columns) - set(df.columns)}\")\n",
    "    \n",
    "    # Check for non-numeric values in 'Salary' column\n",
    "    if not pd.api.types.is_numeric_dtype(df['Salary']):\n",
    "        raise ValueError(\"Salary column must be numeric.\")\n",
    "    \n",
    "    return df\n",
    "\n",
    "# Function to handle missing data using KNN Imputation\n",
    "def handle_missing_data(df):\n",
    "    imputer = KNNImputer(n_neighbors=2)\n",
    "    df['Salary'] = imputer.fit_transform(df[['Salary']])\n",
    "    return df\n",
    "\n",
    "# Function to apply Isolation Forest for anomaly detection\n",
    "def detect_anomalies(df):\n",
    "    # Setting contamination=0.2 means that we expect 20% of the data to be anomalies\n",
    "    model = IsolationForest(contamination=0.2)\n",
    "    anomalies = model.fit_predict(df[['Age', 'Salary']])\n",
    "    df['Anomaly'] = anomalies\n",
    "    return df\n",
    "\n",
    "# Function to generate alerts based on anomalies\n",
    "def generate_alerts(df):\n",
    "    if -1 in df['Anomaly'].values:\n",
    "        print(\"Alert: Anomalies detected in the dataset!\")\n",
    "    else:\n",
    "        print(\"Data quality is fine. No anomalies detected.\")\n",
    "\n",
    "# Main code execution\n",
    "def main(data):\n",
    "    # Convert to DataFrame\n",
    "    df = pd.DataFrame(data, columns=['Age', 'Salary'])\n",
    "    \n",
    "    # Validate and preprocess the data\n",
    "    df = validate_data(df)\n",
    "    df = handle_missing_data(df)\n",
    "    \n",
    "    # Detect anomalies\n",
    "    df = detect_anomalies(df)\n",
    "    \n",
    "    # Integrate with Great Expectations for validation\n",
    "    df_ge = PandasDataset(df)\n",
    "    \n",
    "    # Create a simple expectation for checking anomalies in the 'Anomaly' column\n",
    "    expectation_result = df_ge.expect_column_values_to_be_in_set('Anomaly', [1])\n",
    "    \n",
    "    # Generate alert based on anomaly detection\n",
    "    generate_alerts(df)\n",
    "    \n",
    "    # Print the resulting DataFrame\n",
    "    print(df)\n",
    "\n",
    "# Example data (including a None value that represents a missing entry)\n",
    "data = np.array([[25, 50000], [30, 60000], [35, 75000], [40, None], [45, 100000]])\n",
    "\n",
    "# Execute the main function\n",
    "main(data)"
   ]
  }
 ],
 "metadata": {
  "kernelspec": {
   "display_name": "Python 3",
   "language": "python",
   "name": "python3"
  },
  "language_info": {
   "codemirror_mode": {
    "name": "ipython",
    "version": 3
   },
   "file_extension": ".py",
   "mimetype": "text/x-python",
   "name": "python",
   "nbconvert_exporter": "python",
   "pygments_lexer": "ipython3",
   "version": "3.10.12"
  }
 },
 "nbformat": 4,
 "nbformat_minor": 2
}
