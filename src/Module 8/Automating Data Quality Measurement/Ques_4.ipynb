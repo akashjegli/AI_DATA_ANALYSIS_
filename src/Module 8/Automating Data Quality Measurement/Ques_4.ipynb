{
 "cells": [
  {
   "cell_type": "markdown",
   "metadata": {},
   "source": [
    "### Task 1: Automated Data Profiling\n",
    "\n",
    "**Steps**:\n",
    "1. Using Pandas-Profiling\n",
    "    - Generate a profile report for an existing CSV file.\n",
    "    - Customize the profile report to include correlations.\n",
    "    - Profile a specific subset of columns.\n",
    "2. Using Great Expectations\n",
    "    - Create a basic expectation suite for your data.\n",
    "    - Validate data against an expectation suite.\n",
    "    - Add multiple expectations to a suite."
   ]
  },
  {
   "cell_type": "code",
   "execution_count": 1,
   "metadata": {},
   "outputs": [
    {
     "ename": "ImportError",
     "evalue": "cannot import name 'Expectation' from 'great_expectations.core' (/home/vscode/.local/lib/python3.10/site-packages/great_expectations/core/__init__.py)",
     "output_type": "error",
     "traceback": [
      "\u001b[0;31m---------------------------------------------------------------------------\u001b[0m",
      "\u001b[0;31mImportError\u001b[0m                               Traceback (most recent call last)",
      "Cell \u001b[0;32mIn[1], line 3\u001b[0m\n\u001b[1;32m      1\u001b[0m \u001b[38;5;66;03m# Write your code from hereimport pandas as pd\u001b[39;00m\n\u001b[1;32m      2\u001b[0m \u001b[38;5;28;01mimport\u001b[39;00m\u001b[38;5;250m \u001b[39m\u001b[38;5;21;01mgreat_expectations\u001b[39;00m\u001b[38;5;250m \u001b[39m\u001b[38;5;28;01mas\u001b[39;00m\u001b[38;5;250m \u001b[39m\u001b[38;5;21;01mge\u001b[39;00m\n\u001b[0;32m----> 3\u001b[0m \u001b[38;5;28;01mfrom\u001b[39;00m\u001b[38;5;250m \u001b[39m\u001b[38;5;21;01mgreat_expectations\u001b[39;00m\u001b[38;5;21;01m.\u001b[39;00m\u001b[38;5;21;01mcore\u001b[39;00m\u001b[38;5;250m \u001b[39m\u001b[38;5;28;01mimport\u001b[39;00m ExpectationSuite, Expectation, ExpectationValidationResult\n\u001b[1;32m      4\u001b[0m \u001b[38;5;28;01mfrom\u001b[39;00m\u001b[38;5;250m \u001b[39m\u001b[38;5;21;01mgreat_expectations\u001b[39;00m\u001b[38;5;21;01m.\u001b[39;00m\u001b[38;5;21;01mdataset\u001b[39;00m\u001b[38;5;250m \u001b[39m\u001b[38;5;28;01mimport\u001b[39;00m PandasDataset\n\u001b[1;32m      6\u001b[0m \u001b[38;5;66;03m# Function to calculate and measure data accuracy\u001b[39;00m\n",
      "\u001b[0;31mImportError\u001b[0m: cannot import name 'Expectation' from 'great_expectations.core' (/home/vscode/.local/lib/python3.10/site-packages/great_expectations/core/__init__.py)"
     ]
    }
   ],
   "source": [
    "# Write your code from hereimport pandas as pd\n",
    "import great_expectations as ge\n",
    "from great_expectations.core import ExpectationSuite, Expectation, ExpectationValidationResult\n",
    "from great_expectations.dataset import PandasDataset\n",
    "\n",
    "# Function to calculate and measure data accuracy\n",
    "def check_accuracy(df, column_name, expected_values):\n",
    "    \"\"\"\n",
    "    Measures if values in a specific column match the expected values.\n",
    "    \"\"\"\n",
    "    # Convert the column to a PandasDataset to use Great Expectations\n",
    "    df_ge = PandasDataset(df)\n",
    "    \n",
    "    # Create expectation for values to be in the set of expected values\n",
    "    result = df_ge.expect_column_values_to_be_in_set(column_name, expected_values)\n",
    "    \n",
    "    return result\n",
    "\n",
    "# Function to check data completeness (missing values)\n",
    "def check_completeness(df):\n",
    "    \"\"\"\n",
    "    Measures the completeness of the dataset by checking for missing values.\n",
    "    \"\"\"\n",
    "    missing_data = df.isnull().sum()\n",
    "    completeness = 1 - (missing_data / len(df))  # Completeness ratio\n",
    "    \n",
    "    return missing_data, completeness\n",
    "\n",
    "# Function to check data consistency (check for duplicates)\n",
    "def check_consistency(df):\n",
    "    \"\"\"\n",
    "    Measures data consistency by checking for duplicate rows.\n",
    "    \"\"\"\n",
    "    duplicate_rows = df.duplicated().sum()\n",
    "    return duplicate_rows\n",
    "\n",
    "# Function to check uniqueness of a column (unique values)\n",
    "def check_uniqueness(df, column_name):\n",
    "    \"\"\"\n",
    "    Measures uniqueness in a specific column.\n",
    "    \"\"\"\n",
    "    unique_values = df[column_name].nunique()\n",
    "    return unique_values\n",
    "\n",
    "# Function to check timeliness (e.g., date range of a column)\n",
    "def check_timeliness(df, date_column):\n",
    "    \"\"\"\n",
    "    Measures timeliness by checking the range of dates in a specific date column.\n",
    "    \"\"\"\n",
    "    date_range = df[date_column].min(), df[date_column].max()\n",
    "    return date_range\n",
    "\n",
    "# Main function to automate data quality measurement\n",
    "def automate_data_quality(df, column_name, expected_values, date_column):\n",
    "    \"\"\"\n",
    "    Automates the measurement of data quality metrics for a given DataFrame.\n",
    "    \"\"\"\n",
    "    # Measure accuracy\n",
    "    accuracy_result = check_accuracy(df, column_name, expected_values)\n",
    "    print(\"Accuracy Check:\", accuracy_result)\n",
    "    \n",
    "    # Measure completeness\n",
    "    missing_data, completeness = check_completeness(df)\n",
    "    print(\"Completeness Check:\", missing_data)\n",
    "    print(\"Completeness Ratio:\", completeness)\n",
    "    \n",
    "    # Measure consistency\n",
    "    duplicate_rows = check_consistency(df)\n",
    "    print(\"Consistency Check (duplicates):\", duplicate_rows)\n",
    "    \n",
    "    # Measure uniqueness\n",
    "    unique_values = check_uniqueness(df, column_name)\n",
    "    print(f\"Uniqueness Check ({column_name}):\", unique_values)\n",
    "    \n",
    "    # Measure timeliness\n",
    "    timeliness = check_timeliness(df, date_column)\n",
    "    print(f\"Timeliness Check (date range of {date_column}):\", timeliness)\n",
    "\n",
    "# Example usage with a sample DataFrame\n",
    "data = {\n",
    "    'Age': [25, 30, 35, 40, 45, 30],\n",
    "    'Salary': [50000, 60000, 75000, 80000, 100000, None],\n",
    "    'JoiningDate': ['2020-01-01', '2021-05-15', '2022-03-10', '2020-07-20', '2021-08-25', '2022-01-10']\n",
    "}\n",
    "\n",
    "# Convert to DataFrame\n",
    "df = pd.DataFrame(data)\n",
    "\n",
    "# Convert JoiningDate to datetime for timeliness check\n",
    "df['JoiningDate'] = pd.to_datetime(df['JoiningDate'])\n",
    "\n",
    "# Example expected values for accuracy check\n",
    "expected_salary_values = [50000, 60000, 75000, 80000, 100000]\n",
    "\n",
    "# Automate data quality checks\n",
    "automate_data_quality(df, 'Salary', expected_salary_values, 'JoiningDate')"
   ]
  },
  {
   "cell_type": "markdown",
   "metadata": {},
   "source": [
    "### Task 2: Real-time Monitoring of Data Quality\n",
    "\n",
    "**Steps**:\n",
    "1. Setting up Alerts for Quality Drops\n",
    "    - Use the logging library to set up a basic alert on failed expectations.\n",
    "    - Implementing alerts using email notifications.\n",
    "    - Using a dashboard like Grafana for visual alerts.\n",
    "        - Note: Example assumes integration with a monitoring system\n",
    "        - Alert setup would involve creating a data source and alert rule in Grafana"
   ]
  },
  {
   "cell_type": "code",
   "execution_count": null,
   "metadata": {},
   "outputs": [],
   "source": [
    "# Write your code from here"
   ]
  },
  {
   "cell_type": "markdown",
   "metadata": {},
   "source": [
    "### Task 3: Using AI for Data Quality Monitoring\n",
    "**Steps**:\n",
    "1. Basic AI Models for Monitoring\n",
    "    - Train a simple anomaly detection model using Isolation Forest.\n",
    "    - Use a simple custom function based AI logic for outlier detection.\n",
    "    - Creating a monitoring function that utilizes a pre-trained machine learning model."
   ]
  },
  {
   "cell_type": "code",
   "execution_count": null,
   "metadata": {},
   "outputs": [],
   "source": [
    "# Write your code from here"
   ]
  }
 ],
 "metadata": {
  "kernelspec": {
   "display_name": "Python 3",
   "language": "python",
   "name": "python3"
  },
  "language_info": {
   "codemirror_mode": {
    "name": "ipython",
    "version": 3
   },
   "file_extension": ".py",
   "mimetype": "text/x-python",
   "name": "python",
   "nbconvert_exporter": "python",
   "pygments_lexer": "ipython3",
   "version": "3.10.12"
  }
 },
 "nbformat": 4,
 "nbformat_minor": 2
}
