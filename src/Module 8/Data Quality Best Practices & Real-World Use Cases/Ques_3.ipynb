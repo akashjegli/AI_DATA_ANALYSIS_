{
 "cells": [
  {
   "cell_type": "markdown",
   "metadata": {},
   "source": [
    "### Finance – Ensuring Accurate Transactions\n",
    "\n",
    "**Task 1**: Transaction Data Validation Insights\n",
    "\n",
    "**Objective**: Maintain transaction integrity.\n",
    "\n",
    "**Steps**:\n",
    "1. Choose a sample financial transaction dataset.\n",
    "2. Identify common transaction issues like duplicate entries or incorrect amounts.\n",
    "3. Develop a list of validation checks specific to financial transactions."
   ]
  },
  {
   "cell_type": "code",
   "execution_count": 1,
   "metadata": {},
   "outputs": [
    {
     "name": "stdout",
     "output_type": "stream",
     "text": [
      "✅ Sample transaction data saved as 'sample_transactions.csv'\n"
     ]
    }
   ],
   "source": [
    "# Write your code from here\n",
    "import pandas as pd\n",
    "\n",
    "data = {\n",
    "    'Transaction_ID': ['TXN001', 'TXN002', 'TXN003', 'TXN003', 'TXN005'],\n",
    "    'Date': ['2025-05-01', '2025-05-02', '2025-05-03', '2025-05-03', '2026-01-01'],\n",
    "    'Sender_Account': ['1234567890', '1234567890', '2345678901', '2345678901', 'INVALID123'],\n",
    "    'Receiver_Account': ['0987654321', '0987654321', '8765432109', '8765432109', '4567890123'],\n",
    "    'Amount': [500.00, -100.00, 250.00, 250.00, 99.999],\n",
    "    'Currency': ['USD', 'XYZ', 'USD', 'USD', 'usd'],\n",
    "    'Status': ['Success', 'Invalid', 'Pending', 'Pending', 'Succcess']\n",
    "}\n",
    "\n",
    "df = pd.DataFrame(data)\n",
    "df.to_csv('sample_transactions.csv', index=False)\n",
    "print(\"✅ Sample transaction data saved as 'sample_transactions.csv'\")"
   ]
  },
  {
   "cell_type": "markdown",
   "metadata": {},
   "source": [
    "**Task 2**: Implement Financial Data Validation\n",
    "\n",
    "**Objective**: Use automated tools to ensure transaction accuracy.\n",
    "\n",
    "**Steps**:\n",
    "1. Integrate data validation rules into your existing financial systems.\n",
    "2. Ensure real-time checks to validate data upon entry."
   ]
  },
  {
   "cell_type": "code",
   "execution_count": 2,
   "metadata": {},
   "outputs": [],
   "source": [
    "# Write your code from here\n",
    "import pandas as pd\n",
    "from datetime import datetime\n",
    "\n",
    "def validate_transactions(df):\n",
    "    issues = {}\n",
    "\n",
    "    try:\n",
    "        df['Date'] = pd.to_datetime(df['Date'], errors='coerce')\n",
    "    except Exception as e:\n",
    "        issues['date_parse_error'] = f\"Date parsing failed: {str(e)}\"\n",
    "\n",
    "    try:\n",
    "        issues['duplicate_ids'] = df[df.duplicated('Transaction_ID', keep=False)]\n",
    "    except KeyError:\n",
    "        issues['duplicate_ids'] = \"Missing 'Transaction_ID' column\"\n",
    "\n",
    "    try:\n",
    "        issues['invalid_amounts'] = df[(df['Amount'] <= 0) & (df['Status'] == 'Success')]\n",
    "    except KeyError:\n",
    "        issues['invalid_amounts'] = \"Missing 'Amount' or 'Status' column\"\n",
    "\n",
    "    try:\n",
    "        issues['invalid_currency'] = df[~df['Currency'].str.upper().isin(['USD', 'EUR', 'INR'])]\n",
    "    except KeyError:\n",
    "        issues['invalid_currency'] = \"Missing 'Currency' column\"\n",
    "\n",
    "    try:\n",
    "        issues['missing_fields'] = df[df[['Transaction_ID', 'Amount', 'Sender_Account', 'Status']].isnull().any(axis=1)]\n",
    "    except KeyError:\n",
    "        issues['missing_fields'] = \"Required fields missing\"\n",
    "\n",
    "    try:\n",
    "        issues['invalid_accounts'] = df[~df['Sender_Account'].astype(str).str.match(r'^\\d{10}$')]\n",
    "    except KeyError:\n",
    "        issues['invalid_accounts'] = \"Missing 'Sender_Account' column\"\n",
    "\n",
    "    try:\n",
    "        issues['invalid_status'] = df[~df['Status'].isin(['Success', 'Failed', 'Pending'])]\n",
    "    except KeyError:\n",
    "        issues['invalid_status'] = \"Missing 'Status' column\"\n",
    "\n",
    "    try:\n",
    "        issues['future_dates'] = df[df['Date'] > pd.to_datetime(datetime.now())]\n",
    "    except Exception as e:\n",
    "        issues['future_dates'] = f\"Date check failed: {str(e)}\"\n",
    "\n",
    "    try:\n",
    "        issues['decimal_precision'] = df[df['Amount'].apply(lambda x: round(x, 2) != x)]\n",
    "    except Exception as e:\n",
    "        issues['decimal_precision'] = f\"Precision check failed: {str(e)}\"\n",
    "\n",
    "    return issues"
   ]
  },
  {
   "cell_type": "code",
   "execution_count": 3,
   "metadata": {},
   "outputs": [
    {
     "ename": "ModuleNotFoundError",
     "evalue": "No module named 'validation_module'",
     "output_type": "error",
     "traceback": [
      "\u001b[0;31m---------------------------------------------------------------------------\u001b[0m",
      "\u001b[0;31mModuleNotFoundError\u001b[0m                       Traceback (most recent call last)",
      "Cell \u001b[0;32mIn[3], line 3\u001b[0m\n\u001b[1;32m      1\u001b[0m \u001b[38;5;28;01mimport\u001b[39;00m\u001b[38;5;250m \u001b[39m\u001b[38;5;21;01munittest\u001b[39;00m\n\u001b[1;32m      2\u001b[0m \u001b[38;5;28;01mimport\u001b[39;00m\u001b[38;5;250m \u001b[39m\u001b[38;5;21;01mpandas\u001b[39;00m\u001b[38;5;250m \u001b[39m\u001b[38;5;28;01mas\u001b[39;00m\u001b[38;5;250m \u001b[39m\u001b[38;5;21;01mpd\u001b[39;00m\n\u001b[0;32m----> 3\u001b[0m \u001b[38;5;28;01mfrom\u001b[39;00m\u001b[38;5;250m \u001b[39m\u001b[38;5;21;01mvalidation_module\u001b[39;00m\u001b[38;5;250m \u001b[39m\u001b[38;5;28;01mimport\u001b[39;00m validate_transactions\n\u001b[1;32m      4\u001b[0m \u001b[38;5;28;01mfrom\u001b[39;00m\u001b[38;5;250m \u001b[39m\u001b[38;5;21;01msrc\u001b[39;00m\u001b[38;5;21;01m.\u001b[39;00m\u001b[38;5;21;01mModule8\u001b[39;00m\u001b[38;5;21;01m.\u001b[39;00m\u001b[38;5;21;01mvalidation_module\u001b[39;00m\u001b[38;5;250m \u001b[39m\u001b[38;5;28;01mimport\u001b[39;00m validate_transactions\n\u001b[1;32m      7\u001b[0m \u001b[38;5;28;01mclass\u001b[39;00m\u001b[38;5;250m \u001b[39m\u001b[38;5;21;01mTestValidation\u001b[39;00m(unittest\u001b[38;5;241m.\u001b[39mTestCase):\n",
      "\u001b[0;31mModuleNotFoundError\u001b[0m: No module named 'validation_module'"
     ]
    }
   ],
   "source": [
    "import unittest\n",
    "import pandas as pd\n",
    "from validation_module import validate_transactions\n",
    "from src.Module8.validation_module import validate_transactions\n",
    "\n",
    "\n",
    "class TestValidation(unittest.TestCase):\n",
    "\n",
    "    def setUp(self):\n",
    "        self.df = pd.DataFrame({\n",
    "            'Transaction_ID': ['T1', 'T1', 'T3'],\n",
    "            'Date': ['2025-05-01', '2030-01-01', '2025-05-02'],\n",
    "            'Sender_Account': ['1234567890', 'INVALID', '1234567890'],\n",
    "            'Receiver_Account': ['0987654321', '0987654321', '1234567890'],\n",
    "            'Amount': [100.00, -10.0, 99.999],\n",
    "            'Currency': ['USD', 'XYZ', 'INR'],\n",
    "            'Status': ['Success', 'Invalid', 'Success']\n",
    "        })\n",
    "\n",
    "    def test_duplicate_ids(self):\n",
    "        issues = validate_transactions(self.df)\n",
    "        self.assertFalse(issues['duplicate_ids'].empty)\n",
    "\n",
    "    def test_invalid_amounts(self):\n",
    "        issues = validate_transactions(self.df)\n",
    "        self.assertFalse(issues['invalid_amounts'].empty)\n",
    "\n",
    "    def test_invalid_currency(self):\n",
    "        issues = validate_transactions(self.df)\n",
    "        self.assertFalse(issues['invalid_currency'].empty)\n",
    "\n",
    "    def test_invalid_account(self):\n",
    "        issues = validate_transactions(self.df)\n",
    "        self.assertFalse(issues['invalid_accounts'].empty)\n",
    "\n",
    "    def test_future_dates(self):\n",
    "        issues = validate_transactions(self.df)\n",
    "        self.assertFalse(issues['future_dates'].empty)\n",
    "\n",
    "    def test_invalid_status(self):\n",
    "        issues = validate_transactions(self.df)\n",
    "        self.assertFalse(issues['invalid_status'].empty)\n",
    "\n",
    "    def test_decimal_precision(self):\n",
    "        issues = validate_transactions(self.df)\n",
    "        self.assertFalse(issues['decimal_precision'].empty)\n",
    "\n",
    "if __name__ == '__main__':\n",
    "    unittest.main()"
   ]
  }
 ],
 "metadata": {
  "kernelspec": {
   "display_name": "Python 3",
   "language": "python",
   "name": "python3"
  },
  "language_info": {
   "codemirror_mode": {
    "name": "ipython",
    "version": 3
   },
   "file_extension": ".py",
   "mimetype": "text/x-python",
   "name": "python",
   "nbconvert_exporter": "python",
   "pygments_lexer": "ipython3",
   "version": "3.10.12"
  }
 },
 "nbformat": 4,
 "nbformat_minor": 2
}
