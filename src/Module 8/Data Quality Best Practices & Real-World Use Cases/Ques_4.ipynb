{
 "cells": [
  {
   "cell_type": "markdown",
   "metadata": {},
   "source": [
    "### Healthcare – Patient Data Accuracy\n",
    "\n",
    "**Task 1**: Patient Record Accuracy Assessment\n",
    "\n",
    "**Objective**: Achieve high accuracy in patient records.\n",
    "\n",
    "**Steps**:\n",
    "1. Examine a sample patient dataset for common inaccuracies.\n",
    "2. Identify at least three common issues, such as medication errors or misdiagnoses.\n",
    "3. Propose validation measures to ensure data accuracy at the point of entry."
   ]
  },
  {
   "cell_type": "code",
   "execution_count": 1,
   "metadata": {},
   "outputs": [
    {
     "name": "stdout",
     "output_type": "stream",
     "text": [
      "CSV file 'patient_data.csv' has been generated successfully!\n"
     ]
    }
   ],
   "source": [
    "# Write your code from here\n",
    "import pandas as pd\n",
    "\n",
    "# Sample Patient Data\n",
    "data = {\n",
    "    'Patient_ID': ['001', '002', '003', '004', '005', '006'],\n",
    "    'Name': ['John Doe', 'Jane Doe', 'Mary Johnson', 'James Brown', 'Sarah Green', 'Michael White'],\n",
    "    'Date_of_Birth': ['1980-05-01', '1992-07-15', '1970-08-22', '1995-02-28', '2003-09-10', '2000-03-15'],\n",
    "    'Gender': ['Male', 'Female', 'Female', 'Male', 'Female', 'Male'],\n",
    "    'Medications': ['Aspirin', 'Metformin', 'Incorrect Medicine', 'None', 'Ibuprofen', '-'],\n",
    "    'Diagnosis': ['Hypertension', 'Diabetes Type 2', 'Hypertension', '-', 'Asthma', 'Unspecified'],\n",
    "    'Date_of_Last_Visit': ['2025-03-01', '2025-01-15', '2024-12-10', '2025-03-20', '2025-04-05', '2025-03-10'],\n",
    "    'Primary_Care_Physician': ['Dr. Smith', 'Dr. Taylor', 'Dr. Davis', 'Dr. Smith', 'Dr. Taylor', 'Dr. Davis'],\n",
    "    'Insurance_Details': ['ABC Health', 'XYZ Insurance', 'DEF Health', 'ABC Health', 'XYZ Insurance', 'None']\n",
    "}\n",
    "\n",
    "# Convert to DataFrame\n",
    "df = pd.DataFrame(data)\n",
    "\n",
    "# Save to CSV\n",
    "df.to_csv('patient_data.csv', index=False)\n",
    "print(\"CSV file 'patient_data.csv' has been generated successfully!\")"
   ]
  },
  {
   "cell_type": "markdown",
   "metadata": {},
   "source": [
    "**Task 2**: Implement Healthcare Data Quality Checks\n",
    "\n",
    "**Objective**: Maintain accurate health records within a healthcare system.\n",
    "\n",
    "**Steps**:\n",
    "1. Develop a validation workflow for patient data.\n",
    "2. Use appropriate software to automate checks for common errors."
   ]
  },
  {
   "cell_type": "code",
   "execution_count": 2,
   "metadata": {},
   "outputs": [
    {
     "name": "stdout",
     "output_type": "stream",
     "text": [
      "Invalid medication for Patient ID 003: Incorrect Medicine\n",
      "Invalid medication for Patient ID 004: None\n",
      "Missing or invalid diagnosis for Patient ID 004: -\n",
      "Missing or invalid diagnosis for Patient ID 006: Unspecified\n",
      "Missing insurance details for Patient ID 006\n"
     ]
    }
   ],
   "source": [
    "# Write your code from here\n",
    "import pandas as pd\n",
    "from datetime import datetime\n",
    "\n",
    "# Sample Patient Data\n",
    "data = {\n",
    "    'Patient_ID': ['001', '002', '003', '004', '005', '006'],\n",
    "    'Name': ['John Doe', 'Jane Doe', 'Mary Johnson', 'James Brown', 'Sarah Green', 'Michael White'],\n",
    "    'Date_of_Birth': ['1980-05-01', '1992-07-15', '1970-08-22', '1995-02-28', '2003-09-10', '2000-03-15'],\n",
    "    'Gender': ['Male', 'Female', 'Female', 'Male', 'Female', 'Male'],\n",
    "    'Medications': ['Aspirin', 'Metformin', 'Incorrect Medicine', 'None', 'Ibuprofen', '-'],\n",
    "    'Diagnosis': ['Hypertension', 'Diabetes Type 2', 'Hypertension', '-', 'Asthma', 'Unspecified'],\n",
    "    'Date_of_Last_Visit': ['2025-03-01', '2025-01-15', '2024-12-10', '2025-03-20', '2025-04-05', '2025-03-10'],\n",
    "    'Primary_Care_Physician': ['Dr. Smith', 'Dr. Taylor', 'Dr. Davis', 'Dr. Smith', 'Dr. Taylor', 'Dr. Davis'],\n",
    "    'Insurance_Details': ['ABC Health', 'XYZ Insurance', 'DEF Health', 'ABC Health', 'XYZ Insurance', 'None']\n",
    "}\n",
    "\n",
    "# Convert to DataFrame\n",
    "df = pd.DataFrame(data)\n",
    "\n",
    "def validate_patient_data(df):\n",
    "    issues = []\n",
    "    \n",
    "    # Error Handling for empty DataFrame\n",
    "    if df.empty:\n",
    "        issues.append(\"Error: DataFrame is empty!\")\n",
    "        return issues\n",
    "\n",
    "    # Check for missing required fields\n",
    "    required_columns = ['Patient_ID', 'Name', 'Date_of_Birth', 'Gender', 'Medications', 'Diagnosis', \n",
    "                        'Date_of_Last_Visit', 'Primary_Care_Physician', 'Insurance_Details']\n",
    "    for column in required_columns:\n",
    "        if column not in df.columns:\n",
    "            issues.append(f\"Error: Missing required column '{column}'\")\n",
    "    \n",
    "    # Medication Validation\n",
    "    valid_medications = ['Aspirin', 'Metformin', 'Ibuprofen']\n",
    "    for index, row in df.iterrows():\n",
    "        if row['Medications'] not in valid_medications and row['Medications'] != '-':\n",
    "            issues.append(f\"Invalid medication for Patient ID {row['Patient_ID']}: {row['Medications']}\")\n",
    "    \n",
    "    # Diagnosis Validation\n",
    "    for index, row in df.iterrows():\n",
    "        if row['Diagnosis'] in ['-', 'Unspecified', 'None']:\n",
    "            issues.append(f\"Missing or invalid diagnosis for Patient ID {row['Patient_ID']}: {row['Diagnosis']}\")\n",
    "    \n",
    "    # Insurance Validation\n",
    "    for index, row in df.iterrows():\n",
    "        if row['Insurance_Details'] == 'None':\n",
    "            issues.append(f\"Missing insurance details for Patient ID {row['Patient_ID']}\")\n",
    "    \n",
    "    # Date Validation (DOB and Visit Date)\n",
    "    current_date = datetime.now()\n",
    "    for index, row in df.iterrows():\n",
    "        try:\n",
    "            dob = pd.to_datetime(row['Date_of_Birth'])\n",
    "            if dob > current_date:\n",
    "                issues.append(f\"Future birthdate for Patient ID {row['Patient_ID']}: {row['Date_of_Birth']}\")\n",
    "        except Exception as e:\n",
    "            issues.append(f\"Error in Date_of_Birth for Patient ID {row['Patient_ID']}: {e}\")\n",
    "        \n",
    "        try:\n",
    "            visit_date = pd.to_datetime(row['Date_of_Last_Visit'])\n",
    "            if visit_date > current_date:\n",
    "                issues.append(f\"Future visit date for Patient ID {row['Patient_ID']}: {row['Date_of_Last_Visit']}\")\n",
    "        except Exception as e:\n",
    "            issues.append(f\"Error in Date_of_Last_Visit for Patient ID {row['Patient_ID']}: {e}\")\n",
    "    \n",
    "    # Gender Consistency\n",
    "    valid_genders = ['Male', 'Female', 'Other']\n",
    "    for index, row in df.iterrows():\n",
    "        if row['Gender'] not in valid_genders:\n",
    "            issues.append(f\"Invalid gender for Patient ID {row['Patient_ID']}: {row['Gender']}\")\n",
    "    \n",
    "    return issues\n",
    "\n",
    "# Validate Patient Data\n",
    "validation_issues = validate_patient_data(df)\n",
    "if validation_issues:\n",
    "    for issue in validation_issues:\n",
    "        print(issue)\n",
    "else:\n",
    "    print(\"No issues found in the patient records.\")"
   ]
  },
  {
   "cell_type": "code",
   "execution_count": 3,
   "metadata": {},
   "outputs": [
    {
     "name": "stderr",
     "output_type": "stream",
     "text": [
      "usage: ipykernel_launcher.py [-h] [-v] [-q] [--locals] [-f] [-c] [-b]\n",
      "                             [-k TESTNAMEPATTERNS]\n",
      "                             [tests ...]\n",
      "ipykernel_launcher.py: error: argument -f/--failfast: ignored explicit argument '/home/vscode/.local/share/jupyter/runtime/kernel-v37840ad6cfc2a7c2664184bc44f23849a067fc06c.json'\n"
     ]
    },
    {
     "ename": "SystemExit",
     "evalue": "2",
     "output_type": "error",
     "traceback": [
      "An exception has occurred, use %tb to see the full traceback.\n",
      "\u001b[0;31mSystemExit\u001b[0m\u001b[0;31m:\u001b[0m 2\n"
     ]
    },
    {
     "name": "stderr",
     "output_type": "stream",
     "text": [
      "/home/vscode/.local/lib/python3.10/site-packages/IPython/core/interactiveshell.py:3587: UserWarning: To exit: use 'exit', 'quit', or Ctrl-D.\n",
      "  warn(\"To exit: use 'exit', 'quit', or Ctrl-D.\", stacklevel=1)\n"
     ]
    }
   ],
   "source": [
    "import unittest\n",
    "import pandas as pd\n",
    "from datetime import datetime\n",
    "\n",
    "# Assuming `validate_patient_data` function is imported from the validation module\n",
    "# Test DataFrame with invalid data\n",
    "test_data = {\n",
    "    'Patient_ID': ['001', '002', '003'],\n",
    "    'Name': ['John Doe', 'Jane Doe', 'Mary Johnson'],\n",
    "    'Date_of_Birth': ['1980-05-01', '1992-07-15', '1970-08-22'],\n",
    "    'Gender': ['Male', 'Female', 'Invalid'],\n",
    "    'Medications': ['Aspirin', 'Metformin', 'InvalidMed'],\n",
    "    'Diagnosis': ['Hypertension', '-', 'Diabetes'],\n",
    "    'Date_of_Last_Visit': ['2025-03-01', '2025-05-01', '2025-03-20'],\n",
    "    'Primary_Care_Physician': ['Dr. Smith', 'Dr. Taylor', 'Dr. Davis'],\n",
    "    'Insurance_Details': ['ABC Health', 'None', 'DEF Health']\n",
    "}\n",
    "\n",
    "df_test = pd.DataFrame(test_data)\n",
    "\n",
    "class TestPatientDataValidation(unittest.TestCase):\n",
    "    def setUp(self):\n",
    "        self.df = df_test\n",
    "\n",
    "    def test_validate_medications(self):\n",
    "        issues = validate_patient_data(self.df)\n",
    "        self.assertIn(\"Invalid medication for Patient ID 003: InvalidMed\", issues)\n",
    "    \n",
    "    def test_validate_gender(self):\n",
    "        issues = validate_patient_data(self.df)\n",
    "        self.assertIn(\"Invalid gender for Patient ID 003: Invalid\", issues)\n",
    "    \n",
    "    def test_validate_diagnosis(self):\n",
    "        issues = validate_patient_data(self.df)\n",
    "        self.assertIn(\"Missing or invalid diagnosis for Patient ID 002: -\", issues)\n",
    "\n",
    "    def test_validate_future_visit(self):\n",
    "        issues = validate_patient_data(self.df)\n",
    "        self.assertIn(\"Future visit date for Patient ID 002: 2025-05-01\", issues)\n",
    "    \n",
    "    def test_empty_dataframe(self):\n",
    "        empty_df = pd.DataFrame()\n",
    "        issues = validate_patient_data(empty_df)\n",
    "        self.assertIn(\"Error: DataFrame is empty!\", issues)\n",
    "\n",
    "if __name__ == '__main__':\n",
    "    unittest.main()"
   ]
  }
 ],
 "metadata": {
  "kernelspec": {
   "display_name": "Python 3",
   "language": "python",
   "name": "python3"
  },
  "language_info": {
   "codemirror_mode": {
    "name": "ipython",
    "version": 3
   },
   "file_extension": ".py",
   "mimetype": "text/x-python",
   "name": "python",
   "nbconvert_exporter": "python",
   "pygments_lexer": "ipython3",
   "version": "3.10.12"
  }
 },
 "nbformat": 4,
 "nbformat_minor": 2
}
