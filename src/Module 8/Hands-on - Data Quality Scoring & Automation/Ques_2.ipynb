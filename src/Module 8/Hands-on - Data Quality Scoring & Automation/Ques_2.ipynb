{
 "cells": [
  {
   "cell_type": "markdown",
   "metadata": {},
   "source": [
    "## Calculate Data Quality Score\n",
    "**Introduction**: In this activity, you will calculate data quality scores for datasets using different metrics. You will explore examples where you assess completeness, accuracy, and consistency.\n",
    "\n",
    "### Task 1: Completeness Score\n",
    "1. Objective: Determine the percentage of non-missing values in a dataset.\n",
    "2. Steps:\n",
    "    - Load a sample dataset using Pandas.\n",
    "    - Identify the columns with missing values.\n",
    "    - Calculate the completeness score as the ratio of non-missing values to total values.\n",
    "    - E.g., a dataset with customer information."
   ]
  },
  {
   "cell_type": "code",
   "execution_count": 1,
   "metadata": {},
   "outputs": [
    {
     "name": "stdout",
     "output_type": "stream",
     "text": [
      "Calculating data quality metrics...\n"
     ]
    },
    {
     "ename": "ValueError",
     "evalue": "The truth value of a Series is ambiguous. Use a.empty, a.bool(), a.item(), a.any() or a.all().",
     "output_type": "error",
     "traceback": [
      "\u001b[0;31m---------------------------------------------------------------------------\u001b[0m",
      "\u001b[0;31mValueError\u001b[0m                                Traceback (most recent call last)",
      "\u001b[0;32m/tmp/ipykernel_8471/1161612818.py\u001b[0m in \u001b[0;36m?\u001b[0;34m()\u001b[0m\n\u001b[1;32m     79\u001b[0m \u001b[0maccuracy_reference_values\u001b[0m \u001b[0;34m=\u001b[0m \u001b[0;34m[\u001b[0m\u001b[0;34m'alice@example.com'\u001b[0m\u001b[0;34m,\u001b[0m \u001b[0;34m'charlie@domain.com'\u001b[0m\u001b[0;34m,\u001b[0m \u001b[0;34m'eve@domain.com'\u001b[0m\u001b[0;34m]\u001b[0m\u001b[0;34m\u001b[0m\u001b[0;34m\u001b[0m\u001b[0m\n\u001b[1;32m     80\u001b[0m \u001b[0mconsistency_min\u001b[0m \u001b[0;34m=\u001b[0m \u001b[0;36m18\u001b[0m  \u001b[0;31m# Minimum valid age\u001b[0m\u001b[0;34m\u001b[0m\u001b[0;34m\u001b[0m\u001b[0m\n\u001b[1;32m     81\u001b[0m \u001b[0mconsistency_max\u001b[0m \u001b[0;34m=\u001b[0m \u001b[0;36m100\u001b[0m  \u001b[0;31m# Maximum valid age\u001b[0m\u001b[0;34m\u001b[0m\u001b[0;34m\u001b[0m\u001b[0m\n\u001b[1;32m     82\u001b[0m \u001b[0;34m\u001b[0m\u001b[0m\n\u001b[0;32m---> 83\u001b[0;31m \u001b[0mcompleteness_score\u001b[0m\u001b[0;34m,\u001b[0m \u001b[0maccuracy_score\u001b[0m\u001b[0;34m,\u001b[0m \u001b[0mconsistency_score\u001b[0m \u001b[0;34m=\u001b[0m \u001b[0mcalculate_data_quality\u001b[0m\u001b[0;34m(\u001b[0m\u001b[0mdf\u001b[0m\u001b[0;34m,\u001b[0m \u001b[0maccuracy_reference_values\u001b[0m\u001b[0;34m,\u001b[0m \u001b[0mconsistency_min\u001b[0m\u001b[0;34m,\u001b[0m \u001b[0mconsistency_max\u001b[0m\u001b[0;34m)\u001b[0m\u001b[0;34m\u001b[0m\u001b[0;34m\u001b[0m\u001b[0m\n\u001b[0m\u001b[1;32m     84\u001b[0m \u001b[0;34m\u001b[0m\u001b[0m\n\u001b[1;32m     85\u001b[0m \u001b[0mprint\u001b[0m\u001b[0;34m(\u001b[0m\u001b[0;34mf\"\\nCompleteness Score:\\n{completeness_score}\"\u001b[0m\u001b[0;34m)\u001b[0m\u001b[0;34m\u001b[0m\u001b[0;34m\u001b[0m\u001b[0m\n\u001b[1;32m     86\u001b[0m \u001b[0mprint\u001b[0m\u001b[0;34m(\u001b[0m\u001b[0;34mf\"\\nAccuracy Score (Email Column): {accuracy_score}%\"\u001b[0m\u001b[0;34m)\u001b[0m\u001b[0;34m\u001b[0m\u001b[0;34m\u001b[0m\u001b[0m\n",
      "\u001b[0;32m/tmp/ipykernel_8471/1161612818.py\u001b[0m in \u001b[0;36m?\u001b[0;34m(df, accuracy_reference_values, consistency_min, consistency_max)\u001b[0m\n\u001b[1;32m     64\u001b[0m     \u001b[0maccuracy_score\u001b[0m \u001b[0;34m=\u001b[0m \u001b[0maccuracy\u001b[0m\u001b[0;34m(\u001b[0m\u001b[0mdf\u001b[0m\u001b[0;34m,\u001b[0m \u001b[0;34m'email'\u001b[0m\u001b[0;34m,\u001b[0m \u001b[0maccuracy_reference_values\u001b[0m\u001b[0;34m)\u001b[0m\u001b[0;34m\u001b[0m\u001b[0;34m\u001b[0m\u001b[0m\n\u001b[1;32m     65\u001b[0m     \u001b[0mconsistency_score\u001b[0m \u001b[0;34m=\u001b[0m \u001b[0mconsistency\u001b[0m\u001b[0;34m(\u001b[0m\u001b[0mdf\u001b[0m\u001b[0;34m,\u001b[0m \u001b[0;34m'age'\u001b[0m\u001b[0;34m,\u001b[0m \u001b[0mconsistency_min\u001b[0m\u001b[0;34m,\u001b[0m \u001b[0mconsistency_max\u001b[0m\u001b[0;34m)\u001b[0m\u001b[0;34m\u001b[0m\u001b[0;34m\u001b[0m\u001b[0m\n\u001b[1;32m     66\u001b[0m \u001b[0;34m\u001b[0m\u001b[0m\n\u001b[1;32m     67\u001b[0m     \u001b[0;31m# Calculate an overall score (just an average in this case)\u001b[0m\u001b[0;34m\u001b[0m\u001b[0;34m\u001b[0m\u001b[0m\n\u001b[0;32m---> 68\u001b[0;31m     \u001b[0;32mif\u001b[0m \u001b[0;32mNone\u001b[0m \u001b[0;32mnot\u001b[0m \u001b[0;32min\u001b[0m \u001b[0;34m[\u001b[0m\u001b[0mcompleteness_score\u001b[0m\u001b[0;34m,\u001b[0m \u001b[0maccuracy_score\u001b[0m\u001b[0;34m,\u001b[0m \u001b[0mconsistency_score\u001b[0m\u001b[0;34m]\u001b[0m\u001b[0;34m:\u001b[0m\u001b[0;34m\u001b[0m\u001b[0;34m\u001b[0m\u001b[0m\n\u001b[0m\u001b[1;32m     69\u001b[0m         \u001b[0moverall_score\u001b[0m \u001b[0;34m=\u001b[0m \u001b[0;34m(\u001b[0m\u001b[0mcompleteness_score\u001b[0m \u001b[0;34m+\u001b[0m \u001b[0maccuracy_score\u001b[0m \u001b[0;34m+\u001b[0m \u001b[0mconsistency_score\u001b[0m\u001b[0;34m)\u001b[0m \u001b[0;34m/\u001b[0m \u001b[0;36m3\u001b[0m\u001b[0;34m\u001b[0m\u001b[0;34m\u001b[0m\u001b[0m\n\u001b[1;32m     70\u001b[0m         \u001b[0mprint\u001b[0m\u001b[0;34m(\u001b[0m\u001b[0;34mf\"Overall Data Quality Score: {overall_score:.2f}%\"\u001b[0m\u001b[0;34m)\u001b[0m\u001b[0;34m\u001b[0m\u001b[0;34m\u001b[0m\u001b[0m\n\u001b[1;32m     71\u001b[0m     \u001b[0;32melse\u001b[0m\u001b[0;34m:\u001b[0m\u001b[0;34m\u001b[0m\u001b[0;34m\u001b[0m\u001b[0m\n",
      "\u001b[0;32m~/.local/lib/python3.10/site-packages/pandas/core/generic.py\u001b[0m in \u001b[0;36m?\u001b[0;34m(self)\u001b[0m\n\u001b[1;32m   1517\u001b[0m     \u001b[0;34m@\u001b[0m\u001b[0mfinal\u001b[0m\u001b[0;34m\u001b[0m\u001b[0;34m\u001b[0m\u001b[0m\n\u001b[1;32m   1518\u001b[0m     \u001b[0;32mdef\u001b[0m \u001b[0m__nonzero__\u001b[0m\u001b[0;34m(\u001b[0m\u001b[0mself\u001b[0m\u001b[0;34m)\u001b[0m \u001b[0;34m->\u001b[0m \u001b[0mNoReturn\u001b[0m\u001b[0;34m:\u001b[0m\u001b[0;34m\u001b[0m\u001b[0;34m\u001b[0m\u001b[0m\n\u001b[0;32m-> 1519\u001b[0;31m         raise ValueError(\n\u001b[0m\u001b[1;32m   1520\u001b[0m             \u001b[0;34mf\"The truth value of a {type(self).__name__} is ambiguous. \"\u001b[0m\u001b[0;34m\u001b[0m\u001b[0;34m\u001b[0m\u001b[0m\n\u001b[1;32m   1521\u001b[0m             \u001b[0;34m\"Use a.empty, a.bool(), a.item(), a.any() or a.all().\"\u001b[0m\u001b[0;34m\u001b[0m\u001b[0;34m\u001b[0m\u001b[0m\n\u001b[1;32m   1522\u001b[0m         )\n",
      "\u001b[0;31mValueError\u001b[0m: The truth value of a Series is ambiguous. Use a.empty, a.bool(), a.item(), a.any() or a.all()."
     ]
    }
   ],
   "source": [
    "import pandas as pd\n",
    "import numpy as np\n",
    "\n",
    "# Sample Data (Replace with actual data)\n",
    "data = {\n",
    "    'name': ['Alice', 'Bob', 'Charlie', None, 'Eve'],\n",
    "    'age': [25, 30, 35, None, 22],\n",
    "    'email': ['alice@example.com', 'bob@example', 'charlie@domain.com', 'eve@domain.com', None],\n",
    "    'score': [88, 92, 95, None, 85]\n",
    "}\n",
    "\n",
    "# Create DataFrame\n",
    "df = pd.DataFrame(data)\n",
    "\n",
    "# Function to check if the DataFrame is empty\n",
    "def check_empty(df):\n",
    "    if df.empty:\n",
    "        raise ValueError(\"The input DataFrame is empty!\")\n",
    "\n",
    "# Function to calculate completeness\n",
    "def completeness(df):\n",
    "    \"\"\"Calculate completeness (percentage of missing values) for each column.\"\"\"\n",
    "    try:\n",
    "        check_empty(df)\n",
    "        return df.isnull().mean() * 100\n",
    "    except Exception as e:\n",
    "        print(f\"Error in completeness calculation: {e}\")\n",
    "        return None\n",
    "\n",
    "# Function to calculate accuracy\n",
    "def accuracy(df, column, reference_values):\n",
    "    \"\"\"Check if the values in the specified column are within the reference values.\"\"\"\n",
    "    try:\n",
    "        check_empty(df)\n",
    "        # Ensure the column exists\n",
    "        if column not in df.columns:\n",
    "            raise ValueError(f\"Column '{column}' not found in the DataFrame!\")\n",
    "        \n",
    "        # Compare each value in the column with the reference values\n",
    "        valid_values = df[column].isin(reference_values)\n",
    "        return valid_values.mean() * 100\n",
    "    except Exception as e:\n",
    "        print(f\"Error in accuracy calculation: {e}\")\n",
    "        return None\n",
    "\n",
    "# Function to calculate consistency\n",
    "def consistency(df, column, min_value, max_value):\n",
    "    \"\"\"Check if the values in the specified column are between min_value and max_value.\"\"\"\n",
    "    try:\n",
    "        check_empty(df)\n",
    "        if column not in df.columns:\n",
    "            raise ValueError(f\"Column '{column}' not found in the DataFrame!\")\n",
    "        \n",
    "        # Ensure the values are between min_value and max_value\n",
    "        valid_values = df[column].apply(lambda x: min_value <= x <= max_value if pd.notnull(x) else True)\n",
    "        return valid_values.mean() * 100\n",
    "    except Exception as e:\n",
    "        print(f\"Error in consistency calculation: {e}\")\n",
    "        return None\n",
    "\n",
    "# Function to calculate overall data quality score based on completeness, accuracy, and consistency\n",
    "def calculate_data_quality(df, accuracy_reference_values, consistency_min, consistency_max):\n",
    "    completeness_score = completeness(df)\n",
    "    accuracy_score = accuracy(df, 'email', accuracy_reference_values)\n",
    "    consistency_score = consistency(df, 'age', consistency_min, consistency_max)\n",
    "    \n",
    "    # Calculate an overall score (just an average in this case)\n",
    "    if None not in [completeness_score, accuracy_score, consistency_score]:\n",
    "        overall_score = (completeness_score + accuracy_score + consistency_score) / 3\n",
    "        print(f\"Overall Data Quality Score: {overall_score:.2f}%\")\n",
    "    else:\n",
    "        print(\"Data Quality Scores could not be calculated due to errors.\")\n",
    "    \n",
    "    return completeness_score, accuracy_score, consistency_score\n",
    "\n",
    "# Example: Calculate and print metrics\n",
    "print(\"Calculating data quality metrics...\")\n",
    "\n",
    "accuracy_reference_values = ['alice@example.com', 'charlie@domain.com', 'eve@domain.com']\n",
    "consistency_min = 18  # Minimum valid age\n",
    "consistency_max = 100  # Maximum valid age\n",
    "\n",
    "completeness_score, accuracy_score, consistency_score = calculate_data_quality(df, accuracy_reference_values, consistency_min, consistency_max)\n",
    "\n",
    "print(f\"\\nCompleteness Score:\\n{completeness_score}\")\n",
    "print(f\"\\nAccuracy Score (Email Column): {accuracy_score}%\")\n",
    "print(f\"\\nConsistency Score (Age Column between {consistency_min} and {consistency_max}): {consistency_score}%\")"
   ]
  },
  {
   "cell_type": "markdown",
   "metadata": {},
   "source": [
    "### Task 2: Accuracy Score\n",
    "\n",
    "1. Objective: Measure the accuracy of a dataset by comparing it against a reference dataset.\n",
    "2. Steps:\n",
    "    - Load the main dataset and a reference dataset.\n",
    "    - Select key columns for accuracy check.\n",
    "    - Match values from both datasets and calculate the accuracy percentage.\n",
    "    - E.g., along existing dataset with sales information."
   ]
  },
  {
   "cell_type": "code",
   "execution_count": null,
   "metadata": {},
   "outputs": [],
   "source": [
    "# Write your code from here\n"
   ]
  },
  {
   "cell_type": "markdown",
   "metadata": {},
   "source": [
    "### Task 3: Consistency Score\n",
    "\n",
    "1. Objective: Evaluate the consistency within a dataset for specific columns.\n",
    "2. Steps:\n",
    "    - Choose a column expected to have consistent values.\n",
    "    - Use statistical or rule-based checks to identify inconsistencies.\n",
    "    - Calculate the consistency score by the ratio of consistent to total entries.\n",
    "    - E.g., validating phone number formats in a contact list."
   ]
  },
  {
   "cell_type": "code",
   "execution_count": null,
   "metadata": {},
   "outputs": [],
   "source": [
    "# Write your code from here\n"
   ]
  }
 ],
 "metadata": {
  "kernelspec": {
   "display_name": "Python 3",
   "language": "python",
   "name": "python3"
  },
  "language_info": {
   "codemirror_mode": {
    "name": "ipython",
    "version": 3
   },
   "file_extension": ".py",
   "mimetype": "text/x-python",
   "name": "python",
   "nbconvert_exporter": "python",
   "pygments_lexer": "ipython3",
   "version": "3.10.12"
  }
 },
 "nbformat": 4,
 "nbformat_minor": 2
}
