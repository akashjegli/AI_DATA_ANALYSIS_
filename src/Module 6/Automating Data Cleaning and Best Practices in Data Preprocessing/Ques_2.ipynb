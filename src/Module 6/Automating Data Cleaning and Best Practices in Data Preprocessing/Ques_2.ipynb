{
 "cells": [
  {
   "cell_type": "markdown",
   "metadata": {},
   "source": [
    "    Task: Complete Pipeline for a Dataset\n",
    "1. Objective: Build a complex pipeline with multiple transformations.\n",
    "2. Steps:\n",
    "    - Load a sample dataset.\n",
    "    - Define a transformation pipeline with both imputation and scaling."
   ]
  },
  {
   "cell_type": "code",
   "execution_count": 2,
   "metadata": {},
   "outputs": [
    {
     "name": "stdout",
     "output_type": "stream",
     "text": [
      "Defaulting to user installation because normal site-packages is not writeable\n",
      "Requirement already satisfied: pytest in /home/vscode/.local/lib/python3.10/site-packages (8.3.5)\n",
      "Requirement already satisfied: exceptiongroup>=1.0.0rc8 in /home/vscode/.local/lib/python3.10/site-packages (from pytest) (1.2.2)\n",
      "Requirement already satisfied: iniconfig in /home/vscode/.local/lib/python3.10/site-packages (from pytest) (2.1.0)\n",
      "Requirement already satisfied: packaging in /home/vscode/.local/lib/python3.10/site-packages (from pytest) (25.0)\n",
      "Requirement already satisfied: pluggy<2,>=1.5 in /home/vscode/.local/lib/python3.10/site-packages (from pytest) (1.6.0)\n",
      "Requirement already satisfied: tomli>=1 in /home/vscode/.local/lib/python3.10/site-packages (from pytest) (2.2.1)\n",
      "Note: you may need to restart the kernel to use updated packages.\n"
     ]
    }
   ],
   "source": [
    "pip install pytest\n"
   ]
  },
  {
   "cell_type": "code",
   "execution_count": 3,
   "metadata": {},
   "outputs": [],
   "source": [
    "# Task: Imputation Function\n",
    "\n",
    "import pytest\n",
    "import pandas as pd\n",
    "import numpy as np\n",
    "from sklearn.impute import SimpleImputer\n",
    "from sklearn.preprocessing import StandardScaler\n",
    "\n",
    "# Test for Imputation\n",
    "def test_imputation():\n",
    "    # Sample data with missing values\n",
    "    data = {'A': [1, 2, np.nan, 4], 'B': [5, np.nan, 7, 8]}\n",
    "    df = pd.DataFrame(data)\n",
    "    \n",
    "    imputer = SimpleImputer(strategy='mean')\n",
    "    imputed_data = imputer.fit_transform(df)\n",
    "    \n",
    "    # Assert that missing values are replaced\n",
    "    assert not np.any(np.isnan(imputed_data)), \"Missing values exist after imputation!\"\n",
    "\n",
    "# Test for Scaling\n",
    "def test_scaling():\n",
    "    # Sample data\n",
    "    data = {'A': [1, 2, 3, 4], 'B': [5, 6, 7, 8]}\n",
    "    df = pd.DataFrame(data)\n",
    "    \n",
    "    scaler = StandardScaler()\n",
    "    scaled_data = scaler.fit_transform(df)\n",
    "    \n",
    "    # Assert that the scaled data has mean=0 and std=1 for each column\n",
    "    assert np.abs(np.mean(scaled_data[:, 0])) < 0.1, \"Column A mean is not close to 0\"  # Column A\n",
    "    assert np.abs(np.mean(scaled_data[:, 1])) < 0.1, \"Column B mean is not close to 0\"  # Column B\n",
    "    assert np.abs(np.std(scaled_data[:, 0]) - 1) < 0.1, \"Column A std is not close to 1\"\n",
    "    assert np.abs(np.std(scaled_data[:, 1]) - 1) < 0.1, \"Column B std is not close to 1\"\n",
    "\n",
    "\n",
    "\n",
    "\n",
    "\n",
    "\n",
    "# Scaling Function\n",
    "\n",
    "\n",
    "\n",
    "\n",
    "\n",
    "\n",
    "\n",
    "\n",
    "\n",
    "# Combined Transformation Function\n",
    "\n",
    "\n",
    "\n",
    "\n",
    "\n",
    "\n",
    "\n"
   ]
  },
  {
   "cell_type": "code",
   "execution_count": 4,
   "metadata": {},
   "outputs": [
    {
     "name": "stdout",
     "output_type": "stream",
     "text": [
      "          A         B\n",
      "0 -1.147079 -1.605910\n",
      "1 -0.229416  0.229416\n",
      "2 -0.229416  0.229416\n",
      "3  1.605910  1.147079\n"
     ]
    },
    {
     "name": "stderr",
     "output_type": "stream",
     "text": [
      "/tmp/ipykernel_11771/3361112369.py:23: FutureWarning: Series.__getitem__ treating keys as positions is deprecated. In a future version, integer keys will always be treated as labels (consistent with DataFrame behavior). To access a value by position, use `ser.iloc[pos]`\n",
      "  if not np.issubdtype(df.dtypes[0], np.number):  # Check if data is numeric\n"
     ]
    }
   ],
   "source": [
    "import pandas as pd\n",
    "import numpy as np\n",
    "from sklearn.preprocessing import StandardScaler\n",
    "from sklearn.impute import SimpleImputer\n",
    "\n",
    "# Imputation Function\n",
    "def impute_data(df, strategy='mean'):\n",
    "    for column in df.columns:\n",
    "        if df[column].isna().sum() == len(df):\n",
    "            df[column] = 0  # Or replace with df[column].median() or another placeholder\n",
    "    imputer = SimpleImputer(strategy=strategy)\n",
    "    return pd.DataFrame(imputer.fit_transform(df), columns=df.columns)\n",
    "\n",
    "# Scaling Function\n",
    "def scale_data(df):\n",
    "    scaler = StandardScaler()\n",
    "    return pd.DataFrame(scaler.fit_transform(df), columns=df.columns)\n",
    "\n",
    "# DataFrame Validation Function\n",
    "def validate_dataframe(df):\n",
    "    if df.empty:\n",
    "        raise ValueError(\"DataFrame is empty\")\n",
    "    if not np.issubdtype(df.dtypes[0], np.number):  # Check if data is numeric\n",
    "        raise TypeError(\"DataFrame contains non-numeric data. Only numeric data is allowed.\")\n",
    "\n",
    "# Combined Transformation Function\n",
    "def transform_data(df, imputation_strategy='mean'):\n",
    "    validate_dataframe(df)\n",
    "    df = impute_data(df, strategy=imputation_strategy)\n",
    "    df = scale_data(df)\n",
    "    return df\n",
    "\n",
    "# Example Usage\n",
    "data = {'A': [1, 2, np.nan, 4], 'B': [5, np.nan, 7, 8]}\n",
    "df = pd.DataFrame(data)\n",
    "\n",
    "transformed_df = transform_data(df, imputation_strategy='median')\n",
    "print(transformed_df)"
   ]
  }
 ],
 "metadata": {
  "kernelspec": {
   "display_name": "Python 3",
   "language": "python",
   "name": "python3"
  },
  "language_info": {
   "codemirror_mode": {
    "name": "ipython",
    "version": 3
   },
   "file_extension": ".py",
   "mimetype": "text/x-python",
   "name": "python",
   "nbconvert_exporter": "python",
   "pygments_lexer": "ipython3",
   "version": "3.10.12"
  }
 },
 "nbformat": 4,
 "nbformat_minor": 2
}
