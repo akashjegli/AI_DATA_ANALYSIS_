{
 "cells": [
  {
   "cell_type": "markdown",
   "metadata": {},
   "source": [
    "## Automating Data Cleaning in Python"
   ]
  },
  {
   "cell_type": "markdown",
   "metadata": {
    "vscode": {
     "languageId": "plaintext"
    }
   },
   "source": [
    "    Task: Basic Pipeline with Scaling\n",
    "1. Objective: Create a pipeline that scales numerical features in a dataset.\n",
    "2. Steps:\n",
    "    - Load a sample dataset with Pandas.\n",
    "    - Define a pipeline using Pipeline from sklearn.pipeline .\n",
    "    - Use StandardScaler to scale features."
   ]
  },
  {
   "cell_type": "code",
   "execution_count": 1,
   "metadata": {},
   "outputs": [
    {
     "name": "stdout",
     "output_type": "stream",
     "text": [
      "Processed Data (Imputed and Scaled):\n",
      "   sepal length (cm)  sepal width (cm)  petal length (cm)  petal width (cm)\n",
      "0           0.000000          1.019004          -1.340227         -1.315444\n",
      "1          -1.152203         -0.131979          -1.340227         -1.315444\n",
      "2          -1.395201          0.328414          -1.397064         -1.315444\n",
      "3          -1.516700          0.098217          -1.283389         -1.315444\n",
      "4          -1.030704          1.249201          -1.340227         -1.315444\n"
     ]
    },
    {
     "name": "stderr",
     "output_type": "stream",
     "text": [
      "usage: ipykernel_launcher.py [-h] [-v] [-q] [--locals] [-f] [-c] [-b]\n",
      "                             [-k TESTNAMEPATTERNS]\n",
      "                             [tests ...]\n",
      "ipykernel_launcher.py: error: argument -f/--failfast: ignored explicit argument '/home/vscode/.local/share/jupyter/runtime/kernel-v3afbdb9fd34af9c3e2bb4069e45a0b38baf1edef7.json'\n"
     ]
    },
    {
     "ename": "SystemExit",
     "evalue": "2",
     "output_type": "error",
     "traceback": [
      "An exception has occurred, use %tb to see the full traceback.\n",
      "\u001b[0;31mSystemExit\u001b[0m\u001b[0;31m:\u001b[0m 2\n"
     ]
    },
    {
     "name": "stderr",
     "output_type": "stream",
     "text": [
      "/home/vscode/.local/lib/python3.10/site-packages/IPython/core/interactiveshell.py:3587: UserWarning: To exit: use 'exit', 'quit', or Ctrl-D.\n",
      "  warn(\"To exit: use 'exit', 'quit', or Ctrl-D.\", stacklevel=1)\n"
     ]
    }
   ],
   "source": [
    "# Write your code from here\n",
    "import numpy as np\n",
    "import pandas as pd\n",
    "from sklearn.preprocessing import StandardScaler\n",
    "from sklearn.impute import SimpleImputer\n",
    "from sklearn.pipeline import Pipeline\n",
    "from sklearn.model_selection import train_test_split\n",
    "import unittest\n",
    "\n",
    "# --- Helper Functions ---\n",
    "def check_empty_dataframe(df):\n",
    "    \"\"\"Check if the DataFrame is empty.\"\"\"\n",
    "    if df.empty:\n",
    "        raise ValueError(\"The input dataset is empty\")\n",
    "\n",
    "def create_pipeline(scaling=True, imputation=True):\n",
    "    \"\"\"Create a preprocessing pipeline that includes scaling and/or imputation.\"\"\"\n",
    "    steps = []\n",
    "    if imputation:\n",
    "        steps.append(('imputer', SimpleImputer(strategy='mean')))\n",
    "    if scaling:\n",
    "        steps.append(('scaler', StandardScaler()))\n",
    "    return Pipeline(steps)\n",
    "\n",
    "# --- Example Dataset ---\n",
    "# Load Iris dataset\n",
    "from sklearn.datasets import load_iris\n",
    "data = load_iris()\n",
    "df = pd.DataFrame(data.data, columns=data.feature_names)\n",
    "\n",
    "# Introduce missing values for demonstration\n",
    "df.iloc[0, 0] = np.nan  # Missing value in Feature1\n",
    "\n",
    "# --- Data Preprocessing ---\n",
    "# Check if dataset is empty before processing\n",
    "check_empty_dataframe(df)\n",
    "\n",
    "# Create the preprocessing pipeline (with both scaling and imputation)\n",
    "pipeline = create_pipeline(scaling=True, imputation=True)\n",
    "\n",
    "# Fit and transform the dataset using the pipeline\n",
    "processed_data = pipeline.fit_transform(df)\n",
    "\n",
    "# Convert the processed data back to DataFrame\n",
    "processed_df = pd.DataFrame(processed_data, columns=df.columns)\n",
    "\n",
    "# Show the processed dataset\n",
    "print(\"Processed Data (Imputed and Scaled):\")\n",
    "print(processed_df.head())\n",
    "\n",
    "# --- Unit Tests ---\n",
    "class TestDataPipeline(unittest.TestCase):\n",
    "    def setUp(self):\n",
    "        \"\"\"Prepare a sample dataset with missing values for testing.\"\"\"\n",
    "        self.data = load_iris()\n",
    "        self.df = pd.DataFrame(self.data.data, columns=self.data.feature_names)\n",
    "        self.df.iloc[0, 0] = np.nan  # Introduce a missing value\n",
    "\n",
    "    def test_scaling_pipeline(self):\n",
    "        \"\"\"Test if the scaling pipeline works correctly.\"\"\"\n",
    "        pipeline = create_pipeline(scaling=True, imputation=False)\n",
    "        scaled_data = pipeline.fit_transform(self.df)\n",
    "        self.assertEqual(scaled_data.shape, self.df.shape)  # Check if the shape remains the same\n",
    "\n",
    "    def test_imputation_pipeline(self):\n",
    "        \"\"\"Test if the imputation pipeline works correctly.\"\"\"\n",
    "        pipeline = create_pipeline(scaling=False, imputation=True)\n",
    "        imputed_data = pipeline.fit_transform(self.df)\n",
    "        self.assertFalse(np.any(np.isnan(imputed_data)))  # Check if NaNs are filled\n",
    "\n",
    "    def test_empty_dataframe(self):\n",
    "        \"\"\"Test if an error is raised when an empty dataframe is provided.\"\"\"\n",
    "        empty_df = pd.DataFrame()\n",
    "        with self.assertRaises(ValueError):\n",
    "            check_empty_dataframe(empty_df)\n",
    "\n",
    "# Run the unit tests\n",
    "if __name__ == '__main__':\n",
    "    unittest.main()"
   ]
  },
  {
   "cell_type": "markdown",
   "metadata": {},
   "source": [
    "    Task: Pipeline with Imputation\n",
    "1. Objective: Automate data cleaning by handling missing values.\n",
    "2. Steps:\n",
    "    - Load a dataset with missing values.\n",
    "    - Define a pipeline to use SimpleImputer for filling missing values."
   ]
  },
  {
   "cell_type": "code",
   "execution_count": 2,
   "metadata": {},
   "outputs": [
    {
     "name": "stdout",
     "output_type": "stream",
     "text": [
      "   Feature1  Feature2\n",
      "0      1.00  3.666667\n",
      "1      2.00  2.000000\n",
      "2      3.00  3.666667\n",
      "3      2.75  4.000000\n",
      "4      5.00  5.000000\n"
     ]
    }
   ],
   "source": [
    "# Write your code from here\n",
    "import pandas as pd\n",
    "from sklearn.impute import SimpleImputer\n",
    "from sklearn.pipeline import Pipeline\n",
    "\n",
    "# Step 1: Load a dataset with missing values\n",
    "# Creating a sample dataset with missing values for illustration\n",
    "data = {'Feature1': [1, 2, 3, None, 5],\n",
    "        'Feature2': [None, 2, None, 4, 5]}\n",
    "\n",
    "df = pd.DataFrame(data)\n",
    "\n",
    "# Step 2: Define a pipeline\n",
    "# Here, we will apply SimpleImputer to fill missing values with the mean\n",
    "pipeline = Pipeline(steps=[\n",
    "    ('imputer', SimpleImputer(strategy='mean'))\n",
    "])\n",
    "\n",
    "# Step 3: Fit and transform the data using the pipeline\n",
    "imputed_data = pipeline.fit_transform(df)\n",
    "\n",
    "# Step 4: Show the imputed data\n",
    "imputed_df = pd.DataFrame(imputed_data, columns=df.columns)\n",
    "print(imputed_df)"
   ]
  }
 ],
 "metadata": {
  "kernelspec": {
   "display_name": "Python 3",
   "language": "python",
   "name": "python3"
  },
  "language_info": {
   "codemirror_mode": {
    "name": "ipython",
    "version": 3
   },
   "file_extension": ".py",
   "mimetype": "text/x-python",
   "name": "python",
   "nbconvert_exporter": "python",
   "pygments_lexer": "ipython3",
   "version": "3.10.12"
  }
 },
 "nbformat": 4,
 "nbformat_minor": 2
}
