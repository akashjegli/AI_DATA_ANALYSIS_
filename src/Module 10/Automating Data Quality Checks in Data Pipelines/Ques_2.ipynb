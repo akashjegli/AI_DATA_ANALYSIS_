{
 "cells": [
  {
   "cell_type": "markdown",
   "metadata": {},
   "source": [
    "## Automated Data Quality Monitoring\n",
    "**Objective**: Use Great Expectations to perform data profiling and write validation rules.\n",
    "\n",
    "1. Data Profiling with Great Expectations\n",
    "### Profile a CSV dataset containing customer information to inspect distribution patterns of 'Age' and 'Income' columns.\n",
    "- Load the dataset using Great Expectations and create a data context.\n",
    "- Generate a data asset to inspect the summary statistics.\n",
    "- View the generated expectation suite to analyze data distributions."
   ]
  },
  {
   "cell_type": "code",
   "execution_count": 3,
   "metadata": {},
   "outputs": [
    {
     "ename": "ImportError",
     "evalue": "cannot import name 'SimpleCheckpoint' from 'great_expectations.checkpoint' (/home/vscode/.local/lib/python3.10/site-packages/great_expectations/checkpoint/__init__.py)",
     "output_type": "error",
     "traceback": [
      "\u001b[0;31m---------------------------------------------------------------------------\u001b[0m",
      "\u001b[0;31mImportError\u001b[0m                               Traceback (most recent call last)",
      "Cell \u001b[0;32mIn[3], line 5\u001b[0m\n\u001b[1;32m      3\u001b[0m \u001b[38;5;28;01mimport\u001b[39;00m\u001b[38;5;250m \u001b[39m\u001b[38;5;21;01mgreat_expectations\u001b[39;00m\u001b[38;5;250m \u001b[39m\u001b[38;5;28;01mas\u001b[39;00m\u001b[38;5;250m \u001b[39m\u001b[38;5;21;01mge\u001b[39;00m\n\u001b[1;32m      4\u001b[0m \u001b[38;5;28;01mfrom\u001b[39;00m\u001b[38;5;250m \u001b[39m\u001b[38;5;21;01mgreat_expectations\u001b[39;00m\u001b[38;5;21;01m.\u001b[39;00m\u001b[38;5;21;01mcore\u001b[39;00m\u001b[38;5;21;01m.\u001b[39;00m\u001b[38;5;21;01mbatch\u001b[39;00m\u001b[38;5;250m \u001b[39m\u001b[38;5;28;01mimport\u001b[39;00m BatchRequest\n\u001b[0;32m----> 5\u001b[0m \u001b[38;5;28;01mfrom\u001b[39;00m\u001b[38;5;250m \u001b[39m\u001b[38;5;21;01mgreat_expectations\u001b[39;00m\u001b[38;5;21;01m.\u001b[39;00m\u001b[38;5;21;01mcheckpoint\u001b[39;00m\u001b[38;5;250m \u001b[39m\u001b[38;5;28;01mimport\u001b[39;00m SimpleCheckpoint\n\u001b[1;32m      6\u001b[0m \u001b[38;5;28;01mimport\u001b[39;00m\u001b[38;5;250m \u001b[39m\u001b[38;5;21;01mos\u001b[39;00m\n\u001b[1;32m      8\u001b[0m \u001b[38;5;66;03m# Step 0: Create in-memory dataset\u001b[39;00m\n",
      "\u001b[0;31mImportError\u001b[0m: cannot import name 'SimpleCheckpoint' from 'great_expectations.checkpoint' (/home/vscode/.local/lib/python3.10/site-packages/great_expectations/checkpoint/__init__.py)"
     ]
    }
   ],
   "source": [
    "# write your code from here\n",
    "import pandas as pd\n",
    "import great_expectations as ge\n",
    "from great_expectations.core.batch import BatchRequest\n",
    "from great_expectations.checkpoint import SimpleCheckpoint\n",
    "import os\n",
    "\n",
    "# Step 0: Create in-memory dataset\n",
    "data = pd.DataFrame({\n",
    "    'CustomerID': [1, 2, 3, 4],\n",
    "    'Age': [25, 34, 45, 52],\n",
    "    'Income': [48000, 56000, 72000, 85000],\n",
    "    'Date': ['2024-01-10', '2024-02-15', 'invalid-date', '2024-04-01']\n",
    "})\n",
    "\n",
    "# Step 1: Create GE context in temp directory\n",
    "project_root_dir = \"ge_demo_project\"\n",
    "os.makedirs(project_root_dir, exist_ok=True)\n",
    "context = ge.get_context(context_root_dir=project_root_dir)\n",
    "\n",
    "# Step 2: Add a datasource for pandas\n",
    "context.datasources[\"my_pandas_datasource\"] = {\n",
    "    \"class_name\": \"Datasource\",\n",
    "    \"execution_engine\": {\"class_name\": \"PandasExecutionEngine\"},\n",
    "    \"data_connectors\": {\n",
    "        \"runtime_connector\": {\n",
    "            \"class_name\": \"RuntimeDataConnector\",\n",
    "            \"batch_identifiers\": [\"default_identifier\"],\n",
    "        }\n",
    "    },\n",
    "}\n",
    "context.save_datasource(\"my_pandas_datasource\")\n",
    "\n",
    "# Step 3: Create a runtime batch request for profiling\n",
    "batch_request = BatchRequest(\n",
    "    datasource_name=\"my_pandas_datasource\",\n",
    "    data_connector_name=\"runtime_connector\",\n",
    "    data_asset_name=\"customer_profile_data\",\n",
    "    runtime_parameters={\"batch_data\": data},\n",
    "    batch_identifiers={\"default_identifier\": \"default\"},\n",
    ")\n",
    "\n",
    "# Step 4: Create or load expectation suite\n",
    "suite_name = \"customer_data_suite\"\n",
    "context.create_expectation_suite(suite_name=suite_name, overwrite_existing=True)\n",
    "\n",
    "# Step 5: Create validator\n",
    "validator = context.get_validator(batch_request=batch_request, expectation_suite_name=suite_name)\n",
    "\n",
    "# Step 6: Profile columns (Age, Income) and define expectations\n",
    "validator.expect_column_values_to_be_between(\"Age\", min_value=18, max_value=100)\n",
    "validator.expect_column_values_to_be_between(\"Income\", min_value=20000, max_value=200000)\n",
    "\n",
    "# Step 7: Add validation for Date format\n",
    "validator.expect_column_values_to_match_regex(\"Date\", r\"^\\d{4}-\\d{2}-\\d{2}$\")\n",
    "\n",
    "# Step 8: Save suite\n",
    "validator.save_expectation_suite(discard_failed_expectations=False)\n",
    "\n",
    "# Step 9: Create checkpoint and run\n",
    "checkpoint_name = \"customer_data_checkpoint\"\n",
    "checkpoint = SimpleCheckpoint(\n",
    "    name=checkpoint_name,\n",
    "    data_context=context,\n",
    "    validations=[{\n",
    "        \"batch_request\": batch_request,\n",
    "        \"expectation_suite_name\": suite_name,\n",
    "    }],\n",
    ")\n",
    "context.add_or_update_checkpoint(checkpoint=checkpoint)\n",
    "\n",
    "# Step 10: Run checkpoint and evaluate results\n",
    "results = checkpoint.run()\n",
    "success = results[\"success\"]\n",
    "\n",
    "# Step 11: Print Summary\n",
    "if success:\n",
    "    print(\"✅ All data quality checks passed.\")\n",
    "else:\n",
    "    print(\"❌ Some data quality checks failed.\")\n",
    "\n",
    "# Step 12: Unit test-like assertions\n",
    "def test_expectations(results):\n",
    "    assert \"results\" in results, \"Missing results in checkpoint output.\"\n",
    "    assert \"run_id\" in results, \"Missing run_id in checkpoint output.\"\n",
    "    assert isinstance(results[\"success\"], bool), \"Success must be a boolean.\"\n",
    "\n",
    "test_expectations(results)\n"
   ]
  },
  {
   "cell_type": "markdown",
   "metadata": {},
   "source": [
    "2. Writing Validation Rules for Data Ingestion\n",
    "### Write validation rules for a CSV file to ensure the 'Date' column follows a specific date format.\n",
    "- Utilize expect_column_values_to_match_regex to enforce date format validation.\n",
    "- Run the validation and interpret the output."
   ]
  },
  {
   "cell_type": "code",
   "execution_count": null,
   "metadata": {},
   "outputs": [],
   "source": [
    "# write your code from here"
   ]
  }
 ],
 "metadata": {
  "kernelspec": {
   "display_name": "Python 3",
   "language": "python",
   "name": "python3"
  },
  "language_info": {
   "codemirror_mode": {
    "name": "ipython",
    "version": 3
   },
   "file_extension": ".py",
   "mimetype": "text/x-python",
   "name": "python",
   "nbconvert_exporter": "python",
   "pygments_lexer": "ipython3",
   "version": "3.10.12"
  }
 },
 "nbformat": 4,
 "nbformat_minor": 2
}
