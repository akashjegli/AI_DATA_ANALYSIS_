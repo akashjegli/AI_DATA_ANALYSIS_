{
 "cells": [
  {
   "cell_type": "code",
   "execution_count": 1,
   "metadata": {},
   "outputs": [
    {
     "ename": "AttributeError",
     "evalue": "module 'great_expectations' has no attribute 'from_pandas'",
     "output_type": "error",
     "traceback": [
      "\u001b[0;31m---------------------------------------------------------------------------\u001b[0m",
      "\u001b[0;31mAttributeError\u001b[0m                            Traceback (most recent call last)",
      "Cell \u001b[0;32mIn[1], line 15\u001b[0m\n\u001b[1;32m     12\u001b[0m df \u001b[38;5;241m=\u001b[39m pd\u001b[38;5;241m.\u001b[39mDataFrame(data)\n\u001b[1;32m     14\u001b[0m \u001b[38;5;66;03m# Convert to a Great Expectations DataFrame\u001b[39;00m\n\u001b[0;32m---> 15\u001b[0m ge_df \u001b[38;5;241m=\u001b[39m \u001b[43mge\u001b[49m\u001b[38;5;241;43m.\u001b[39;49m\u001b[43mfrom_pandas\u001b[49m(df)\n\u001b[1;32m     17\u001b[0m \u001b[38;5;66;03m# Task 1: Validate Column Existence\u001b[39;00m\n\u001b[1;32m     18\u001b[0m result_column_exists \u001b[38;5;241m=\u001b[39m ge_df\u001b[38;5;241m.\u001b[39mexpect_column_to_exist(\u001b[38;5;124m'\u001b[39m\u001b[38;5;124mcustomer_id\u001b[39m\u001b[38;5;124m'\u001b[39m)\n",
      "\u001b[0;31mAttributeError\u001b[0m: module 'great_expectations' has no attribute 'from_pandas'"
     ]
    }
   ],
   "source": [
    "# write your code from here\n",
    "import pandas as pd\n",
    "import great_expectations as ge\n",
    "\n",
    "# Load your dataset\n",
    "# For demonstration, let's create an example DataFrame here:\n",
    "data = {\n",
    "    \"customer_id\": [1, 2, 3, 4],\n",
    "    \"purchase_amount\": [100.0, 250.5, 75.25, 300.0],\n",
    "    \"age\": [25, 40, 58, 30]\n",
    "}\n",
    "df = pd.DataFrame(data)\n",
    "\n",
    "# Convert to a Great Expectations DataFrame\n",
    "ge_df = ge.from_pandas(df)\n",
    "\n",
    "# Task 1: Validate Column Existence\n",
    "result_column_exists = ge_df.expect_column_to_exist('customer_id')\n",
    "\n",
    "# Task 2: Validate Column Data Types\n",
    "# Great Expectations doesn't have a direct dtype checker on columns, but we can check values are floats.\n",
    "# We check if all values in 'purchase_amount' are numbers and specifically floats.\n",
    "result_purchase_amount_type = ge_df.expect_column_values_to_be_of_type('purchase_amount', 'float64')\n",
    "\n",
    "# Task 3: Validate Range of Values\n",
    "result_age_range = ge_df.expect_column_values_to_be_between('age', min_value=18, max_value=65)\n",
    "\n",
    "# Compile and print results\n",
    "print(\"Task 1: Column 'customer_id' existence check:\", result_column_exists)\n",
    "print(\"Task 2: Column 'purchase_amount' data type check (float64):\", result_purchase_amount_type)\n",
    "print(\"Task 3: Column 'age' range check (18-65):\", result_age_range)\n",
    "\n"
   ]
  }
 ],
 "metadata": {
  "kernelspec": {
   "display_name": "Python 3",
   "language": "python",
   "name": "python3"
  },
  "language_info": {
   "codemirror_mode": {
    "name": "ipython",
    "version": 3
   },
   "file_extension": ".py",
   "mimetype": "text/x-python",
   "name": "python",
   "nbconvert_exporter": "python",
   "pygments_lexer": "ipython3",
   "version": "3.10.12"
  }
 },
 "nbformat": 4,
 "nbformat_minor": 2
}
