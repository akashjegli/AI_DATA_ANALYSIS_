{
 "cells": [
  {
   "cell_type": "markdown",
   "metadata": {},
   "source": [
    "### Feature Selection - Variance Threshold\n",
    "**Description**: Remove features with low variance."
   ]
  },
  {
   "cell_type": "code",
   "execution_count": 1,
   "metadata": {},
   "outputs": [
    {
     "name": "stderr",
     "output_type": "stream",
     "text": [
      "...\n",
      "----------------------------------------------------------------------\n",
      "Ran 3 tests in 0.002s\n",
      "\n",
      "OK\n"
     ]
    },
    {
     "name": "stdout",
     "output_type": "stream",
     "text": [
      "Selected Features after Variance Thresholding:\n",
      " Index(['feature_low_variance', 'feature_high_variance'], dtype='object')\n",
      "\n",
      "Reduced DataFrame:\n",
      "    feature_low_variance  feature_high_variance\n",
      "0                     0                     10\n",
      "1                     0                     20\n",
      "2                     1                     15\n",
      "3                     0                     25\n",
      "4                     0                     30\n"
     ]
    },
    {
     "data": {
      "text/plain": [
       "<unittest.runner.TextTestResult run=3 errors=0 failures=0>"
      ]
     },
     "execution_count": 1,
     "metadata": {},
     "output_type": "execute_result"
    }
   ],
   "source": [
    "# write your code from here\n",
    "import pandas as pd\n",
    "import numpy as np\n",
    "from sklearn.feature_selection import VarianceThreshold\n",
    "import unittest\n",
    "\n",
    "# ---------------------- Sample Data ----------------------\n",
    "data = {\n",
    "    'feature_constant': [1, 1, 1, 1, 1],\n",
    "    'feature_low_variance': [0, 0, 1, 0, 0],\n",
    "    'feature_high_variance': [10, 20, 15, 25, 30],\n",
    "    'feature_zero_variance': [5, 5, 5, 5, 5]\n",
    "}\n",
    "\n",
    "df = pd.DataFrame(data)\n",
    "\n",
    "# ---------------------- Error Handling ----------------------\n",
    "def validate_input_data(df):\n",
    "    if df.empty:\n",
    "        raise ValueError(\"Input DataFrame is empty.\")\n",
    "    if not all(df.dtypes.apply(lambda dt: np.issubdtype(dt, np.number))):\n",
    "        raise TypeError(\"All columns must be numeric for VarianceThreshold.\")\n",
    "    return True\n",
    "\n",
    "try:\n",
    "    validate_input_data(df)\n",
    "except Exception as e:\n",
    "    print(f\"Validation Error: {e}\")\n",
    "\n",
    "# ---------------------- Variance Threshold ----------------------\n",
    "# Remove features with variance <= 0.0 (default)\n",
    "selector = VarianceThreshold(threshold=0.1)  # Adjust threshold if needed\n",
    "reduced_data = selector.fit_transform(df)\n",
    "\n",
    "# Get the selected feature names\n",
    "selected_features = df.columns[selector.get_support(indices=True)]\n",
    "reduced_df = pd.DataFrame(reduced_data, columns=selected_features)\n",
    "\n",
    "print(\"Selected Features after Variance Thresholding:\\n\", selected_features)\n",
    "print(\"\\nReduced DataFrame:\\n\", reduced_df)\n",
    "\n",
    "# ---------------------- Unit Tests ----------------------\n",
    "class TestVarianceThreshold(unittest.TestCase):\n",
    "    def test_non_empty_output(self):\n",
    "        self.assertFalse(reduced_df.empty, \"Reduced DataFrame should not be empty.\")\n",
    "\n",
    "    def test_expected_columns(self):\n",
    "        expected_cols = {'feature_low_variance', 'feature_high_variance'}\n",
    "        self.assertTrue(expected_cols.issubset(set(reduced_df.columns)),\n",
    "                        \"Missing expected columns after feature selection.\")\n",
    "\n",
    "    def test_removed_constant_features(self):\n",
    "        self.assertNotIn('feature_constant', reduced_df.columns)\n",
    "        self.assertNotIn('feature_zero_variance', reduced_df.columns)\n",
    "\n",
    "unittest.TextTestRunner().run(unittest.TestLoader().loadTestsFromTestCase(TestVarianceThreshold))\n"
   ]
  }
 ],
 "metadata": {
  "kernelspec": {
   "display_name": "Python 3",
   "language": "python",
   "name": "python3"
  },
  "language_info": {
   "codemirror_mode": {
    "name": "ipython",
    "version": 3
   },
   "file_extension": ".py",
   "mimetype": "text/x-python",
   "name": "python",
   "nbconvert_exporter": "python",
   "pygments_lexer": "ipython3",
   "version": "3.10.12"
  }
 },
 "nbformat": 4,
 "nbformat_minor": 2
}
