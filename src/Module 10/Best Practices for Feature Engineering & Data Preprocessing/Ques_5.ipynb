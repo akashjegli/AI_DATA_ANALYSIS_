{
 "cells": [
  {
   "cell_type": "markdown",
   "metadata": {},
   "source": [
    "### Scaling & Feature Selection in a Pipeline\n",
    "**Description**: Create a pipeline that includes feature scaling, variance threshold selection, and a classification model."
   ]
  },
  {
   "cell_type": "code",
   "execution_count": 1,
   "metadata": {},
   "outputs": [
    {
     "name": "stderr",
     "output_type": "stream",
     "text": [
      "."
     ]
    },
    {
     "name": "stdout",
     "output_type": "stream",
     "text": [
      "Model Accuracy: 0.9167\n"
     ]
    },
    {
     "name": "stderr",
     "output_type": "stream",
     "text": [
      "..\n",
      "----------------------------------------------------------------------\n",
      "Ran 3 tests in 0.307s\n",
      "\n",
      "OK\n"
     ]
    },
    {
     "data": {
      "text/plain": [
       "<unittest.runner.TextTestResult run=3 errors=0 failures=0>"
      ]
     },
     "execution_count": 1,
     "metadata": {},
     "output_type": "execute_result"
    }
   ],
   "source": [
    "# write your code from here\n",
    "import numpy as np\n",
    "import pandas as pd\n",
    "from sklearn.datasets import make_classification\n",
    "from sklearn.model_selection import train_test_split\n",
    "from sklearn.ensemble import RandomForestClassifier\n",
    "from sklearn.preprocessing import StandardScaler\n",
    "from sklearn.feature_selection import VarianceThreshold\n",
    "from sklearn.pipeline import Pipeline\n",
    "from sklearn.metrics import accuracy_score\n",
    "import unittest\n",
    "\n",
    "# ----------------- Generate Synthetic Dataset -----------------\n",
    "X, y = make_classification(n_samples=300, n_features=6, n_informative=4, \n",
    "                           n_redundant=1, n_repeated=0, random_state=42)\n",
    "\n",
    "df = pd.DataFrame(X, columns=[f'feature_{i}' for i in range(X.shape[1])])\n",
    "df['target'] = y\n",
    "\n",
    "# ----------------- Error Handling -----------------\n",
    "def validate_dataset(df, target_col):\n",
    "    if df.empty:\n",
    "        raise ValueError(\"DataFrame is empty.\")\n",
    "    if target_col not in df.columns:\n",
    "        raise KeyError(f\"Target column '{target_col}' not found.\")\n",
    "    if df[target_col].nunique() < 2:\n",
    "        raise ValueError(\"Target column must contain at least 2 classes.\")\n",
    "\n",
    "try:\n",
    "    validate_dataset(df, 'target')\n",
    "except Exception as e:\n",
    "    print(f\"Validation Error: {e}\")\n",
    "\n",
    "# ----------------- Split Data -----------------\n",
    "X = df.drop(columns='target')\n",
    "y = df['target']\n",
    "X_train, X_test, y_train, y_test = train_test_split(X, y, test_size=0.2, random_state=42)\n",
    "\n",
    "# ----------------- Create Pipeline -----------------\n",
    "pipeline = Pipeline([\n",
    "    ('scaler', StandardScaler()),\n",
    "    ('variance_thresh', VarianceThreshold(threshold=0.1)),\n",
    "    ('classifier', RandomForestClassifier(random_state=42))\n",
    "])\n",
    "\n",
    "# ----------------- Fit & Predict -----------------\n",
    "pipeline.fit(X_train, y_train)\n",
    "y_pred = pipeline.predict(X_test)\n",
    "\n",
    "# ----------------- Evaluate -----------------\n",
    "accuracy = accuracy_score(y_test, y_pred)\n",
    "print(f\"Model Accuracy: {accuracy:.4f}\")\n",
    "\n",
    "# ----------------- Unit Tests -----------------\n",
    "class TestPipeline(unittest.TestCase):\n",
    "    def test_pipeline_fits(self):\n",
    "        pipeline.fit(X_train, y_train)\n",
    "        self.assertTrue(hasattr(pipeline.named_steps['classifier'], \"predict\"))\n",
    "\n",
    "    def test_pipeline_predicts(self):\n",
    "        y_pred = pipeline.predict(X_test)\n",
    "        self.assertEqual(len(y_pred), len(y_test))\n",
    "\n",
    "    def test_accuracy_non_zero(self):\n",
    "        acc = accuracy_score(y_test, y_pred)\n",
    "        self.assertGreater(acc, 0.0, \"Accuracy should be greater than 0.\")\n",
    "\n",
    "unittest.TextTestRunner().run(unittest.TestLoader().loadTestsFromTestCase(TestPipeline))\n"
   ]
  }
 ],
 "metadata": {
  "kernelspec": {
   "display_name": "Python 3",
   "language": "python",
   "name": "python3"
  },
  "language_info": {
   "codemirror_mode": {
    "name": "ipython",
    "version": 3
   },
   "file_extension": ".py",
   "mimetype": "text/x-python",
   "name": "python",
   "nbconvert_exporter": "python",
   "pygments_lexer": "ipython3",
   "version": "3.10.12"
  }
 },
 "nbformat": 4,
 "nbformat_minor": 2
}
