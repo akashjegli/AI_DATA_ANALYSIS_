{
 "cells": [
  {
   "cell_type": "markdown",
   "metadata": {},
   "source": [
    "### Task 1: Handling Missing Values - Simple Imputation\n",
    "**Description**: Given a dataset with missing values, impute the missing values using the mean for numerical features and the mode for categorical features."
   ]
  },
  {
   "cell_type": "code",
   "execution_count": 1,
   "metadata": {},
   "outputs": [
    {
     "name": "stderr",
     "output_type": "stream",
     "text": [
      "....\n",
      "----------------------------------------------------------------------\n",
      "Ran 4 tests in 0.014s\n",
      "\n",
      "OK\n"
     ]
    },
    {
     "name": "stdout",
     "output_type": "stream",
     "text": [
      "Original Data:\n",
      "     Age   Income  Gender\n",
      "0  25.0  50000.0    Male\n",
      "1  30.0  60000.0  Female\n",
      "2   NaN  55000.0     NaN\n",
      "3  40.0      NaN    Male\n",
      "4  35.0  52000.0  Female\n",
      "\n",
      "After Imputation:\n",
      "     Age   Income  Gender\n",
      "0  25.0  50000.0    Male\n",
      "1  30.0  60000.0  Female\n",
      "2  32.5  55000.0  Female\n",
      "3  40.0  54250.0    Male\n",
      "4  35.0  52000.0  Female\n",
      "\n",
      "After Min-Max Normalization on 'Income':\n",
      "     Age  Income  Gender\n",
      "0  25.0   0.000    Male\n",
      "1  30.0   1.000  Female\n",
      "2  32.5   0.500  Female\n",
      "3  40.0   0.425    Male\n",
      "4  35.0   0.200  Female\n",
      "\n",
      "After Dropping Rows with Missing Values:\n",
      "     Age   Income  Gender\n",
      "0  25.0  50000.0    Male\n",
      "1  30.0  60000.0  Female\n",
      "4  35.0  52000.0  Female\n",
      "\n",
      "After Standardizing 'Age':\n",
      "    Age   Income  Gender\n",
      "0 -1.5  50000.0    Male\n",
      "1 -0.5  60000.0  Female\n",
      "2  0.0  55000.0  Female\n",
      "3  1.5  54250.0    Male\n",
      "4  0.5  52000.0  Female\n"
     ]
    },
    {
     "data": {
      "text/plain": [
       "<unittest.runner.TextTestResult run=4 errors=0 failures=0>"
      ]
     },
     "execution_count": 1,
     "metadata": {},
     "output_type": "execute_result"
    }
   ],
   "source": [
    "# write your code from here\n",
    "import pandas as pd\n",
    "import numpy as np\n",
    "from sklearn.preprocessing import MinMaxScaler, StandardScaler\n",
    "import unittest\n",
    "\n",
    "# ---------------------------- Sample Data ----------------------------\n",
    "data = {\n",
    "    'Age': [25, 30, np.nan, 40, 35],\n",
    "    'Income': [50000, 60000, 55000, np.nan, 52000],\n",
    "    'Gender': ['Male', 'Female', np.nan, 'Male', 'Female']\n",
    "}\n",
    "df = pd.DataFrame(data)\n",
    "\n",
    "print(\"Original Data:\\n\", df)\n",
    "\n",
    "# ---------------------------- Task 1: Simple Imputation ----------------------------\n",
    "def impute_missing_values(df):\n",
    "    df_copy = df.copy()\n",
    "    for column in df_copy.columns:\n",
    "        if df_copy[column].dtype in ['float64', 'int64']:\n",
    "            df_copy[column].fillna(df_copy[column].mean(), inplace=True)\n",
    "        else:\n",
    "            df_copy[column].fillna(df_copy[column].mode()[0], inplace=True)\n",
    "    return df_copy\n",
    "\n",
    "df_imputed = impute_missing_values(df)\n",
    "print(\"\\nAfter Imputation:\\n\", df_imputed)\n",
    "\n",
    "# ---------------------------- Task 2: Min-Max Normalization ----------------------------\n",
    "def min_max_normalize(df, column):\n",
    "    if column not in df.columns:\n",
    "        raise ValueError(f\"Column '{column}' not found.\")\n",
    "    scaler = MinMaxScaler()\n",
    "    df_scaled = df.copy()\n",
    "    df_scaled[column] = scaler.fit_transform(df_scaled[[column]])\n",
    "    return df_scaled\n",
    "\n",
    "df_minmax = min_max_normalize(df_imputed, 'Income')\n",
    "print(\"\\nAfter Min-Max Normalization on 'Income':\\n\", df_minmax)\n",
    "\n",
    "# ---------------------------- Task 3: Drop Missing Values ----------------------------\n",
    "def drop_missing(df):\n",
    "    return df.dropna()\n",
    "\n",
    "df_dropped = drop_missing(df)\n",
    "print(\"\\nAfter Dropping Rows with Missing Values:\\n\", df_dropped)\n",
    "\n",
    "# ---------------------------- Task 4: Standardization ----------------------------\n",
    "def standardize_feature(df, column):\n",
    "    if column not in df.columns:\n",
    "        raise ValueError(f\"Column '{column}' not found.\")\n",
    "    scaler = StandardScaler()\n",
    "    df_scaled = df.copy()\n",
    "    df_scaled[column] = scaler.fit_transform(df_scaled[[column]])\n",
    "    return df_scaled\n",
    "\n",
    "df_standardized = standardize_feature(df_imputed, 'Age')\n",
    "print(\"\\nAfter Standardizing 'Age':\\n\", df_standardized)\n",
    "\n",
    "# ---------------------------- Unit Tests ----------------------------\n",
    "class TestDataProcessing(unittest.TestCase):\n",
    "\n",
    "    def test_imputation(self):\n",
    "        df_test = pd.DataFrame({\n",
    "            'Num': [1, 2, np.nan],\n",
    "            'Cat': ['A', np.nan, 'A']\n",
    "        })\n",
    "        result = impute_missing_values(df_test)\n",
    "        self.assertFalse(result.isnull().values.any())\n",
    "\n",
    "    def test_min_max(self):\n",
    "        df_test = pd.DataFrame({'Val': [10, 20, 30]})\n",
    "        result = min_max_normalize(df_test, 'Val')\n",
    "        self.assertTrue((result['Val'] >= 0).all() and (result['Val'] <= 1).all())\n",
    "\n",
    "    def test_drop_missing(self):\n",
    "        df_test = pd.DataFrame({'A': [1, np.nan], 'B': [2, 3]})\n",
    "        result = drop_missing(df_test)\n",
    "        self.assertEqual(len(result), 1)\n",
    "\n",
    "    def test_standardization(self):\n",
    "        df_test = pd.DataFrame({'Score': [50, 60, 70]})\n",
    "        result = standardize_feature(df_test, 'Score')\n",
    "        self.assertAlmostEqual(result['Score'].mean(), 0, places=1)\n",
    "\n",
    "unittest.TextTestRunner().run(unittest.TestLoader().loadTestsFromTestCase(TestDataProcessing))\n"
   ]
  },
  {
   "cell_type": "markdown",
   "metadata": {},
   "source": [
    "### Task 2: Feature Scaling - Min-Max Normalization\n",
    "**Description**: Normalize a numerical feature using Min-Max scaling to a range [0, 1]."
   ]
  },
  {
   "cell_type": "code",
   "execution_count": null,
   "metadata": {},
   "outputs": [],
   "source": [
    "# write your code from here"
   ]
  },
  {
   "cell_type": "markdown",
   "metadata": {},
   "source": [
    "### Task 3: Handling Missing Values - Drop Missing Values\n",
    "**Description**: Remove rows with missing values from a dataset."
   ]
  },
  {
   "cell_type": "code",
   "execution_count": null,
   "metadata": {},
   "outputs": [],
   "source": [
    "# write your code from here"
   ]
  },
  {
   "cell_type": "markdown",
   "metadata": {},
   "source": [
    "### Task 4: Feature Scaling - Standardization\n",
    "**Description**: Standardize a numerical feature to have zero mean and unit variance."
   ]
  },
  {
   "cell_type": "code",
   "execution_count": null,
   "metadata": {},
   "outputs": [],
   "source": [
    "# write your code from here"
   ]
  }
 ],
 "metadata": {
  "kernelspec": {
   "display_name": "Python 3",
   "language": "python",
   "name": "python3"
  },
  "language_info": {
   "codemirror_mode": {
    "name": "ipython",
    "version": 3
   },
   "file_extension": ".py",
   "mimetype": "text/x-python",
   "name": "python",
   "nbconvert_exporter": "python",
   "pygments_lexer": "ipython3",
   "version": "3.10.12"
  }
 },
 "nbformat": 4,
 "nbformat_minor": 2
}
