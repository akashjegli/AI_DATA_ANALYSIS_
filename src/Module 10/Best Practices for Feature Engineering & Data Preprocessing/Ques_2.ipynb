{
 "cells": [
  {
   "cell_type": "markdown",
   "metadata": {},
   "source": [
    "### Handling Missing Values - Imputation within ML Pipelines\n",
    "**Description**: Implement a machine learning pipeline that includes imputation and a classifier."
   ]
  },
  {
   "cell_type": "code",
   "execution_count": 1,
   "metadata": {},
   "outputs": [
    {
     "name": "stderr",
     "output_type": "stream",
     "text": [
      "/home/vscode/.local/lib/python3.10/site-packages/sklearn/metrics/_classification.py:1565: UndefinedMetricWarning: Precision is ill-defined and being set to 0.0 in labels with no predicted samples. Use `zero_division` parameter to control this behavior.\n",
      "  _warn_prf(average, modifier, f\"{metric.capitalize()} is\", len(result))\n",
      "/home/vscode/.local/lib/python3.10/site-packages/sklearn/metrics/_classification.py:1565: UndefinedMetricWarning: Precision is ill-defined and being set to 0.0 in labels with no predicted samples. Use `zero_division` parameter to control this behavior.\n",
      "  _warn_prf(average, modifier, f\"{metric.capitalize()} is\", len(result))\n",
      "/home/vscode/.local/lib/python3.10/site-packages/sklearn/metrics/_classification.py:1565: UndefinedMetricWarning: Precision is ill-defined and being set to 0.0 in labels with no predicted samples. Use `zero_division` parameter to control this behavior.\n",
      "  _warn_prf(average, modifier, f\"{metric.capitalize()} is\", len(result))\n",
      "...\n",
      "----------------------------------------------------------------------\n",
      "Ran 3 tests in 0.046s\n",
      "\n",
      "OK\n"
     ]
    },
    {
     "name": "stdout",
     "output_type": "stream",
     "text": [
      "Classification Report:\n",
      "               precision    recall  f1-score   support\n",
      "\n",
      "           0       0.00      0.00      0.00         2\n",
      "           1       0.33      1.00      0.50         1\n",
      "\n",
      "    accuracy                           0.33         3\n",
      "   macro avg       0.17      0.50      0.25         3\n",
      "weighted avg       0.11      0.33      0.17         3\n",
      "\n"
     ]
    },
    {
     "data": {
      "text/plain": [
       "<unittest.runner.TextTestResult run=3 errors=0 failures=0>"
      ]
     },
     "execution_count": 1,
     "metadata": {},
     "output_type": "execute_result"
    }
   ],
   "source": [
    "# write your code from here\n",
    "import pandas as pd\n",
    "import numpy as np\n",
    "from sklearn.model_selection import train_test_split\n",
    "from sklearn.impute import SimpleImputer\n",
    "from sklearn.pipeline import Pipeline\n",
    "from sklearn.compose import ColumnTransformer\n",
    "from sklearn.preprocessing import OneHotEncoder, StandardScaler\n",
    "from sklearn.ensemble import RandomForestClassifier\n",
    "from sklearn.metrics import classification_report\n",
    "import unittest\n",
    "\n",
    "# ---------------------------- Sample Data ----------------------------\n",
    "data = {\n",
    "    'Age': [25, np.nan, 35, 40, 29, np.nan, 45],\n",
    "    'Income': [50000, 60000, 52000, 58000, np.nan, 61000, 54000],\n",
    "    'Gender': ['Male', 'Female', 'Female', np.nan, 'Male', 'Female', 'Male'],\n",
    "    'Purchased': [1, 0, 1, 0, 1, 0, 1]\n",
    "}\n",
    "\n",
    "df = pd.DataFrame(data)\n",
    "\n",
    "# ---------------------------- Feature & Target ----------------------------\n",
    "X = df.drop(\"Purchased\", axis=1)\n",
    "y = df[\"Purchased\"]\n",
    "\n",
    "# ---------------------------- Splitting Data ----------------------------\n",
    "X_train, X_test, y_train, y_test = train_test_split(X, y, test_size=0.3, random_state=42)\n",
    "\n",
    "# ---------------------------- Column Types ----------------------------\n",
    "numeric_features = ['Age', 'Income']\n",
    "categorical_features = ['Gender']\n",
    "\n",
    "# ---------------------------- Pipelines ----------------------------\n",
    "\n",
    "# Numeric pipeline: Imputation + Scaling\n",
    "numeric_pipeline = Pipeline(steps=[\n",
    "    ('imputer', SimpleImputer(strategy='mean')),\n",
    "    ('scaler', StandardScaler())\n",
    "])\n",
    "\n",
    "# Categorical pipeline: Imputation + Encoding\n",
    "categorical_pipeline = Pipeline(steps=[\n",
    "    ('imputer', SimpleImputer(strategy='most_frequent')),\n",
    "    ('encoder', OneHotEncoder(handle_unknown='ignore'))\n",
    "])\n",
    "\n",
    "# Combine into ColumnTransformer\n",
    "preprocessor = ColumnTransformer(transformers=[\n",
    "    ('num', numeric_pipeline, numeric_features),\n",
    "    ('cat', categorical_pipeline, categorical_features)\n",
    "])\n",
    "\n",
    "# Full ML pipeline with classifier\n",
    "pipeline = Pipeline(steps=[\n",
    "    ('preprocessor', preprocessor),\n",
    "    ('classifier', RandomForestClassifier(random_state=42))\n",
    "])\n",
    "\n",
    "# ---------------------------- Fit and Predict ----------------------------\n",
    "pipeline.fit(X_train, y_train)\n",
    "y_pred = pipeline.predict(X_test)\n",
    "\n",
    "print(\"Classification Report:\\n\", classification_report(y_test, y_pred))\n",
    "\n",
    "# ---------------------------- Unit Tests ----------------------------\n",
    "class TestPipeline(unittest.TestCase):\n",
    "    def test_pipeline_prediction_shape(self):\n",
    "        pred = pipeline.predict(X_test)\n",
    "        self.assertEqual(pred.shape[0], X_test.shape[0])\n",
    "\n",
    "    def test_pipeline_handles_missing(self):\n",
    "        test_data = pd.DataFrame({\n",
    "            'Age': [np.nan, 35],\n",
    "            'Income': [60000, np.nan],\n",
    "            'Gender': ['Female', np.nan]\n",
    "        })\n",
    "        pred = pipeline.predict(test_data)\n",
    "        self.assertEqual(len(pred), 2)\n",
    "\n",
    "    def test_pipeline_output_range(self):\n",
    "        pred = pipeline.predict(X_test)\n",
    "        self.assertTrue(set(pred).issubset({0, 1}))\n",
    "\n",
    "unittest.TextTestRunner().run(unittest.TestLoader().loadTestsFromTestCase(TestPipeline))\n"
   ]
  }
 ],
 "metadata": {
  "kernelspec": {
   "display_name": "Python 3",
   "language": "python",
   "name": "python3"
  },
  "language_info": {
   "codemirror_mode": {
    "name": "ipython",
    "version": 3
   },
   "file_extension": ".py",
   "mimetype": "text/x-python",
   "name": "python",
   "nbconvert_exporter": "python",
   "pygments_lexer": "ipython3",
   "version": "3.10.12"
  }
 },
 "nbformat": 4,
 "nbformat_minor": 2
}
