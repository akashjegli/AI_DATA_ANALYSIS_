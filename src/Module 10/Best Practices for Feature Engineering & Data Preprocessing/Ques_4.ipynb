{
 "cells": [
  {
   "cell_type": "markdown",
   "metadata": {},
   "source": [
    "### Feature Selection - Using Mutual Information\n",
    "**Description**: Use mutual information for feature selection to identify important features."
   ]
  },
  {
   "cell_type": "code",
   "execution_count": 1,
   "metadata": {},
   "outputs": [
    {
     "name": "stderr",
     "output_type": "stream",
     "text": [
      "...\n",
      "----------------------------------------------------------------------\n",
      "Ran 3 tests in 0.002s\n",
      "\n",
      "OK\n"
     ]
    },
    {
     "name": "stdout",
     "output_type": "stream",
     "text": [
      "Top Features by Mutual Information:\n",
      " feature_1    0.309414\n",
      "feature_2    0.195494\n",
      "feature_4    0.073346\n",
      "feature_3    0.063785\n",
      "feature_5    0.000000\n",
      "feature_6    0.000000\n",
      "dtype: float64\n",
      "\n",
      "Selected Top 3 Features:\n",
      " ['feature_1', 'feature_2', 'feature_4']\n",
      "\n",
      "Reduced Feature Set:\n",
      "    feature_1  feature_2  feature_4\n",
      "0  -0.755184  -1.184062  -0.615488\n",
      "1  -0.466941  -0.743048  -0.108170\n",
      "2  -0.995675  -0.791000  -0.762148\n",
      "3  -1.303612   0.046448  -0.766858\n",
      "4  -1.641297  -1.106601  -1.704311\n"
     ]
    },
    {
     "data": {
      "text/plain": [
       "<unittest.runner.TextTestResult run=3 errors=0 failures=0>"
      ]
     },
     "execution_count": 1,
     "metadata": {},
     "output_type": "execute_result"
    }
   ],
   "source": [
    "# write your code from here\n",
    "import pandas as pd\n",
    "import numpy as np\n",
    "from sklearn.feature_selection import mutual_info_classif\n",
    "from sklearn.datasets import make_classification\n",
    "from sklearn.ensemble import RandomForestClassifier\n",
    "from sklearn.model_selection import train_test_split\n",
    "import unittest\n",
    "\n",
    "# ---------------------- Generate Sample Data ----------------------\n",
    "# Synthetic classification dataset\n",
    "X, y = make_classification(n_samples=200, n_features=6, n_informative=3,\n",
    "                           n_redundant=1, random_state=42, shuffle=False)\n",
    "\n",
    "feature_names = ['feature_1', 'feature_2', 'feature_3',\n",
    "                 'feature_4', 'feature_5', 'feature_6']\n",
    "df = pd.DataFrame(X, columns=feature_names)\n",
    "df['target'] = y\n",
    "\n",
    "# ---------------------- Error Handling ----------------------\n",
    "def validate_dataframe(df, target_col):\n",
    "    if df.empty:\n",
    "        raise ValueError(\"DataFrame is empty.\")\n",
    "    if target_col not in df.columns:\n",
    "        raise KeyError(f\"Target column '{target_col}' not found.\")\n",
    "    if df[target_col].nunique() <= 1:\n",
    "        raise ValueError(\"Target column must have more than one class.\")\n",
    "    return True\n",
    "\n",
    "try:\n",
    "    validate_dataframe(df, 'target')\n",
    "except Exception as e:\n",
    "    print(f\"Validation Error: {e}\")\n",
    "\n",
    "# ---------------------- Mutual Information ----------------------\n",
    "X = df.drop('target', axis=1)\n",
    "y = df['target']\n",
    "\n",
    "# Compute mutual information\n",
    "mi_scores = mutual_info_classif(X, y, random_state=42)\n",
    "mi_series = pd.Series(mi_scores, index=X.columns).sort_values(ascending=False)\n",
    "\n",
    "# Select top N features (e.g., top 3)\n",
    "top_features = mi_series.head(3).index.tolist()\n",
    "X_selected = X[top_features]\n",
    "\n",
    "print(\"Top Features by Mutual Information:\\n\", mi_series)\n",
    "print(\"\\nSelected Top 3 Features:\\n\", top_features)\n",
    "print(\"\\nReduced Feature Set:\\n\", X_selected.head())\n",
    "\n",
    "# ---------------------- Unit Tests ----------------------\n",
    "class TestMutualInformationSelection(unittest.TestCase):\n",
    "    def test_non_empty_selection(self):\n",
    "        self.assertGreater(len(X_selected.columns), 0, \"No features selected.\")\n",
    "\n",
    "    def test_expected_column_presence(self):\n",
    "        for col in top_features:\n",
    "            self.assertIn(col, X_selected.columns)\n",
    "\n",
    "    def test_mutual_information_values(self):\n",
    "        self.assertTrue(all(val >= 0 for val in mi_series),\n",
    "                        \"All mutual information values should be non-negative.\")\n",
    "\n",
    "unittest.TextTestRunner().run(unittest.TestLoader().loadTestsFromTestCase(TestMutualInformationSelection))\n"
   ]
  }
 ],
 "metadata": {
  "kernelspec": {
   "display_name": "Python 3",
   "language": "python",
   "name": "python3"
  },
  "language_info": {
   "codemirror_mode": {
    "name": "ipython",
    "version": 3
   },
   "file_extension": ".py",
   "mimetype": "text/x-python",
   "name": "python",
   "nbconvert_exporter": "python",
   "pygments_lexer": "ipython3",
   "version": "3.10.12"
  }
 },
 "nbformat": 4,
 "nbformat_minor": 2
}
