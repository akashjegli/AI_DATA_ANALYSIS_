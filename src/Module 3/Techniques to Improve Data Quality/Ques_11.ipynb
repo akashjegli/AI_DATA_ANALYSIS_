{
 "cells": [
  {
   "cell_type": "code",
   "execution_count": 1,
   "metadata": {},
   "outputs": [
    {
     "ename": "AttributeError",
     "evalue": "module 'great_expectations' has no attribute 'from_pandas'",
     "output_type": "error",
     "traceback": [
      "\u001b[0;31m---------------------------------------------------------------------------\u001b[0m",
      "\u001b[0;31mAttributeError\u001b[0m                            Traceback (most recent call last)",
      "Cell \u001b[0;32mIn[1], line 21\u001b[0m\n\u001b[1;32m     18\u001b[0m df \u001b[38;5;241m=\u001b[39m pd\u001b[38;5;241m.\u001b[39mDataFrame(data)\n\u001b[1;32m     20\u001b[0m \u001b[38;5;66;03m# Convert the DataFrame to Great Expectations DataFrame\u001b[39;00m\n\u001b[0;32m---> 21\u001b[0m ge_df \u001b[38;5;241m=\u001b[39m \u001b[43mge\u001b[49m\u001b[38;5;241;43m.\u001b[39;49m\u001b[43mfrom_pandas\u001b[49m(df)\n\u001b[1;32m     23\u001b[0m \u001b[38;5;66;03m# Create an expectation to check for missing values in the 'value' column\u001b[39;00m\n\u001b[1;32m     24\u001b[0m ge_df\u001b[38;5;241m.\u001b[39mexpect_column_values_to_be_in_set(\u001b[38;5;124m'\u001b[39m\u001b[38;5;124mvalue\u001b[39m\u001b[38;5;124m'\u001b[39m, [\u001b[38;5;28;01mNone\u001b[39;00m])\n",
      "\u001b[0;31mAttributeError\u001b[0m: module 'great_expectations' has no attribute 'from_pandas'"
     ]
    }
   ],
   "source": [
    "# Activity 1: Handling Missing Data\n",
    "\n",
    "# Task A: Dropping vs Imputation\n",
    "\n",
    "# 1. Dropping Missing Data:\n",
    "# - Load a dataset (e.g., a CSV file with some missing values like employees.csv ).\n",
    "# - Inspect the dataset for missing values using a Python library (e.g., Pandas).\n",
    "# - Drop rows with missing data and save the result.\n",
    "\n",
    "\n",
    "import pandas as pd\n",
    "import great_expectations as ge\n",
    "\n",
    "# Sample DataFrame with missing values\n",
    "data = {'id': [1, 2, 3, 4],\n",
    "        'value': [10.5, None, 20.5, None]}\n",
    "\n",
    "df = pd.DataFrame(data)\n",
    "\n",
    "# Convert the DataFrame to Great Expectations DataFrame\n",
    "ge_df = ge.from_pandas(df)\n",
    "\n",
    "# Create an expectation to check for missing values in the 'value' column\n",
    "ge_df.expect_column_values_to_be_in_set('value', [None])\n",
    "\n",
    "# Initialize Great Expectations context (assuming you have already initialized it)\n",
    "context = ge.data_context.DataContext(\"/path/to/your/great_expectations/directory\")\n",
    "\n",
    "# Create the expectation suite\n",
    "suite_name = \"missing_value_suite\"\n",
    "suite = context.create_expectation_suite(suite_name, overwrite_existing=True)\n",
    "\n",
    "# Validate data\n",
    "result = ge_df.validate(expectation_suite=suite)\n",
    "print(result)\n",
    "\n",
    "\n",
    "\n",
    "\n",
    "# 2. Imputation using Mean:\n",
    "# - Use the same dataset.\n",
    "# - Fill missing numerical values with the column mean.\n",
    "# - Save and display the modified data.\n",
    "\n",
    "\n",
    "\n",
    "\n",
    "\n",
    "\n",
    "\n",
    "\n",
    "\n",
    "# 3. Imputation using Median and Mode:\n",
    "# - For numerical columns, replace missing values with the median.\n",
    "# - For categorical columns, use the mode.\n",
    "# - Display the updated dataset.\n",
    "\n",
    "\n",
    "\n",
    "\n",
    "\n"
   ]
  },
  {
   "cell_type": "code",
   "execution_count": null,
   "metadata": {},
   "outputs": [],
   "source": [
    "# Task B: Predictive Imputation\n",
    "\n",
    "# 4. ML-based Imputation with Simple Imputer:\n",
    "# - Use SimpleImputer from sklearn to fill missing values.\n",
    "# - Choose a strategy (e.g., mean) and apply it to the dataset.\n",
    "\n",
    "\n",
    "\n",
    "\n",
    "\n",
    "# 5. Imputation using a Regression Model:\n",
    "# - Use a regression model to predict missing values.\n",
    "# - Train the model on complete cases and fill the missing data.\n",
    "\n",
    "\n",
    "\n",
    "\n",
    "# 6. K-Nearest Neighbors Imputation:\n",
    "# - Use KNNImputer from sklearn .\n",
    "# - Impute missing data based on neighbors' information.\n",
    "\n",
    "\n",
    "\n",
    "\n"
   ]
  }
 ],
 "metadata": {
  "kernelspec": {
   "display_name": "Python 3",
   "language": "python",
   "name": "python3"
  },
  "language_info": {
   "codemirror_mode": {
    "name": "ipython",
    "version": 3
   },
   "file_extension": ".py",
   "mimetype": "text/x-python",
   "name": "python",
   "nbconvert_exporter": "python",
   "pygments_lexer": "ipython3",
   "version": "3.10.12"
  }
 },
 "nbformat": 4,
 "nbformat_minor": 2
}
