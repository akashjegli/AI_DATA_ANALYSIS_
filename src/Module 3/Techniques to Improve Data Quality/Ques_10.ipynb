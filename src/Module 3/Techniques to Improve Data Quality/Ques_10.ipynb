{
 "cells": [
  {
   "cell_type": "code",
   "execution_count": 1,
   "metadata": {},
   "outputs": [
    {
     "name": "stdout",
     "output_type": "stream",
     "text": [
      "Potential duplicate ID pairs (similarity > 0.85):\n",
      "(3, 4)\n"
     ]
    }
   ],
   "source": [
    "# Question: Advanced Deduplication Using Machine Learning\n",
    "# Description: Implement ML-based deduplication based on feature similarity.\n",
    "\n",
    "import pandas as pd\n",
    "from sklearn.feature_extraction.text import TfidfVectorizer\n",
    "from sklearn.metrics.pairwise import cosine_similarity\n",
    "\n",
    "# Step 1: Sample dataset with possible duplicates\n",
    "data = {\n",
    "    'id': [1, 2, 3, 4, 5],\n",
    "    'name': [\n",
    "        'John Doe',\n",
    "        'Jon Doe',\n",
    "        'Jane Smith',\n",
    "        'Jane A. Smith',\n",
    "        'J. Smith'\n",
    "    ]\n",
    "}\n",
    "\n",
    "df = pd.DataFrame(data)\n",
    "\n",
    "# Step 2: Compute TF-IDF vectors for 'name' column\n",
    "vectorizer = TfidfVectorizer().fit_transform(df['name'])\n",
    "similarity_matrix = cosine_similarity(vectorizer)\n",
    "\n",
    "# Step 3: Mark duplicate pairs based on similarity threshold\n",
    "threshold = 0.85\n",
    "duplicates = set()\n",
    "\n",
    "for i in range(len(df)):\n",
    "    for j in range(i + 1, len(df)):\n",
    "        if similarity_matrix[i, j] > threshold:\n",
    "            duplicates.add((df.iloc[i]['id'], df.iloc[j]['id']))\n",
    "\n",
    "# Step 4: Show results\n",
    "print(\"Potential duplicate ID pairs (similarity > 0.85):\")\n",
    "for pair in duplicates:\n",
    "    print(pair)\n",
    "\n"
   ]
  }
 ],
 "metadata": {
  "kernelspec": {
   "display_name": "Python 3",
   "language": "python",
   "name": "python3"
  },
  "language_info": {
   "codemirror_mode": {
    "name": "ipython",
    "version": 3
   },
   "file_extension": ".py",
   "mimetype": "text/x-python",
   "name": "python",
   "nbconvert_exporter": "python",
   "pygments_lexer": "ipython3",
   "version": "3.10.12"
  }
 },
 "nbformat": 4,
 "nbformat_minor": 2
}
