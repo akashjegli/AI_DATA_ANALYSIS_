{
 "cells": [
  {
   "cell_type": "markdown",
   "metadata": {},
   "source": [
    "## Format Compliance for Email\n",
    "\n",
    "**Description**: Check if emails in a list are valid based on a basic regex pattern."
   ]
  },
  {
   "cell_type": "code",
   "execution_count": 1,
   "metadata": {},
   "outputs": [
    {
     "name": "stdout",
     "output_type": "stream",
     "text": [
      "Valid Emails: ['test@example.com', 'hello@domain.co']\n",
      "Invalid Emails: ['invalid-email@', 'wrong@domain']\n"
     ]
    }
   ],
   "source": [
    "# Write your code from here\n",
    "import re\n",
    "\n",
    "def validate_emails(email_list):\n",
    "    # Regex pattern for basic email validation\n",
    "    email_pattern = r'^[a-zA-Z0-9._%+-]+@[a-zA-Z0-9.-]+\\.[a-zA-Z]{2,}$'\n",
    "    \n",
    "    valid_emails = []\n",
    "    invalid_emails = []\n",
    "    \n",
    "    for email in email_list:\n",
    "        if re.match(email_pattern, email):\n",
    "            valid_emails.append(email)\n",
    "        else:\n",
    "            invalid_emails.append(email)\n",
    "    \n",
    "    return valid_emails, invalid_emails\n",
    "\n",
    "\n",
    "# Example usage:\n",
    "emails = ['test@example.com', 'invalid-email@', 'hello@domain.co', 'wrong@domain']\n",
    "valid, invalid = validate_emails(emails)\n",
    "print(f\"Valid Emails: {valid}\")\n",
    "print(f\"Invalid Emails: {invalid}\")"
   ]
  },
  {
   "cell_type": "markdown",
   "metadata": {},
   "source": [
    "## Format Compliance for Phone Numbers\n",
    "\n",
    "**Description**: Verify if the phone numbers follow a specific pattern."
   ]
  },
  {
   "cell_type": "code",
   "execution_count": 2,
   "metadata": {},
   "outputs": [
    {
     "name": "stdout",
     "output_type": "stream",
     "text": [
      "Valid Phone Numbers: ['123-456-7890', '555-123-4567']\n",
      "Invalid Phone Numbers: ['987-654-321', 'invalid-phone']\n"
     ]
    }
   ],
   "source": [
    "# Write your code from \n",
    "def validate_phone_numbers(phone_list):\n",
    "    # Regex pattern for basic US phone number validation (xxx-xxx-xxxx format)\n",
    "    phone_pattern = r'^\\d{3}-\\d{3}-\\d{4}$'\n",
    "    \n",
    "    valid_phones = []\n",
    "    invalid_phones = []\n",
    "    \n",
    "    for phone in phone_list:\n",
    "        if re.match(phone_pattern, phone):\n",
    "            valid_phones.append(phone)\n",
    "        else:\n",
    "            invalid_phones.append(phone)\n",
    "    \n",
    "    return valid_phones, invalid_phones\n",
    "\n",
    "\n",
    "# Example usage:\n",
    "phone_numbers = ['123-456-7890', '987-654-321', '555-123-4567', 'invalid-phone']\n",
    "valid_phones, invalid_phones = validate_phone_numbers(phone_numbers)\n",
    "print(f\"Valid Phone Numbers: {valid_phones}\")\n",
    "print(f\"Invalid Phone Numbers: {invalid_phones}\")"
   ]
  },
  {
   "cell_type": "markdown",
   "metadata": {},
   "source": [
    "## Checking Date Validity Format\n",
    "\n",
    "**Description**: Ensure the dates in a list adhere to a specific format (e.g., YYYY-MM-DD)."
   ]
  },
  {
   "cell_type": "code",
   "execution_count": 3,
   "metadata": {},
   "outputs": [
    {
     "name": "stdout",
     "output_type": "stream",
     "text": [
      "Valid Dates: ['2025-05-10', '2024-12-01']\n",
      "Invalid Dates: ['2023-02-30', '10-05-2025']\n"
     ]
    }
   ],
   "source": [
    "# Write your code from here\n",
    "from datetime import datetime\n",
    "\n",
    "def validate_date_format(date_list, date_format='%Y-%m-%d'):\n",
    "    \"\"\"\n",
    "    Checks if each date in the list matches the given format.\n",
    "    \n",
    "    Parameters:\n",
    "    - date_list: List of date strings.\n",
    "    - date_format: Format string to validate against (default is 'YYYY-MM-DD').\n",
    "\n",
    "    Returns:\n",
    "    - A tuple containing a list of valid dates and a list of invalid dates.\n",
    "    \"\"\"\n",
    "    valid_dates = []\n",
    "    invalid_dates = []\n",
    "    \n",
    "    for date_str in date_list:\n",
    "        try:\n",
    "            datetime.strptime(date_str, date_format)\n",
    "            valid_dates.append(date_str)\n",
    "        except ValueError:\n",
    "            invalid_dates.append(date_str)\n",
    "    \n",
    "    return valid_dates, invalid_dates\n",
    "\n",
    "\n",
    "# Example usage:\n",
    "dates = ['2025-05-10', '2023-02-30', '2024-12-01', '10-05-2025']\n",
    "valid, invalid = validate_date_format(dates)\n",
    "\n",
    "print(f\"Valid Dates: {valid}\")\n",
    "print(f\"Invalid Dates: {invalid}\")"
   ]
  }
 ],
 "metadata": {
  "kernelspec": {
   "display_name": "Python 3",
   "language": "python",
   "name": "python3"
  },
  "language_info": {
   "codemirror_mode": {
    "name": "ipython",
    "version": 3
   },
   "file_extension": ".py",
   "mimetype": "text/x-python",
   "name": "python",
   "nbconvert_exporter": "python",
   "pygments_lexer": "ipython3",
   "version": "3.10.12"
  }
 },
 "nbformat": 4,
 "nbformat_minor": 2
}
