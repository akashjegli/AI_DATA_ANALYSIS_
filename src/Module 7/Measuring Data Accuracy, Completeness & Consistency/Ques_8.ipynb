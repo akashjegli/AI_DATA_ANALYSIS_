{
 "cells": [
  {
   "cell_type": "markdown",
   "metadata": {},
   "source": [
    "# Measuring Data Accuracy\n",
    "\n",
    "**Activity Overview**: Assess data accuracy by comparing it to a trusted source and detecting incorrect values or mismatches.\n",
    "\n",
    "## Title: Product Pricing\n",
    "\n",
    "**Task**: Compare a dataset of product prices with the latest official price list.\n",
    "\n",
    "**Steps**:\n",
    "1. Obtain the latest product price list from the official company website.\n",
    "2. Compare the dataset's product prices against the verified list.\n",
    "3. Identify any discrepancies and mark them for correction."
   ]
  },
  {
   "cell_type": "code",
   "execution_count": 1,
   "metadata": {},
   "outputs": [
    {
     "name": "stdout",
     "output_type": "stream",
     "text": [
      "CSV files created successfully!\n"
     ]
    }
   ],
   "source": [
    "# Write your code from here\n",
    "import pandas as pd\n",
    "\n",
    "# Create the company_prices DataFrame\n",
    "company_prices = pd.DataFrame({\n",
    "    'product_id': [101, 102, 103, 104, 105],\n",
    "    'price': [20.00, 30.00, 25.00, 40.00, 15.00]\n",
    "})\n",
    "\n",
    "# Create the trusted_prices DataFrame\n",
    "trusted_prices = pd.DataFrame({\n",
    "    'product_id': [101, 102, 103, 104, 105],\n",
    "    'price': [19.99, 30.00, 25.00, 40.00, 16.00]\n",
    "})\n",
    "\n",
    "# Save the DataFrames to CSV files\n",
    "company_prices.to_csv('company_prices.csv', index=False)\n",
    "trusted_prices.to_csv('trusted_prices.csv', index=False)\n",
    "\n",
    "print(\"CSV files created successfully!\")"
   ]
  },
  {
   "cell_type": "code",
   "execution_count": 2,
   "metadata": {},
   "outputs": [
    {
     "name": "stdout",
     "output_type": "stream",
     "text": [
      "Discrepancies found:\n",
      "   product_id  price_company  price_trusted\n",
      "0         101           20.0          19.99\n",
      "4         105           15.0          16.00\n"
     ]
    }
   ],
   "source": [
    "import pandas as pd\n",
    "import os\n",
    "\n",
    "# Function to load a CSV file with error handling\n",
    "def load_csv(file_path):\n",
    "    try:\n",
    "        # Check if file exists\n",
    "        if not os.path.exists(file_path):\n",
    "            raise FileNotFoundError(f\"File '{file_path}' not found.\")\n",
    "        \n",
    "        # Load the CSV file into a DataFrame\n",
    "        df = pd.read_csv(file_path)\n",
    "        \n",
    "        # Check for missing columns in the expected format\n",
    "        required_columns = ['product_id', 'price']  # Assuming 'product_id' and 'price' are required in both datasets\n",
    "        if not all(col in df.columns for col in required_columns):\n",
    "            raise ValueError(f\"The CSV file '{file_path}' is missing required columns.\")\n",
    "        \n",
    "        return df\n",
    "    \n",
    "    except FileNotFoundError as e:\n",
    "        print(f\"Error: {e}\")\n",
    "        return None\n",
    "    except ValueError as e:\n",
    "        print(f\"Error: {e}\")\n",
    "        return None\n",
    "    except pd.errors.EmptyDataError:\n",
    "        print(f\"Error: The file '{file_path}' is empty.\")\n",
    "        return None\n",
    "    except Exception as e:\n",
    "        print(f\"An unexpected error occurred while reading '{file_path}': {e}\")\n",
    "        return None\n",
    "\n",
    "# Function to compare product prices\n",
    "def compare_prices(company_prices_df, trusted_prices_df):\n",
    "    if company_prices_df is None or trusted_prices_df is None:\n",
    "        print(\"One or both datasets failed to load, exiting the comparison.\")\n",
    "        return\n",
    "\n",
    "    # Merge the two datasets on 'product_id' to compare the prices\n",
    "    merged_df = pd.merge(company_prices_df, trusted_prices_df, on='product_id', how='left', suffixes=('_company', '_trusted'))\n",
    "\n",
    "    # Identify discrepancies in the prices\n",
    "    discrepancies = merged_df[merged_df['price_company'] != merged_df['price_trusted']]\n",
    "    \n",
    "    # Display the discrepancies\n",
    "    if not discrepancies.empty:\n",
    "        print(\"Discrepancies found:\")\n",
    "        print(discrepancies[['product_id', 'price_company', 'price_trusted']])\n",
    "    else:\n",
    "        print(\"No discrepancies found. All prices are accurate.\")\n",
    "\n",
    "    # Optionally, you could save the discrepancies to a new CSV\n",
    "    discrepancies.to_csv('price_discrepancies.csv', index=False)\n",
    "\n",
    "# Main function to load data and compare prices\n",
    "def main():\n",
    "    company_prices_file = 'company_prices.csv'\n",
    "    trusted_prices_file = 'trusted_prices.csv'\n",
    "\n",
    "    # Load the datasets\n",
    "    company_prices_df = load_csv(company_prices_file)\n",
    "    trusted_prices_df = load_csv(trusted_prices_file)\n",
    "    \n",
    "    # Perform the price comparison\n",
    "    compare_prices(company_prices_df, trusted_prices_df)\n",
    "\n",
    "if __name__ == \"__main__\":\n",
    "    main()"
   ]
  }
 ],
 "metadata": {
  "kernelspec": {
   "display_name": "Python 3",
   "language": "python",
   "name": "python3"
  },
  "language_info": {
   "codemirror_mode": {
    "name": "ipython",
    "version": 3
   },
   "file_extension": ".py",
   "mimetype": "text/x-python",
   "name": "python",
   "nbconvert_exporter": "python",
   "pygments_lexer": "ipython3",
   "version": "3.10.12"
  }
 },
 "nbformat": 4,
 "nbformat_minor": 2
}
