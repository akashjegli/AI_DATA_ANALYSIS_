{
 "cells": [
  {
   "cell_type": "markdown",
   "metadata": {},
   "source": [
    "# Ensuring Consistency\n",
    "\n",
    "**Activity Overview**: Ensure consistency by identifying and resolving conflicting values across datasets.\n",
    "\n",
    "## Title: Customer Address Discrepancies\n",
    "\n",
    "**Task**: Address customer address mismatches between CRM and marketing databases.\n",
    "\n",
    "**Steps**:\n",
    "1. Compare customer addresses in the CRM with those in the marketing database.\n",
    "2. Identify records with conflicting address information.\n",
    "3. Propose a method to consolidate records with verified addresses."
   ]
  },
  {
   "cell_type": "code",
   "execution_count": 1,
   "metadata": {},
   "outputs": [
    {
     "name": "stdout",
     "output_type": "stream",
     "text": [
      "CRM customer data CSV created.\n",
      "Marketing customer data CSV created.\n"
     ]
    }
   ],
   "source": [
    "# Write your code from here\n",
    "import pandas as pd\n",
    "\n",
    "# Create CRM customers DataFrame\n",
    "crm_data = {\n",
    "    'customer_id': [1, 2, 3, 4],\n",
    "    'address': ['123 Main St', '456 Oak St', '789 Pine St', '101 Tech Ave']\n",
    "}\n",
    "crm_df = pd.DataFrame(crm_data)\n",
    "\n",
    "# Save CRM customers DataFrame to CSV\n",
    "crm_df.to_csv('crm_customers.csv', index=False)\n",
    "print(\"CRM customer data CSV created.\")\n",
    "\n",
    "# Create Marketing customers DataFrame\n",
    "marketing_data = {\n",
    "    'customer_id': [1, 2, 3, 4],\n",
    "    'address': ['123 Main Street', '456 Oak Street', '789 Pine St', '101 Tech Avenue']\n",
    "}\n",
    "marketing_df = pd.DataFrame(marketing_data)\n",
    "\n",
    "# Save Marketing customers DataFrame to CSV\n",
    "marketing_df.to_csv('marketing_customers.csv', index=False)\n",
    "print(\"Marketing customer data CSV created.\")"
   ]
  },
  {
   "cell_type": "code",
   "execution_count": 2,
   "metadata": {},
   "outputs": [
    {
     "name": "stdout",
     "output_type": "stream",
     "text": [
      "Address discrepancies found:\n",
      "   customer_id   address_crm address_marketing\n",
      "0            1   123 Main St   123 Main Street\n",
      "1            2    456 Oak St    456 Oak Street\n",
      "3            4  101 Tech Ave   101 Tech Avenue\n",
      "All discrepancies have been resolved.\n"
     ]
    }
   ],
   "source": [
    "import pandas as pd\n",
    "\n",
    "def load_data(file_path):\n",
    "    \"\"\"Loads a CSV file and handles exceptions.\"\"\"\n",
    "    try:\n",
    "        df = pd.read_csv(file_path)\n",
    "        return df\n",
    "    except FileNotFoundError:\n",
    "        print(f\"Error: The file {file_path} does not exist.\")\n",
    "        return None\n",
    "    except pd.errors.ParserError:\n",
    "        print(\"Error: The file could not be parsed.\")\n",
    "        return None\n",
    "\n",
    "def identify_address_discrepancies(crm_df, marketing_df):\n",
    "    \"\"\"Identify discrepancies in customer addresses between CRM and marketing datasets.\"\"\"\n",
    "    \n",
    "    # Merge the CRM and Marketing data on customer_id\n",
    "    merged_df = pd.merge(crm_df[['customer_id', 'address']], marketing_df[['customer_id', 'address']], \n",
    "                         on='customer_id', how='outer', suffixes=('_crm', '_marketing'))\n",
    "    \n",
    "    # Identify records where addresses do not match\n",
    "    discrepancies = merged_df[merged_df['address_crm'] != merged_df['address_marketing']]\n",
    "    \n",
    "    return discrepancies\n",
    "\n",
    "def resolve_address_discrepancies(merged_df):\n",
    "    \"\"\"Propose a method to resolve address discrepancies (e.g., prefer CRM or marketing data).\"\"\"\n",
    "    \n",
    "    # Example rule: Prefer the CRM address when a discrepancy occurs\n",
    "    merged_df['resolved_address'] = merged_df['address_crm'].fillna(merged_df['address_marketing'])\n",
    "    \n",
    "    # Flag rows that still have missing values after filling\n",
    "    unresolved_discrepancies = merged_df[merged_df['resolved_address'].isnull()]\n",
    "    \n",
    "    return merged_df, unresolved_discrepancies\n",
    "\n",
    "def main():\n",
    "    # Load CRM and Marketing data\n",
    "    crm_data = load_data('crm_customers.csv')\n",
    "    marketing_data = load_data('marketing_customers.csv')\n",
    "\n",
    "    if crm_data is not None and marketing_data is not None:\n",
    "        # Identify address discrepancies\n",
    "        discrepancies = identify_address_discrepancies(crm_data, marketing_data)\n",
    "        \n",
    "        if not discrepancies.empty:\n",
    "            print(\"Address discrepancies found:\")\n",
    "            print(discrepancies[['customer_id', 'address_crm', 'address_marketing']])\n",
    "            \n",
    "            # Resolve discrepancies by applying rules\n",
    "            merged_data, unresolved = resolve_address_discrepancies(discrepancies)\n",
    "            \n",
    "            if not unresolved.empty:\n",
    "                print(\"Unresolved address discrepancies that require manual review:\")\n",
    "                print(unresolved[['customer_id', 'address_crm', 'address_marketing']])\n",
    "            else:\n",
    "                print(\"All discrepancies have been resolved.\")\n",
    "                \n",
    "            # Save the resolved data (or for further analysis)\n",
    "            merged_data.to_csv('resolved_customer_addresses.csv', index=False)\n",
    "        else:\n",
    "            print(\"No address discrepancies found.\")\n",
    "\n",
    "if __name__ == \"__main__\":\n",
    "    main()"
   ]
  }
 ],
 "metadata": {
  "kernelspec": {
   "display_name": "Python 3",
   "language": "python",
   "name": "python3"
  },
  "language_info": {
   "codemirror_mode": {
    "name": "ipython",
    "version": 3
   },
   "file_extension": ".py",
   "mimetype": "text/x-python",
   "name": "python",
   "nbconvert_exporter": "python",
   "pygments_lexer": "ipython3",
   "version": "3.10.12"
  }
 },
 "nbformat": 4,
 "nbformat_minor": 2
}
