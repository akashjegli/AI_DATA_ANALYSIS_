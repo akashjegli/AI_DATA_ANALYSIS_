{
 "cells": [
  {
   "cell_type": "markdown",
   "metadata": {},
   "source": [
    "### Task 1: Measure Data Accuracy using a Trusted Source\n",
    "\n",
    "**Description**: You have two datasets of product prices: `company_prices.csv` and\n",
    "`trusted_prices.csv` . Check if the prices in `company_prices.csv` match the prices in\n",
    "`trusted_prices.csv` . Assume both files have a \"product_id\" and \"price\" column."
   ]
  },
  {
   "cell_type": "code",
   "execution_count": 1,
   "metadata": {},
   "outputs": [
    {
     "name": "stdout",
     "output_type": "stream",
     "text": [
      "CSV files have been created.\n",
      "Price mismatches found:\n",
      "   product_id  price_company  price_trusted\n",
      "1           2          20.99          19.99\n",
      "2           3          -5.99          10.99\n",
      "\n",
      "Negative price values found:\n",
      "   product_id  price\n",
      "2           3  -5.99\n"
     ]
    }
   ],
   "source": [
    "# Write your code from here\n",
    "import pandas as pd\n",
    "\n",
    "# Data for company_prices.csv\n",
    "company_prices_data = {\n",
    "    'product_id': [1, 2, 3, 4],\n",
    "    'price': [10.99, 20.99, -5.99, 15.50]\n",
    "}\n",
    "\n",
    "# Data for trusted_prices.csv\n",
    "trusted_prices_data = {\n",
    "    'product_id': [1, 2, 3, 4],\n",
    "    'price': [10.99, 19.99, 10.99, 15.50]\n",
    "}\n",
    "\n",
    "# Convert data into DataFrames\n",
    "company_prices_df = pd.DataFrame(company_prices_data)\n",
    "trusted_prices_df = pd.DataFrame(trusted_prices_data)\n",
    "\n",
    "# Save the DataFrames to CSV files\n",
    "company_prices_df.to_csv('company_prices.csv', index=False)\n",
    "trusted_prices_df.to_csv('trusted_prices.csv', index=False)\n",
    "\n",
    "print(\"CSV files have been created.\")\n",
    "\n",
    "import pandas as pd\n",
    "\n",
    "# Task 1: Measure Data Accuracy using a Trusted Source\n",
    "\n",
    "# Load datasets\n",
    "company_prices = pd.read_csv('company_prices.csv')\n",
    "trusted_prices = pd.read_csv('trusted_prices.csv')\n",
    "\n",
    "# Merge data on product_id\n",
    "merged_data = pd.merge(company_prices, trusted_prices, on='product_id', suffixes=('_company', '_trusted'))\n",
    "\n",
    "# Check for mismatches between company prices and trusted prices\n",
    "price_mismatches = merged_data[merged_data['price_company'] != merged_data['price_trusted']]\n",
    "\n",
    "# Print mismatched rows\n",
    "if not price_mismatches.empty:\n",
    "    print(\"Price mismatches found:\")\n",
    "    print(price_mismatches[['product_id', 'price_company', 'price_trusted']])\n",
    "else:\n",
    "    print(\"All prices match with the trusted source.\")\n",
    "\n",
    "\n",
    "# Task 2: Detect Incorrect Values (Negative Price Values)\n",
    "\n",
    "# Detect negative price values in company_prices.csv\n",
    "negative_prices = company_prices[company_prices['price'] < 0]\n",
    "\n",
    "# Print rows with negative prices\n",
    "if not negative_prices.empty:\n",
    "    print(\"\\nNegative price values found:\")\n",
    "    print(negative_prices[['product_id', 'price']])\n",
    "else:\n",
    "    print(\"\\nNo negative price values found.\")"
   ]
  },
  {
   "cell_type": "markdown",
   "metadata": {},
   "source": [
    "### Task 2: Detect Incorrect Values\n",
    "\n",
    "**Description**: In `company_prices.csv` , detect any negative price values which are incorrect values for prices."
   ]
  },
  {
   "cell_type": "code",
   "execution_count": null,
   "metadata": {},
   "outputs": [],
   "source": [
    "# Write your code from here"
   ]
  },
  {
   "cell_type": "markdown",
   "metadata": {},
   "source": [
    "### Task 3: Check Missing Data Rates\n",
    "\n",
    "**Description**: Calculate the percentage of missing values in `customer_data.csv` ."
   ]
  },
  {
   "cell_type": "code",
   "execution_count": 2,
   "metadata": {},
   "outputs": [
    {
     "name": "stdout",
     "output_type": "stream",
     "text": [
      "Sample customer_data.csv:\n",
      "   customer_id                   email  phone number\n",
      "0            1    john.doe@example.com  123-456-7890\n",
      "1            2  jane.smith@example.com  987-654-3210\n",
      "2            3                    None  555-555-5555\n",
      "3            4  mary.jones@example.com          None\n",
      "4            5                    None          None\n",
      "Percentage of missing data in each column:\n",
      "customer_id      0.0\n",
      "email           40.0\n",
      "phone number    40.0\n",
      "dtype: float64\n",
      "\n",
      "Overall percentage of missing data in the dataset: 26.67%\n"
     ]
    }
   ],
   "source": [
    "# Write your code from here\n",
    "import pandas as pd\n",
    "\n",
    "# Create a sample dataset with missing data\n",
    "data = {\n",
    "    'customer_id': [1, 2, 3, 4, 5],\n",
    "    'email': ['john.doe@example.com', 'jane.smith@example.com', None, 'mary.jones@example.com', None],\n",
    "    'phone number': ['123-456-7890', '987-654-3210', '555-555-5555', None, None]\n",
    "}\n",
    "\n",
    "# Convert the data into a pandas DataFrame\n",
    "df = pd.DataFrame(data)\n",
    "\n",
    "# Save the DataFrame to a CSV file\n",
    "df.to_csv('customer_data.csv', index=False)\n",
    "\n",
    "# Print the DataFrame to verify the content\n",
    "print(\"Sample customer_data.csv:\")\n",
    "print(df)\n",
    "\n",
    "import pandas as pd\n",
    "\n",
    "# Load the customer_data.csv file\n",
    "df = pd.read_csv('customer_data.csv')\n",
    "\n",
    "# Calculate missing data rates\n",
    "missing_data = df.isnull().mean() * 100  # Percentage of missing data for each column\n",
    "\n",
    "# Print the result\n",
    "print(\"Percentage of missing data in each column:\")\n",
    "print(missing_data)\n",
    "\n",
    "# Calculate the overall missing data percentage\n",
    "overall_missing_data = df.isnull().mean().mean() * 100\n",
    "print(f\"\\nOverall percentage of missing data in the dataset: {overall_missing_data:.2f}%\")"
   ]
  },
  {
   "cell_type": "markdown",
   "metadata": {},
   "source": [
    "### Task 4: Handling Partially Available Records\n",
    "\n",
    "**Description**: In `customer_data.csv` , identify records with missing \"email\" or \"phone number\" and decide whether to drop or fill them."
   ]
  },
  {
   "cell_type": "code",
   "execution_count": 3,
   "metadata": {},
   "outputs": [
    {
     "name": "stdout",
     "output_type": "stream",
     "text": [
      "Original Data:\n",
      "   customer_id                   email  phone number\n",
      "0            1    john.doe@example.com  123-456-7890\n",
      "1            2  jane.smith@example.com  987-654-3210\n",
      "2            3                     NaN  555-555-5555\n",
      "3            4  mary.jones@example.com           NaN\n",
      "4            5                     NaN           NaN\n",
      "\n",
      "Records with missing 'email' or 'phone number':\n",
      "   customer_id                   email  phone number\n",
      "2            3                     NaN  555-555-5555\n",
      "3            4  mary.jones@example.com           NaN\n",
      "4            5                     NaN           NaN\n",
      "\n",
      "Data after dropping rows with missing values:\n",
      "   customer_id                   email  phone number\n",
      "0            1    john.doe@example.com  123-456-7890\n",
      "1            2  jane.smith@example.com  987-654-3210\n",
      "\n",
      "Data after filling missing values:\n",
      "   customer_id                   email  phone number\n",
      "0            1    john.doe@example.com  123-456-7890\n",
      "1            2  jane.smith@example.com  987-654-3210\n",
      "2            3     unknown@example.com  555-555-5555\n",
      "3            4  mary.jones@example.com  000-000-0000\n",
      "4            5     unknown@example.com  000-000-0000\n"
     ]
    }
   ],
   "source": [
    "# Write your code from here\n",
    "import pandas as pd\n",
    "\n",
    "# Load the customer data from the CSV file\n",
    "df = pd.read_csv('customer_data.csv')\n",
    "\n",
    "# Display the DataFrame to check its contents\n",
    "print(\"Original Data:\")\n",
    "print(df)\n",
    "\n",
    "# Identify records with missing 'email' or 'phone number'\n",
    "missing_contact_info = df[df['email'].isnull() | df['phone number'].isnull()]\n",
    "\n",
    "# Print records with missing 'email' or 'phone number'\n",
    "print(\"\\nRecords with missing 'email' or 'phone number':\")\n",
    "print(missing_contact_info)\n",
    "\n",
    "# Decision on how to handle missing data\n",
    "# Option 1: Drop rows with missing 'email' or 'phone number'\n",
    "df_cleaned_drop = df.dropna(subset=['email', 'phone number'])\n",
    "\n",
    "# Option 2: Fill missing values\n",
    "# For this example, we'll fill missing emails with a placeholder and missing phone numbers with a default value\n",
    "df_cleaned_fill = df.copy()\n",
    "df_cleaned_fill['email'].fillna('unknown@example.com', inplace=True)\n",
    "df_cleaned_fill['phone number'].fillna('000-000-0000', inplace=True)\n",
    "\n",
    "# Print the cleaned DataFrame (after dropping or filling missing values)\n",
    "print(\"\\nData after dropping rows with missing values:\")\n",
    "print(df_cleaned_drop)\n",
    "\n",
    "print(\"\\nData after filling missing values:\")\n",
    "print(df_cleaned_fill)"
   ]
  }
 ],
 "metadata": {
  "kernelspec": {
   "display_name": "Python 3",
   "language": "python",
   "name": "python3"
  },
  "language_info": {
   "codemirror_mode": {
    "name": "ipython",
    "version": 3
   },
   "file_extension": ".py",
   "mimetype": "text/x-python",
   "name": "python",
   "nbconvert_exporter": "python",
   "pygments_lexer": "ipython3",
   "version": "3.10.12"
  }
 },
 "nbformat": 4,
 "nbformat_minor": 2
}
