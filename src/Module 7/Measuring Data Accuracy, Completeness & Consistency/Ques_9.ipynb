{
 "cells": [
  {
   "cell_type": "markdown",
   "metadata": {},
   "source": [
    "# Measuring Completeness\n",
    "\n",
    "**Activity Overview**: Evaluate data completeness by checking missing data rates and handling partially available records.\n",
    "\n",
    "## Title: Customer Profiles\n",
    "\n",
    "**Task**: Calculate the missing data rate for customer profiles.\n",
    "\n",
    "**Steps**:\n",
    "1. List all required fields for a complete customer profile (e.g., name, address, email,\n",
    "phone number).\n",
    "2. Analyze the dataset to count how many profiles have missing fields.\n",
    "3. Calculate the percentage of missing data fields across all profiles."
   ]
  },
  {
   "cell_type": "code",
   "execution_count": 1,
   "metadata": {},
   "outputs": [],
   "source": [
    "# Write your code from here\n",
    "import pandas as pd\n",
    "\n",
    "# Create a DataFrame\n",
    "data = {\n",
    "    'name': ['John Doe', 'Jane Smith', 'Bill Gates', 'Elon Musk'],\n",
    "    'address': ['123 Main St', '456 Oak St', '789 Pine St', '101 Tech Ave'],\n",
    "    'email': ['john@example.com', '', 'bill@microsoft.com', 'elon@spacex.com'],\n",
    "    'phone number': ['555-1234', '555-5678', '', '555-9876']\n",
    "}\n",
    "\n",
    "df = pd.DataFrame(data)\n",
    "\n",
    "# Save DataFrame to CSV\n",
    "df.to_csv('customer_data.csv', index=False)"
   ]
  },
  {
   "cell_type": "code",
   "execution_count": 2,
   "metadata": {},
   "outputs": [
    {
     "name": "stdout",
     "output_type": "stream",
     "text": [
      "Missing data percentage per field:\n",
      "name             0.0\n",
      "address          0.0\n",
      "email           25.0\n",
      "phone number    25.0\n",
      "dtype: float64\n",
      "Overall percentage of profiles with missing data: 50.00%\n"
     ]
    }
   ],
   "source": [
    "import pandas as pd\n",
    "\n",
    "def load_data(file_path):\n",
    "    \"\"\"Loads data from a CSV file and handles exceptions.\"\"\"\n",
    "    try:\n",
    "        # Load the CSV with additional missing values represented by 'na', 'n/a'\n",
    "        df = pd.read_csv(file_path, na_values=['na', 'n/a', ''])\n",
    "        return df\n",
    "    except FileNotFoundError:\n",
    "        print(f\"Error: The file {file_path} does not exist.\")\n",
    "        return None\n",
    "    except pd.errors.ParserError:\n",
    "        print(\"Error: The file could not be parsed.\")\n",
    "        return None\n",
    "\n",
    "def calculate_missing_data_percentage(df):\n",
    "    \"\"\"Calculates the missing data percentage for required fields.\"\"\"\n",
    "    required_fields = ['name', 'address', 'email', 'phone number']\n",
    "    \n",
    "    # Ensure required fields exist in the DataFrame\n",
    "    for field in required_fields:\n",
    "        if field not in df.columns:\n",
    "            print(f\"Error: Missing required field: {field}\")\n",
    "            return None\n",
    "    \n",
    "    # Check for missing data in each field\n",
    "    missing_data = df[required_fields].isnull()\n",
    "    \n",
    "    # Calculate the number of missing values per field\n",
    "    missing_per_field = missing_data.sum()\n",
    "    \n",
    "    # Calculate the total number of profiles\n",
    "    total_profiles = len(df)\n",
    "    \n",
    "    # Calculate the percentage of missing data per field\n",
    "    missing_percentage = (missing_per_field / total_profiles) * 100\n",
    "    \n",
    "    # Calculate the overall percentage of profiles with missing data in any required field\n",
    "    missing_profiles = missing_data.any(axis=1).sum()\n",
    "    missing_data_percentage = (missing_profiles / total_profiles) * 100\n",
    "    \n",
    "    return missing_percentage, missing_data_percentage\n",
    "\n",
    "def main():\n",
    "    # Load the data\n",
    "    df = load_data('customer_data.csv')\n",
    "    if df is not None:\n",
    "        # Calculate missing data percentages\n",
    "        missing_percentage, missing_data_percentage = calculate_missing_data_percentage(df)\n",
    "        \n",
    "        if missing_percentage is not None:\n",
    "            print(f\"Missing data percentage per field:\\n{missing_percentage}\")\n",
    "            print(f\"Overall percentage of profiles with missing data: {missing_data_percentage:.2f}%\")\n",
    "\n",
    "if __name__ == \"__main__\":\n",
    "    main()"
   ]
  }
 ],
 "metadata": {
  "kernelspec": {
   "display_name": "Python 3",
   "language": "python",
   "name": "python3"
  },
  "language_info": {
   "codemirror_mode": {
    "name": "ipython",
    "version": 3
   },
   "file_extension": ".py",
   "mimetype": "text/x-python",
   "name": "python",
   "nbconvert_exporter": "python",
   "pygments_lexer": "ipython3",
   "version": "3.10.12"
  }
 },
 "nbformat": 4,
 "nbformat_minor": 2
}
