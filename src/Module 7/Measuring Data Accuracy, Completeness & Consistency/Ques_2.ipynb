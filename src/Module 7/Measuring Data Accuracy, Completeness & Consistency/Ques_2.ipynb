{
 "cells": [
  {
   "cell_type": "markdown",
   "metadata": {},
   "source": [
    "## Find Conflicting Values Across Datasets\n",
    "\n",
    "**Description**: You have two datasets: `crm_customers.csv` and `erp_customers.csv` . Find customers with conflicting \"email\" information."
   ]
  },
  {
   "cell_type": "code",
   "execution_count": 1,
   "metadata": {},
   "outputs": [
    {
     "name": "stdout",
     "output_type": "stream",
     "text": [
      "CSV files have been generated: crm_customers.csv, erp_customers.csv\n",
      "Error loading file crm_customers.csv: Usecols do not match columns, columns expected but not found: ['product_id']\n",
      "Error loading file erp_customers.csv: Usecols do not match columns, columns expected but not found: ['product_id']\n",
      "Error: One or more files could not be loaded.\n"
     ]
    }
   ],
   "source": [
    "# Write your code from here\n",
    "import pandas as pd\n",
    "\n",
    "# Sample data for crm_customers.csv\n",
    "crm_data = {\n",
    "    'customer_id': [12345, 67890, 11223],\n",
    "    'name': ['John Doe', 'Jane Smith', 'Alice Brown'],\n",
    "    'email': ['john.doe@example.com', 'jane.smith@example.com', 'alice.brown@example.com']\n",
    "}\n",
    "\n",
    "# Create DataFrame for crm_customers\n",
    "crm_df = pd.DataFrame(crm_data)\n",
    "\n",
    "# Write to crm_customers.csv\n",
    "crm_df.to_csv('crm_customers.csv', index=False)\n",
    "\n",
    "# Sample data for erp_customers.csv\n",
    "erp_data = {\n",
    "    'customer_id': [12345, 67890, 11223],\n",
    "    'name': ['John Doe', 'Jane Smith', 'Alice Brown'],\n",
    "    'email': ['johnny.doe@example.com', 'jsmith@example.com', 'alice.brown@example.com']\n",
    "}\n",
    "\n",
    "# Create DataFrame for erp_customers\n",
    "erp_df = pd.DataFrame(erp_data)\n",
    "\n",
    "# Write to erp_customers.csv\n",
    "erp_df.to_csv('erp_customers.csv', index=False)\n",
    "\n",
    "print(\"CSV files have been generated: crm_customers.csv, erp_customers.csv\")\n",
    "\n",
    "import pandas as pd\n",
    "import os\n",
    "\n",
    "# Function to check if file exists\n",
    "def check_file_exists(file_path):\n",
    "    if not os.path.isfile(file_path):\n",
    "        raise FileNotFoundError(f\"The file {file_path} does not exist.\")\n",
    "    \n",
    "# Function to load datasets with error handling\n",
    "def load_data(file_path, columns=None):\n",
    "    try:\n",
    "        check_file_exists(file_path)\n",
    "        df = pd.read_csv(file_path, usecols=columns) if columns else pd.read_csv(file_path)\n",
    "        return df\n",
    "    except Exception as e:\n",
    "        print(f\"Error loading file {file_path}: {e}\")\n",
    "        return None\n",
    "\n",
    "# Function to find conflicting emails\n",
    "def find_conflicting_emails(crm_file, erp_file):\n",
    "    # Columns to check for\n",
    "    columns = ['product_id', 'email']\n",
    "\n",
    "    # Load CRM and ERP datasets\n",
    "    crm_df = load_data(crm_file, columns)\n",
    "    erp_df = load_data(erp_file, columns)\n",
    "\n",
    "    if crm_df is None or erp_df is None:\n",
    "        print(\"Error: One or more files could not be loaded.\")\n",
    "        return\n",
    "    \n",
    "    # Merge datasets on 'email' column to find conflicts\n",
    "    merged = pd.merge(crm_df, erp_df, on='email', how='outer', indicator=True)\n",
    "\n",
    "    # Filter for conflicting emails (rows that are only present in one of the datasets)\n",
    "    conflicting_emails = merged[merged['_merge'] != 'both']\n",
    "    \n",
    "    if conflicting_emails.empty:\n",
    "        print(\"No conflicting emails found.\")\n",
    "    else:\n",
    "        print(\"Conflicting emails found:\")\n",
    "        print(conflicting_emails)\n",
    "\n",
    "# Specify file paths\n",
    "crm_file = 'crm_customers.csv'\n",
    "erp_file = 'erp_customers.csv'\n",
    "\n",
    "# Call the function to find conflicting emails\n",
    "find_conflicting_emails(crm_file, erp_file)"
   ]
  }
 ],
 "metadata": {
  "kernelspec": {
   "display_name": "Python 3",
   "language": "python",
   "name": "python3"
  },
  "language_info": {
   "codemirror_mode": {
    "name": "ipython",
    "version": 3
   },
   "file_extension": ".py",
   "mimetype": "text/x-python",
   "name": "python",
   "nbconvert_exporter": "python",
   "pygments_lexer": "ipython3",
   "version": "3.10.12"
  }
 },
 "nbformat": 4,
 "nbformat_minor": 2
}
