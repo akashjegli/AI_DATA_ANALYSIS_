{
 "cells": [
  {
   "cell_type": "markdown",
   "metadata": {},
   "source": [
    "## Advanced Consistency Check with Hierarchical Data\n",
    "\n",
    "**Description**: You have two datasets `orders.csv` and `order_items.csv` . Perform a consistency check to ensure each order in `orders.csv` has corresponding items in `order_items.csv` ."
   ]
  },
  {
   "cell_type": "code",
   "execution_count": 2,
   "metadata": {},
   "outputs": [
    {
     "name": "stdout",
     "output_type": "stream",
     "text": [
      "Error: File 'orders.csv' not found.\n",
      "Error: File 'order_items.csv' not found.\n",
      "One or both datasets failed to load, exiting the check.\n"
     ]
    }
   ],
   "source": [
    "# Write your code from here\n",
    "import pandas as pd\n",
    "import os\n",
    "\n",
    "# Function to load a CSV file with error handling\n",
    "def load_csv(file_path):\n",
    "    try:\n",
    "        # Check if file exists\n",
    "        if not os.path.exists(file_path):\n",
    "            raise FileNotFoundError(f\"File '{file_path}' not found.\")\n",
    "        \n",
    "        # Load the CSV file into a DataFrame\n",
    "        df = pd.read_csv(file_path)\n",
    "        \n",
    "        # Check for missing columns in the expected format\n",
    "        required_columns = ['order_id']  # Assuming 'order_id' is required in both datasets\n",
    "        if not all(col in df.columns for col in required_columns):\n",
    "            raise ValueError(f\"The CSV file '{file_path}' is missing required columns.\")\n",
    "        \n",
    "        return df\n",
    "    \n",
    "    except FileNotFoundError as e:\n",
    "        print(f\"Error: {e}\")\n",
    "        return None\n",
    "    except ValueError as e:\n",
    "        print(f\"Error: {e}\")\n",
    "        return None\n",
    "    except pd.errors.EmptyDataError:\n",
    "        print(f\"Error: The file '{file_path}' is empty.\")\n",
    "        return None\n",
    "    except Exception as e:\n",
    "        print(f\"An unexpected error occurred while reading '{file_path}': {e}\")\n",
    "        return None\n",
    "\n",
    "# Function to perform the consistency check\n",
    "def check_consistency(orders_df, order_items_df):\n",
    "    if orders_df is None or order_items_df is None:\n",
    "        print(\"One or both datasets failed to load, exiting the check.\")\n",
    "        return\n",
    "\n",
    "    # Ensure order_ids are in the same format for both datasets\n",
    "    orders_df['order_id'] = orders_df['order_id'].astype(str)\n",
    "    order_items_df['order_id'] = order_items_df['order_id'].astype(str)\n",
    "    \n",
    "    # Merge the two datasets on 'order_id' to find matching entries\n",
    "    merged_df = pd.merge(orders_df, order_items_df, on='order_id', how='left', indicator=True)\n",
    "    \n",
    "    # Identify orders that have no corresponding items\n",
    "    missing_items = merged_df[merged_df['_merge'] == 'left_only']\n",
    "    \n",
    "    # Display the missing order IDs\n",
    "    if not missing_items.empty:\n",
    "        print(f\"Orders missing corresponding items: {missing_items['order_id'].tolist()}\")\n",
    "    else:\n",
    "        print(\"All orders have corresponding items in order_items.csv.\")\n",
    "    \n",
    "    # Optionally, you could save the missing items to a new CSV\n",
    "    missing_items.to_csv('missing_order_items.csv', index=False)\n",
    "\n",
    "# Main function to load data and check consistency\n",
    "def main():\n",
    "    orders_file = 'orders.csv'\n",
    "    order_items_file = 'order_items.csv'\n",
    "\n",
    "    # Load the datasets\n",
    "    orders_df = load_csv(orders_file)\n",
    "    order_items_df = load_csv(order_items_file)\n",
    "    \n",
    "    # Perform the consistency check\n",
    "    check_consistency(orders_df, order_items_df)\n",
    "\n",
    "if __name__ == \"__main__\":\n",
    "    main()"
   ]
  }
 ],
 "metadata": {
  "kernelspec": {
   "display_name": "Python 3",
   "language": "python",
   "name": "python3"
  },
  "language_info": {
   "codemirror_mode": {
    "name": "ipython",
    "version": 3
   },
   "file_extension": ".py",
   "mimetype": "text/x-python",
   "name": "python",
   "nbconvert_exporter": "python",
   "pygments_lexer": "ipython3",
   "version": "3.10.12"
  }
 },
 "nbformat": 4,
 "nbformat_minor": 2
}
