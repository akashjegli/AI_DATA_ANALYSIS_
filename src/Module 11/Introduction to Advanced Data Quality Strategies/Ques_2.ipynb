{
 "cells": [
  {
   "cell_type": "code",
   "execution_count": 1,
   "metadata": {},
   "outputs": [
    {
     "name": "stdout",
     "output_type": "stream",
     "text": [
      "         Name         DOB                   Address                  Email  \\\n",
      "0    John Doe  1990-05-15  123 Main St, Springfield     john.doe@email.com   \n",
      "1     Main St  1985-10-30   456 Elm St, Shelbyville  jane_smith22@mail.com   \n",
      "2  Jane Smith        None                      None                   None   \n",
      "3      Elm St        None                      None                   None   \n",
      "\n",
      "            Phone  \n",
      "0  (555) 123-4567  \n",
      "1  (555) 987-6543  \n",
      "2            None  \n",
      "3            None  \n"
     ]
    }
   ],
   "source": [
    "# Sample unstructured text (could be loaded from a file in practice)\n",
    "text = \"\"\"\n",
    "John Doe, born on 1990-05-15, lives at 123 Main St, Springfield. \n",
    "Contact: john.doe@email.com, Phone: (555) 123-4567.\n",
    "Jane Smith, born on 1985-10-30, lives at 456 Elm St, Shelbyville. \n",
    "Contact: jane_smith22@mail.com, Phone: (555) 987-6543.\n",
    "\"\"\"\n",
    "\n",
    "import re\n",
    "import pandas as pd\n",
    "\n",
    "# Define regex patterns for extraction\n",
    "name_pattern = r\"([A-Z][a-z]+ [A-Z][a-z]+)\"\n",
    "dob_pattern = r\"born on (\\d{4}-\\d{2}-\\d{2})\"\n",
    "address_pattern = r\"lives at ([\\d\\w\\s,]+)\\.\"\n",
    "email_pattern = r\"([a-zA-Z0-9_.+-]+@[a-zA-Z0-9-]+\\.[a-zA-Z0-9-.]+)\"\n",
    "phone_pattern = r\"Phone: ([\\(\\)\\d\\- ]+)\"\n",
    "\n",
    "# Find all matches\n",
    "names = re.findall(name_pattern, text)\n",
    "dobs = re.findall(dob_pattern, text)\n",
    "addresses = re.findall(address_pattern, text)\n",
    "emails = re.findall(email_pattern, text)\n",
    "phones = re.findall(phone_pattern, text)\n",
    "\n",
    "# Combine extracted data into a structured format\n",
    "data = []\n",
    "for i in range(len(names)):\n",
    "    data.append({\n",
    "        'Name': names[i] if i < len(names) else None,\n",
    "        'DOB': dobs[i] if i < len(dobs) else None,\n",
    "        'Address': addresses[i] if i < len(addresses) else None,\n",
    "        'Email': emails[i] if i < len(emails) else None,\n",
    "        'Phone': phones[i] if i < len(phones) else None\n",
    "    })\n",
    "\n",
    "df = pd.DataFrame(data)\n",
    "print(df)"
   ]
  }
 ],
 "metadata": {
  "kernelspec": {
   "display_name": "Python 3",
   "language": "python",
   "name": "python3"
  },
  "language_info": {
   "codemirror_mode": {
    "name": "ipython",
    "version": 3
   },
   "file_extension": ".py",
   "mimetype": "text/x-python",
   "name": "python",
   "nbconvert_exporter": "python",
   "pygments_lexer": "ipython3",
   "version": "3.10.12"
  }
 },
 "nbformat": 4,
 "nbformat_minor": 2
}
