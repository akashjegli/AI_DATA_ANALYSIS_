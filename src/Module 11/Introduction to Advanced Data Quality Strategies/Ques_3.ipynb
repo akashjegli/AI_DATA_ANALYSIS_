{
 "cells": [
  {
   "cell_type": "code",
   "execution_count": 2,
   "metadata": {},
   "outputs": [
    {
     "name": "stderr",
     "output_type": "stream",
     "text": [
      ".\n",
      "----------------------------------------------------------------------\n",
      "Ran 1 test in 0.001s\n",
      "\n",
      "OK\n"
     ]
    },
    {
     "name": "stdout",
     "output_type": "stream",
     "text": [
      "Accuracy: 0.45\n",
      "Classification Report:\n",
      "               precision    recall  f1-score   support\n",
      "\n",
      "           0       0.33      0.22      0.27         9\n",
      "           1       0.50      0.64      0.56        11\n",
      "\n",
      "    accuracy                           0.45        20\n",
      "   macro avg       0.42      0.43      0.41        20\n",
      "weighted avg       0.42      0.45      0.43        20\n",
      "\n"
     ]
    }
   ],
   "source": [
    "import pandas as pd\n",
    "import numpy as np\n",
    "from sklearn.model_selection import train_test_split\n",
    "from sklearn.ensemble import RandomForestClassifier\n",
    "from sklearn.metrics import classification_report, accuracy_score\n",
    "\n",
    "# 1. Create a mock dataset\n",
    "np.random.seed(42)\n",
    "data = {\n",
    "    'age': np.random.randint(18, 70, 100),\n",
    "    'salary': np.random.randint(20000, 120000, 100),\n",
    "    'missing_values': np.random.randint(0, 2, 100),  # 0: no missing, 1: missing\n",
    "    'outlier_score': np.random.rand(100),            # 0-1, higher means more outlier\n",
    "    'quality_issue': np.random.randint(0, 2, 100)    # 0: good, 1: issue\n",
    "}\n",
    "df = pd.DataFrame(data)\n",
    "\n",
    "# 2. Train a machine learning model\n",
    "X = df[['age', 'salary', 'missing_values', 'outlier_score']]\n",
    "y = df['quality_issue']\n",
    "\n",
    "X_train, X_test, y_train, y_test = train_test_split(X, y, test_size=0.2, random_state=42)\n",
    "\n",
    "model = RandomForestClassifier(random_state=42)\n",
    "model.fit(X_train, y_train)\n",
    "\n",
    "# 3. Evaluate the model performance\n",
    "y_pred = model.predict(X_test)\n",
    "print(\"Accuracy:\", accuracy_score(y_test, y_pred))\n",
    "print(\"Classification Report:\\n\", classification_report(y_test, y_pred))\n",
    "\n",
    "# Error handling: Check for empty data or training issues\n",
    "try:\n",
    "    assert not df.empty, \"Dataset is empty.\"\n",
    "    assert len(set(y)) > 1, \"Not enough classes to train.\"\n",
    "except AssertionError as e:\n",
    "    print(f\"Data Error: {e}\")\n",
    "\n",
    "# Unit test for prediction shape\n",
    "import unittest\n",
    "\n",
    "class TestMLModel(unittest.TestCase):\n",
    "    def test_prediction_shape(self):\n",
    "        self.assertEqual(len(y_pred), len(y_test))\n",
    "\n",
    "if __name__ == \"__main__\":\n",
    "    unittest.main(argv=[''], exit=False)"
   ]
  }
 ],
 "metadata": {
  "kernelspec": {
   "display_name": "Python 3",
   "language": "python",
   "name": "python3"
  },
  "language_info": {
   "codemirror_mode": {
    "name": "ipython",
    "version": 3
   },
   "file_extension": ".py",
   "mimetype": "text/x-python",
   "name": "python",
   "nbconvert_exporter": "python",
   "pygments_lexer": "ipython3",
   "version": "3.10.12"
  }
 },
 "nbformat": 4,
 "nbformat_minor": 2
}
