{
 "cells": [
  {
   "cell_type": "code",
   "execution_count": 4,
   "metadata": {},
   "outputs": [
    {
     "name": "stdout",
     "output_type": "stream",
     "text": [
      "Missing values per column:\n",
      " id             0\n",
      "num_col        2\n",
      "cat_col        2\n",
      "skewed_col     2\n",
      "feature1       1\n",
      "feature2       1\n",
      "target         3\n",
      "date_column    0\n",
      "value          2\n",
      "dtype: int64\n"
     ]
    },
    {
     "name": "stderr",
     "output_type": "stream",
     "text": [
      "/tmp/ipykernel_3364/1672288771.py:68: FutureWarning: Series.fillna with 'method' is deprecated and will raise in a future version. Use obj.ffill() or obj.bfill() instead.\n",
      "  df[value_col] = df[value_col].fillna(method='ffill').fillna(method='bfill')\n"
     ]
    }
   ],
   "source": [
    "import pandas as pd\n",
    "from sklearn.impute import KNNImputer\n",
    "from sklearn.linear_model import LinearRegression\n",
    "\n",
    "def load_data(file_path):\n",
    "    return pd.read_csv(file_path)\n",
    "\n",
    "def detect_missing(df):\n",
    "    print(\"Missing values per column:\\n\", df.isnull().sum())\n",
    "\n",
    "def drop_missing_rows(df):\n",
    "    return df.dropna()\n",
    "\n",
    "def drop_missing_columns(df):\n",
    "    return df.dropna(axis=1)\n",
    "\n",
    "def mean_imputation(df, column):\n",
    "    if column in df.columns:\n",
    "        df[column] = df[column].fillna(df[column].mean())\n",
    "    return df\n",
    "\n",
    "def median_imputation(df, column):\n",
    "    if column in df.columns:\n",
    "        df[column] = df[column].fillna(df[column].median())\n",
    "    return df\n",
    "\n",
    "def mode_imputation(df, column):\n",
    "    if column in df.columns:\n",
    "        mode_val = df[column].mode()\n",
    "        if not mode_val.empty:\n",
    "            df[column] = df[column].fillna(mode_val[0])\n",
    "    return df\n",
    "\n",
    "def knn_imputation(df, n_neighbors=3):\n",
    "    numeric = df.select_dtypes(include='number')\n",
    "    missing_cols = numeric.columns[numeric.isnull().any()]\n",
    "    if not missing_cols.empty:\n",
    "        imputer = KNNImputer(n_neighbors=n_neighbors)\n",
    "        numeric[missing_cols] = imputer.fit_transform(numeric[missing_cols])\n",
    "        df[numeric.columns] = numeric\n",
    "    return df\n",
    "\n",
    "def predictive_imputation(df, target):\n",
    "    if target not in df.columns or not df[target].isnull().any():\n",
    "        return df\n",
    "\n",
    "    feature_candidates = df.select_dtypes(include='number').drop(columns=[target]).columns\n",
    "    non_missing = df[df[target].notnull()].dropna(subset=feature_candidates)\n",
    "    to_predict = df[df[target].isnull()]\n",
    "    \n",
    "    if non_missing.empty or to_predict.empty:\n",
    "        return df\n",
    "\n",
    "    model = LinearRegression()\n",
    "    model.fit(non_missing[feature_candidates], non_missing[target])\n",
    "    \n",
    "    to_predict = to_predict.copy()\n",
    "    for col in feature_candidates:\n",
    "        if to_predict[col].isnull().any():\n",
    "            to_predict[col] = to_predict[col].fillna(non_missing[col].mean())\n",
    "    \n",
    "    df.loc[df[target].isnull(), target] = model.predict(to_predict[feature_candidates])\n",
    "    return df\n",
    "\n",
    "def time_series_fill(df, date_col, value_col):\n",
    "    if date_col in df.columns and value_col in df.columns:\n",
    "        df = df.sort_values(date_col)\n",
    "        df[value_col] = df[value_col].fillna(method='ffill').fillna(method='bfill')\n",
    "    return df\n",
    "\n",
    "# --- Example usage ---\n",
    "df = load_data('data.csv')\n",
    "detect_missing(df)\n",
    "df = mean_imputation(df, 'num_col')\n",
    "df = mode_imputation(df, 'cat_col')\n",
    "df = median_imputation(df, 'skewed_col')\n",
    "df = knn_imputation(df)\n",
    "df = predictive_imputation(df, 'target')\n",
    "df = time_series_fill(df, 'date_column', 'value')\n"
   ]
  }
 ],
 "metadata": {
  "kernelspec": {
   "display_name": "Python 3",
   "language": "python",
   "name": "python3"
  },
  "language_info": {
   "codemirror_mode": {
    "name": "ipython",
    "version": 3
   },
   "file_extension": ".py",
   "mimetype": "text/x-python",
   "name": "python",
   "nbconvert_exporter": "python",
   "pygments_lexer": "ipython3",
   "version": "3.10.12"
  }
 },
 "nbformat": 4,
 "nbformat_minor": 2
}
